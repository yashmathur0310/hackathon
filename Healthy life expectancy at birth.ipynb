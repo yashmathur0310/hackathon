{
 "cells": [
  {
   "cell_type": "code",
   "execution_count": 1,
   "metadata": {},
   "outputs": [],
   "source": [
    "import pandas as pd \n",
    "import numpy as np \n",
    "import seaborn as sns\n",
    "import matplotlib.pyplot as plt "
   ]
  },
  {
   "cell_type": "code",
   "execution_count": 2,
   "metadata": {},
   "outputs": [],
   "source": [
    "df=pd.read_excel('DataPanelWHR2021C2.xlsx')"
   ]
  },
  {
   "cell_type": "code",
   "execution_count": 3,
   "metadata": {},
   "outputs": [
    {
     "data": {
      "text/html": [
       "<div>\n",
       "<style scoped>\n",
       "    .dataframe tbody tr th:only-of-type {\n",
       "        vertical-align: middle;\n",
       "    }\n",
       "\n",
       "    .dataframe tbody tr th {\n",
       "        vertical-align: top;\n",
       "    }\n",
       "\n",
       "    .dataframe thead th {\n",
       "        text-align: right;\n",
       "    }\n",
       "</style>\n",
       "<table border=\"1\" class=\"dataframe\">\n",
       "  <thead>\n",
       "    <tr style=\"text-align: right;\">\n",
       "      <th></th>\n",
       "      <th>Country name</th>\n",
       "      <th>year</th>\n",
       "      <th>Life Ladder</th>\n",
       "      <th>Log GDP per capita</th>\n",
       "      <th>Social support</th>\n",
       "      <th>Healthy life expectancy at birth</th>\n",
       "      <th>Freedom to make life choices</th>\n",
       "      <th>Generosity</th>\n",
       "      <th>Perceptions of corruption</th>\n",
       "      <th>Positive affect</th>\n",
       "      <th>Negative affect</th>\n",
       "    </tr>\n",
       "  </thead>\n",
       "  <tbody>\n",
       "    <tr>\n",
       "      <th>0</th>\n",
       "      <td>Afghanistan</td>\n",
       "      <td>2008</td>\n",
       "      <td>3.723590</td>\n",
       "      <td>7.370100</td>\n",
       "      <td>0.450662</td>\n",
       "      <td>50.799999</td>\n",
       "      <td>0.718114</td>\n",
       "      <td>0.167640</td>\n",
       "      <td>0.881686</td>\n",
       "      <td>0.517637</td>\n",
       "      <td>0.258195</td>\n",
       "    </tr>\n",
       "    <tr>\n",
       "      <th>1</th>\n",
       "      <td>Afghanistan</td>\n",
       "      <td>2009</td>\n",
       "      <td>4.401778</td>\n",
       "      <td>7.539972</td>\n",
       "      <td>0.552308</td>\n",
       "      <td>51.200001</td>\n",
       "      <td>0.678896</td>\n",
       "      <td>0.190099</td>\n",
       "      <td>0.850035</td>\n",
       "      <td>0.583926</td>\n",
       "      <td>0.237092</td>\n",
       "    </tr>\n",
       "    <tr>\n",
       "      <th>2</th>\n",
       "      <td>Afghanistan</td>\n",
       "      <td>2010</td>\n",
       "      <td>4.758381</td>\n",
       "      <td>7.646709</td>\n",
       "      <td>0.539075</td>\n",
       "      <td>51.599998</td>\n",
       "      <td>0.600127</td>\n",
       "      <td>0.120590</td>\n",
       "      <td>0.706766</td>\n",
       "      <td>0.618265</td>\n",
       "      <td>0.275324</td>\n",
       "    </tr>\n",
       "    <tr>\n",
       "      <th>3</th>\n",
       "      <td>Afghanistan</td>\n",
       "      <td>2011</td>\n",
       "      <td>3.831719</td>\n",
       "      <td>7.619532</td>\n",
       "      <td>0.521104</td>\n",
       "      <td>51.919998</td>\n",
       "      <td>0.495901</td>\n",
       "      <td>0.162427</td>\n",
       "      <td>0.731109</td>\n",
       "      <td>0.611387</td>\n",
       "      <td>0.267175</td>\n",
       "    </tr>\n",
       "    <tr>\n",
       "      <th>4</th>\n",
       "      <td>Afghanistan</td>\n",
       "      <td>2012</td>\n",
       "      <td>3.782938</td>\n",
       "      <td>7.705479</td>\n",
       "      <td>0.520637</td>\n",
       "      <td>52.240002</td>\n",
       "      <td>0.530935</td>\n",
       "      <td>0.236032</td>\n",
       "      <td>0.775620</td>\n",
       "      <td>0.710385</td>\n",
       "      <td>0.267919</td>\n",
       "    </tr>\n",
       "    <tr>\n",
       "      <th>...</th>\n",
       "      <td>...</td>\n",
       "      <td>...</td>\n",
       "      <td>...</td>\n",
       "      <td>...</td>\n",
       "      <td>...</td>\n",
       "      <td>...</td>\n",
       "      <td>...</td>\n",
       "      <td>...</td>\n",
       "      <td>...</td>\n",
       "      <td>...</td>\n",
       "      <td>...</td>\n",
       "    </tr>\n",
       "    <tr>\n",
       "      <th>1944</th>\n",
       "      <td>Zimbabwe</td>\n",
       "      <td>2016</td>\n",
       "      <td>3.735400</td>\n",
       "      <td>7.984372</td>\n",
       "      <td>0.768425</td>\n",
       "      <td>54.400002</td>\n",
       "      <td>0.732971</td>\n",
       "      <td>-0.094634</td>\n",
       "      <td>0.723612</td>\n",
       "      <td>0.737636</td>\n",
       "      <td>0.208555</td>\n",
       "    </tr>\n",
       "    <tr>\n",
       "      <th>1945</th>\n",
       "      <td>Zimbabwe</td>\n",
       "      <td>2017</td>\n",
       "      <td>3.638300</td>\n",
       "      <td>8.015738</td>\n",
       "      <td>0.754147</td>\n",
       "      <td>55.000000</td>\n",
       "      <td>0.752826</td>\n",
       "      <td>-0.097645</td>\n",
       "      <td>0.751208</td>\n",
       "      <td>0.806428</td>\n",
       "      <td>0.224051</td>\n",
       "    </tr>\n",
       "    <tr>\n",
       "      <th>1946</th>\n",
       "      <td>Zimbabwe</td>\n",
       "      <td>2018</td>\n",
       "      <td>3.616480</td>\n",
       "      <td>8.048798</td>\n",
       "      <td>0.775388</td>\n",
       "      <td>55.599998</td>\n",
       "      <td>0.762675</td>\n",
       "      <td>-0.068427</td>\n",
       "      <td>0.844209</td>\n",
       "      <td>0.710119</td>\n",
       "      <td>0.211726</td>\n",
       "    </tr>\n",
       "    <tr>\n",
       "      <th>1947</th>\n",
       "      <td>Zimbabwe</td>\n",
       "      <td>2019</td>\n",
       "      <td>2.693523</td>\n",
       "      <td>7.950132</td>\n",
       "      <td>0.759162</td>\n",
       "      <td>56.200001</td>\n",
       "      <td>0.631908</td>\n",
       "      <td>-0.063791</td>\n",
       "      <td>0.830652</td>\n",
       "      <td>0.716004</td>\n",
       "      <td>0.235354</td>\n",
       "    </tr>\n",
       "    <tr>\n",
       "      <th>1948</th>\n",
       "      <td>Zimbabwe</td>\n",
       "      <td>2020</td>\n",
       "      <td>3.159802</td>\n",
       "      <td>7.828757</td>\n",
       "      <td>0.717243</td>\n",
       "      <td>56.799999</td>\n",
       "      <td>0.643303</td>\n",
       "      <td>-0.008696</td>\n",
       "      <td>0.788523</td>\n",
       "      <td>0.702573</td>\n",
       "      <td>0.345736</td>\n",
       "    </tr>\n",
       "  </tbody>\n",
       "</table>\n",
       "<p>1949 rows × 11 columns</p>\n",
       "</div>"
      ],
      "text/plain": [
       "     Country name  year  Life Ladder  Log GDP per capita  Social support  \\\n",
       "0     Afghanistan  2008     3.723590            7.370100        0.450662   \n",
       "1     Afghanistan  2009     4.401778            7.539972        0.552308   \n",
       "2     Afghanistan  2010     4.758381            7.646709        0.539075   \n",
       "3     Afghanistan  2011     3.831719            7.619532        0.521104   \n",
       "4     Afghanistan  2012     3.782938            7.705479        0.520637   \n",
       "...           ...   ...          ...                 ...             ...   \n",
       "1944     Zimbabwe  2016     3.735400            7.984372        0.768425   \n",
       "1945     Zimbabwe  2017     3.638300            8.015738        0.754147   \n",
       "1946     Zimbabwe  2018     3.616480            8.048798        0.775388   \n",
       "1947     Zimbabwe  2019     2.693523            7.950132        0.759162   \n",
       "1948     Zimbabwe  2020     3.159802            7.828757        0.717243   \n",
       "\n",
       "      Healthy life expectancy at birth  Freedom to make life choices  \\\n",
       "0                            50.799999                      0.718114   \n",
       "1                            51.200001                      0.678896   \n",
       "2                            51.599998                      0.600127   \n",
       "3                            51.919998                      0.495901   \n",
       "4                            52.240002                      0.530935   \n",
       "...                                ...                           ...   \n",
       "1944                         54.400002                      0.732971   \n",
       "1945                         55.000000                      0.752826   \n",
       "1946                         55.599998                      0.762675   \n",
       "1947                         56.200001                      0.631908   \n",
       "1948                         56.799999                      0.643303   \n",
       "\n",
       "      Generosity  Perceptions of corruption  Positive affect  Negative affect  \n",
       "0       0.167640                   0.881686         0.517637         0.258195  \n",
       "1       0.190099                   0.850035         0.583926         0.237092  \n",
       "2       0.120590                   0.706766         0.618265         0.275324  \n",
       "3       0.162427                   0.731109         0.611387         0.267175  \n",
       "4       0.236032                   0.775620         0.710385         0.267919  \n",
       "...          ...                        ...              ...              ...  \n",
       "1944   -0.094634                   0.723612         0.737636         0.208555  \n",
       "1945   -0.097645                   0.751208         0.806428         0.224051  \n",
       "1946   -0.068427                   0.844209         0.710119         0.211726  \n",
       "1947   -0.063791                   0.830652         0.716004         0.235354  \n",
       "1948   -0.008696                   0.788523         0.702573         0.345736  \n",
       "\n",
       "[1949 rows x 11 columns]"
      ]
     },
     "execution_count": 3,
     "metadata": {},
     "output_type": "execute_result"
    }
   ],
   "source": [
    "df"
   ]
  },
  {
   "cell_type": "code",
   "execution_count": 4,
   "metadata": {},
   "outputs": [
    {
     "data": {
      "text/plain": [
       "Country name                          0\n",
       "year                                  0\n",
       "Life Ladder                           0\n",
       "Log GDP per capita                   36\n",
       "Social support                       13\n",
       "Healthy life expectancy at birth     55\n",
       "Freedom to make life choices         32\n",
       "Generosity                           89\n",
       "Perceptions of corruption           110\n",
       "Positive affect                      22\n",
       "Negative affect                      16\n",
       "dtype: int64"
      ]
     },
     "execution_count": 4,
     "metadata": {},
     "output_type": "execute_result"
    }
   ],
   "source": [
    "df.isnull().sum()"
   ]
  },
  {
   "cell_type": "code",
   "execution_count": 5,
   "metadata": {},
   "outputs": [
    {
     "data": {
      "text/html": [
       "<div>\n",
       "<style scoped>\n",
       "    .dataframe tbody tr th:only-of-type {\n",
       "        vertical-align: middle;\n",
       "    }\n",
       "\n",
       "    .dataframe tbody tr th {\n",
       "        vertical-align: top;\n",
       "    }\n",
       "\n",
       "    .dataframe thead th {\n",
       "        text-align: right;\n",
       "    }\n",
       "</style>\n",
       "<table border=\"1\" class=\"dataframe\">\n",
       "  <thead>\n",
       "    <tr style=\"text-align: right;\">\n",
       "      <th></th>\n",
       "      <th>Country name</th>\n",
       "      <th>year</th>\n",
       "      <th>Life Ladder</th>\n",
       "      <th>Log GDP per capita</th>\n",
       "      <th>Social support</th>\n",
       "      <th>Healthy life expectancy at birth</th>\n",
       "      <th>Freedom to make life choices</th>\n",
       "      <th>Generosity</th>\n",
       "      <th>Perceptions of corruption</th>\n",
       "      <th>Positive affect</th>\n",
       "      <th>Negative affect</th>\n",
       "    </tr>\n",
       "  </thead>\n",
       "  <tbody>\n",
       "    <tr>\n",
       "      <th>699</th>\n",
       "      <td>Hong Kong S.A.R. of China</td>\n",
       "      <td>2006</td>\n",
       "      <td>5.511187</td>\n",
       "      <td>10.746425</td>\n",
       "      <td>0.812178</td>\n",
       "      <td>NaN</td>\n",
       "      <td>0.909820</td>\n",
       "      <td>0.155567</td>\n",
       "      <td>0.355985</td>\n",
       "      <td>0.723260</td>\n",
       "      <td>0.235955</td>\n",
       "    </tr>\n",
       "    <tr>\n",
       "      <th>700</th>\n",
       "      <td>Hong Kong S.A.R. of China</td>\n",
       "      <td>2008</td>\n",
       "      <td>5.137262</td>\n",
       "      <td>10.815545</td>\n",
       "      <td>0.840222</td>\n",
       "      <td>NaN</td>\n",
       "      <td>0.922211</td>\n",
       "      <td>0.296268</td>\n",
       "      <td>0.273945</td>\n",
       "      <td>0.718972</td>\n",
       "      <td>0.236634</td>\n",
       "    </tr>\n",
       "    <tr>\n",
       "      <th>701</th>\n",
       "      <td>Hong Kong S.A.R. of China</td>\n",
       "      <td>2009</td>\n",
       "      <td>5.397056</td>\n",
       "      <td>10.788494</td>\n",
       "      <td>0.834716</td>\n",
       "      <td>NaN</td>\n",
       "      <td>0.918026</td>\n",
       "      <td>0.307638</td>\n",
       "      <td>0.272125</td>\n",
       "      <td>0.762151</td>\n",
       "      <td>0.210104</td>\n",
       "    </tr>\n",
       "    <tr>\n",
       "      <th>702</th>\n",
       "      <td>Hong Kong S.A.R. of China</td>\n",
       "      <td>2010</td>\n",
       "      <td>5.642835</td>\n",
       "      <td>10.846634</td>\n",
       "      <td>0.857314</td>\n",
       "      <td>NaN</td>\n",
       "      <td>0.890418</td>\n",
       "      <td>0.331955</td>\n",
       "      <td>0.255775</td>\n",
       "      <td>0.710370</td>\n",
       "      <td>0.183106</td>\n",
       "    </tr>\n",
       "    <tr>\n",
       "      <th>703</th>\n",
       "      <td>Hong Kong S.A.R. of China</td>\n",
       "      <td>2011</td>\n",
       "      <td>5.474011</td>\n",
       "      <td>10.886932</td>\n",
       "      <td>0.846060</td>\n",
       "      <td>NaN</td>\n",
       "      <td>0.894330</td>\n",
       "      <td>0.234555</td>\n",
       "      <td>0.244887</td>\n",
       "      <td>0.733887</td>\n",
       "      <td>0.195712</td>\n",
       "    </tr>\n",
       "    <tr>\n",
       "      <th>704</th>\n",
       "      <td>Hong Kong S.A.R. of China</td>\n",
       "      <td>2012</td>\n",
       "      <td>5.483765</td>\n",
       "      <td>10.892753</td>\n",
       "      <td>0.826426</td>\n",
       "      <td>NaN</td>\n",
       "      <td>0.879752</td>\n",
       "      <td>0.222402</td>\n",
       "      <td>0.379783</td>\n",
       "      <td>0.715137</td>\n",
       "      <td>0.183349</td>\n",
       "    </tr>\n",
       "    <tr>\n",
       "      <th>705</th>\n",
       "      <td>Hong Kong S.A.R. of China</td>\n",
       "      <td>2014</td>\n",
       "      <td>5.458051</td>\n",
       "      <td>10.939503</td>\n",
       "      <td>0.833558</td>\n",
       "      <td>NaN</td>\n",
       "      <td>0.843082</td>\n",
       "      <td>0.223799</td>\n",
       "      <td>0.422960</td>\n",
       "      <td>0.683968</td>\n",
       "      <td>0.242868</td>\n",
       "    </tr>\n",
       "    <tr>\n",
       "      <th>706</th>\n",
       "      <td>Hong Kong S.A.R. of China</td>\n",
       "      <td>2016</td>\n",
       "      <td>5.498421</td>\n",
       "      <td>10.969857</td>\n",
       "      <td>0.832078</td>\n",
       "      <td>NaN</td>\n",
       "      <td>0.799743</td>\n",
       "      <td>0.100235</td>\n",
       "      <td>0.402813</td>\n",
       "      <td>0.664093</td>\n",
       "      <td>0.213115</td>\n",
       "    </tr>\n",
       "    <tr>\n",
       "      <th>707</th>\n",
       "      <td>Hong Kong S.A.R. of China</td>\n",
       "      <td>2017</td>\n",
       "      <td>5.362475</td>\n",
       "      <td>10.999584</td>\n",
       "      <td>0.831066</td>\n",
       "      <td>NaN</td>\n",
       "      <td>0.830657</td>\n",
       "      <td>0.140063</td>\n",
       "      <td>0.415810</td>\n",
       "      <td>0.639533</td>\n",
       "      <td>0.200593</td>\n",
       "    </tr>\n",
       "    <tr>\n",
       "      <th>708</th>\n",
       "      <td>Hong Kong S.A.R. of China</td>\n",
       "      <td>2019</td>\n",
       "      <td>5.659317</td>\n",
       "      <td>11.000313</td>\n",
       "      <td>0.855826</td>\n",
       "      <td>NaN</td>\n",
       "      <td>0.726852</td>\n",
       "      <td>0.067344</td>\n",
       "      <td>0.431974</td>\n",
       "      <td>0.599320</td>\n",
       "      <td>0.357607</td>\n",
       "    </tr>\n",
       "    <tr>\n",
       "      <th>709</th>\n",
       "      <td>Hong Kong S.A.R. of China</td>\n",
       "      <td>2020</td>\n",
       "      <td>5.295341</td>\n",
       "      <td>NaN</td>\n",
       "      <td>0.812943</td>\n",
       "      <td>NaN</td>\n",
       "      <td>0.705452</td>\n",
       "      <td>NaN</td>\n",
       "      <td>0.380351</td>\n",
       "      <td>0.608647</td>\n",
       "      <td>0.210314</td>\n",
       "    </tr>\n",
       "    <tr>\n",
       "      <th>905</th>\n",
       "      <td>Kosovo</td>\n",
       "      <td>2007</td>\n",
       "      <td>5.103906</td>\n",
       "      <td>8.927753</td>\n",
       "      <td>0.847812</td>\n",
       "      <td>NaN</td>\n",
       "      <td>0.381364</td>\n",
       "      <td>0.143901</td>\n",
       "      <td>0.894462</td>\n",
       "      <td>0.654866</td>\n",
       "      <td>0.236699</td>\n",
       "    </tr>\n",
       "    <tr>\n",
       "      <th>906</th>\n",
       "      <td>Kosovo</td>\n",
       "      <td>2008</td>\n",
       "      <td>5.521660</td>\n",
       "      <td>8.980872</td>\n",
       "      <td>0.883843</td>\n",
       "      <td>NaN</td>\n",
       "      <td>NaN</td>\n",
       "      <td>0.090464</td>\n",
       "      <td>0.849059</td>\n",
       "      <td>NaN</td>\n",
       "      <td>0.317828</td>\n",
       "    </tr>\n",
       "    <tr>\n",
       "      <th>907</th>\n",
       "      <td>Kosovo</td>\n",
       "      <td>2009</td>\n",
       "      <td>5.891433</td>\n",
       "      <td>9.008162</td>\n",
       "      <td>0.830427</td>\n",
       "      <td>NaN</td>\n",
       "      <td>0.506415</td>\n",
       "      <td>0.200504</td>\n",
       "      <td>0.967839</td>\n",
       "      <td>0.597583</td>\n",
       "      <td>0.168830</td>\n",
       "    </tr>\n",
       "    <tr>\n",
       "      <th>908</th>\n",
       "      <td>Kosovo</td>\n",
       "      <td>2010</td>\n",
       "      <td>5.176601</td>\n",
       "      <td>9.032693</td>\n",
       "      <td>0.707959</td>\n",
       "      <td>NaN</td>\n",
       "      <td>0.451444</td>\n",
       "      <td>0.169696</td>\n",
       "      <td>0.967272</td>\n",
       "      <td>0.695178</td>\n",
       "      <td>0.117717</td>\n",
       "    </tr>\n",
       "    <tr>\n",
       "      <th>909</th>\n",
       "      <td>Kosovo</td>\n",
       "      <td>2011</td>\n",
       "      <td>4.859502</td>\n",
       "      <td>9.066925</td>\n",
       "      <td>0.759102</td>\n",
       "      <td>NaN</td>\n",
       "      <td>0.588979</td>\n",
       "      <td>0.003699</td>\n",
       "      <td>0.919212</td>\n",
       "      <td>0.695966</td>\n",
       "      <td>0.124438</td>\n",
       "    </tr>\n",
       "    <tr>\n",
       "      <th>910</th>\n",
       "      <td>Kosovo</td>\n",
       "      <td>2012</td>\n",
       "      <td>5.639588</td>\n",
       "      <td>9.085688</td>\n",
       "      <td>0.757147</td>\n",
       "      <td>NaN</td>\n",
       "      <td>0.635793</td>\n",
       "      <td>0.027182</td>\n",
       "      <td>0.949651</td>\n",
       "      <td>0.595572</td>\n",
       "      <td>0.099630</td>\n",
       "    </tr>\n",
       "    <tr>\n",
       "      <th>911</th>\n",
       "      <td>Kosovo</td>\n",
       "      <td>2013</td>\n",
       "      <td>6.125758</td>\n",
       "      <td>9.113430</td>\n",
       "      <td>0.720750</td>\n",
       "      <td>NaN</td>\n",
       "      <td>0.568463</td>\n",
       "      <td>0.114904</td>\n",
       "      <td>0.935095</td>\n",
       "      <td>0.691511</td>\n",
       "      <td>0.202731</td>\n",
       "    </tr>\n",
       "    <tr>\n",
       "      <th>912</th>\n",
       "      <td>Kosovo</td>\n",
       "      <td>2014</td>\n",
       "      <td>5.000375</td>\n",
       "      <td>9.128522</td>\n",
       "      <td>0.705632</td>\n",
       "      <td>NaN</td>\n",
       "      <td>0.441391</td>\n",
       "      <td>0.012095</td>\n",
       "      <td>0.775201</td>\n",
       "      <td>0.636128</td>\n",
       "      <td>0.205950</td>\n",
       "    </tr>\n",
       "    <tr>\n",
       "      <th>913</th>\n",
       "      <td>Kosovo</td>\n",
       "      <td>2015</td>\n",
       "      <td>5.077461</td>\n",
       "      <td>9.182307</td>\n",
       "      <td>0.805271</td>\n",
       "      <td>NaN</td>\n",
       "      <td>0.561048</td>\n",
       "      <td>0.180851</td>\n",
       "      <td>0.850647</td>\n",
       "      <td>0.753090</td>\n",
       "      <td>0.179989</td>\n",
       "    </tr>\n",
       "    <tr>\n",
       "      <th>914</th>\n",
       "      <td>Kosovo</td>\n",
       "      <td>2016</td>\n",
       "      <td>5.759412</td>\n",
       "      <td>9.228177</td>\n",
       "      <td>0.823803</td>\n",
       "      <td>NaN</td>\n",
       "      <td>0.827399</td>\n",
       "      <td>0.124869</td>\n",
       "      <td>0.940898</td>\n",
       "      <td>0.703887</td>\n",
       "      <td>0.149607</td>\n",
       "    </tr>\n",
       "    <tr>\n",
       "      <th>915</th>\n",
       "      <td>Kosovo</td>\n",
       "      <td>2017</td>\n",
       "      <td>6.149200</td>\n",
       "      <td>9.262030</td>\n",
       "      <td>0.792087</td>\n",
       "      <td>NaN</td>\n",
       "      <td>0.857677</td>\n",
       "      <td>0.117175</td>\n",
       "      <td>0.925192</td>\n",
       "      <td>0.738436</td>\n",
       "      <td>0.185879</td>\n",
       "    </tr>\n",
       "    <tr>\n",
       "      <th>916</th>\n",
       "      <td>Kosovo</td>\n",
       "      <td>2018</td>\n",
       "      <td>6.391826</td>\n",
       "      <td>9.296085</td>\n",
       "      <td>0.822407</td>\n",
       "      <td>NaN</td>\n",
       "      <td>0.889737</td>\n",
       "      <td>0.268795</td>\n",
       "      <td>0.922078</td>\n",
       "      <td>0.778271</td>\n",
       "      <td>0.170248</td>\n",
       "    </tr>\n",
       "    <tr>\n",
       "      <th>917</th>\n",
       "      <td>Kosovo</td>\n",
       "      <td>2019</td>\n",
       "      <td>6.425144</td>\n",
       "      <td>9.338535</td>\n",
       "      <td>0.842511</td>\n",
       "      <td>NaN</td>\n",
       "      <td>0.841190</td>\n",
       "      <td>0.246990</td>\n",
       "      <td>0.920297</td>\n",
       "      <td>0.748522</td>\n",
       "      <td>0.140792</td>\n",
       "    </tr>\n",
       "    <tr>\n",
       "      <th>918</th>\n",
       "      <td>Kosovo</td>\n",
       "      <td>2020</td>\n",
       "      <td>6.294414</td>\n",
       "      <td>NaN</td>\n",
       "      <td>0.792374</td>\n",
       "      <td>NaN</td>\n",
       "      <td>0.879838</td>\n",
       "      <td>NaN</td>\n",
       "      <td>0.909894</td>\n",
       "      <td>0.726240</td>\n",
       "      <td>0.201458</td>\n",
       "    </tr>\n",
       "    <tr>\n",
       "      <th>1280</th>\n",
       "      <td>North Cyprus</td>\n",
       "      <td>2012</td>\n",
       "      <td>5.463305</td>\n",
       "      <td>NaN</td>\n",
       "      <td>0.871150</td>\n",
       "      <td>NaN</td>\n",
       "      <td>0.692568</td>\n",
       "      <td>NaN</td>\n",
       "      <td>0.854730</td>\n",
       "      <td>0.709236</td>\n",
       "      <td>0.405435</td>\n",
       "    </tr>\n",
       "    <tr>\n",
       "      <th>1281</th>\n",
       "      <td>North Cyprus</td>\n",
       "      <td>2013</td>\n",
       "      <td>5.566803</td>\n",
       "      <td>NaN</td>\n",
       "      <td>0.869274</td>\n",
       "      <td>NaN</td>\n",
       "      <td>0.775383</td>\n",
       "      <td>NaN</td>\n",
       "      <td>0.715356</td>\n",
       "      <td>0.621554</td>\n",
       "      <td>0.442972</td>\n",
       "    </tr>\n",
       "    <tr>\n",
       "      <th>1282</th>\n",
       "      <td>North Cyprus</td>\n",
       "      <td>2014</td>\n",
       "      <td>5.785979</td>\n",
       "      <td>NaN</td>\n",
       "      <td>0.801802</td>\n",
       "      <td>NaN</td>\n",
       "      <td>0.829677</td>\n",
       "      <td>NaN</td>\n",
       "      <td>0.692221</td>\n",
       "      <td>0.723842</td>\n",
       "      <td>0.311336</td>\n",
       "    </tr>\n",
       "    <tr>\n",
       "      <th>1283</th>\n",
       "      <td>North Cyprus</td>\n",
       "      <td>2015</td>\n",
       "      <td>5.842550</td>\n",
       "      <td>NaN</td>\n",
       "      <td>0.791383</td>\n",
       "      <td>NaN</td>\n",
       "      <td>0.785353</td>\n",
       "      <td>NaN</td>\n",
       "      <td>0.659180</td>\n",
       "      <td>0.701609</td>\n",
       "      <td>0.318930</td>\n",
       "    </tr>\n",
       "    <tr>\n",
       "      <th>1284</th>\n",
       "      <td>North Cyprus</td>\n",
       "      <td>2016</td>\n",
       "      <td>5.827128</td>\n",
       "      <td>NaN</td>\n",
       "      <td>0.807690</td>\n",
       "      <td>NaN</td>\n",
       "      <td>0.796234</td>\n",
       "      <td>NaN</td>\n",
       "      <td>0.670191</td>\n",
       "      <td>0.643664</td>\n",
       "      <td>0.346465</td>\n",
       "    </tr>\n",
       "    <tr>\n",
       "      <th>1285</th>\n",
       "      <td>North Cyprus</td>\n",
       "      <td>2018</td>\n",
       "      <td>5.608056</td>\n",
       "      <td>NaN</td>\n",
       "      <td>0.837392</td>\n",
       "      <td>NaN</td>\n",
       "      <td>0.797066</td>\n",
       "      <td>NaN</td>\n",
       "      <td>0.613837</td>\n",
       "      <td>0.480453</td>\n",
       "      <td>0.261868</td>\n",
       "    </tr>\n",
       "    <tr>\n",
       "      <th>1286</th>\n",
       "      <td>North Cyprus</td>\n",
       "      <td>2019</td>\n",
       "      <td>5.466615</td>\n",
       "      <td>NaN</td>\n",
       "      <td>0.803295</td>\n",
       "      <td>NaN</td>\n",
       "      <td>0.792735</td>\n",
       "      <td>NaN</td>\n",
       "      <td>0.640059</td>\n",
       "      <td>0.493693</td>\n",
       "      <td>0.296411</td>\n",
       "    </tr>\n",
       "    <tr>\n",
       "      <th>1330</th>\n",
       "      <td>Palestinian Territories</td>\n",
       "      <td>2011</td>\n",
       "      <td>4.751220</td>\n",
       "      <td>8.474425</td>\n",
       "      <td>0.750832</td>\n",
       "      <td>NaN</td>\n",
       "      <td>0.521889</td>\n",
       "      <td>-0.127053</td>\n",
       "      <td>0.750208</td>\n",
       "      <td>0.567007</td>\n",
       "      <td>0.387651</td>\n",
       "    </tr>\n",
       "    <tr>\n",
       "      <th>1331</th>\n",
       "      <td>Palestinian Territories</td>\n",
       "      <td>2012</td>\n",
       "      <td>4.646608</td>\n",
       "      <td>8.530910</td>\n",
       "      <td>0.782169</td>\n",
       "      <td>NaN</td>\n",
       "      <td>0.541583</td>\n",
       "      <td>-0.153289</td>\n",
       "      <td>0.730194</td>\n",
       "      <td>0.616355</td>\n",
       "      <td>0.378504</td>\n",
       "    </tr>\n",
       "    <tr>\n",
       "      <th>1332</th>\n",
       "      <td>Palestinian Territories</td>\n",
       "      <td>2013</td>\n",
       "      <td>4.844028</td>\n",
       "      <td>8.488586</td>\n",
       "      <td>0.760900</td>\n",
       "      <td>NaN</td>\n",
       "      <td>0.453903</td>\n",
       "      <td>-0.150118</td>\n",
       "      <td>0.779646</td>\n",
       "      <td>0.593701</td>\n",
       "      <td>0.365276</td>\n",
       "    </tr>\n",
       "    <tr>\n",
       "      <th>1333</th>\n",
       "      <td>Palestinian Territories</td>\n",
       "      <td>2014</td>\n",
       "      <td>4.721938</td>\n",
       "      <td>8.457089</td>\n",
       "      <td>0.775087</td>\n",
       "      <td>NaN</td>\n",
       "      <td>0.657050</td>\n",
       "      <td>-0.146588</td>\n",
       "      <td>0.804165</td>\n",
       "      <td>0.565057</td>\n",
       "      <td>0.380452</td>\n",
       "    </tr>\n",
       "    <tr>\n",
       "      <th>1334</th>\n",
       "      <td>Palestinian Territories</td>\n",
       "      <td>2015</td>\n",
       "      <td>4.695239</td>\n",
       "      <td>8.480025</td>\n",
       "      <td>0.766101</td>\n",
       "      <td>NaN</td>\n",
       "      <td>0.556041</td>\n",
       "      <td>-0.152813</td>\n",
       "      <td>0.774301</td>\n",
       "      <td>0.594456</td>\n",
       "      <td>0.369085</td>\n",
       "    </tr>\n",
       "    <tr>\n",
       "      <th>1335</th>\n",
       "      <td>Palestinian Territories</td>\n",
       "      <td>2016</td>\n",
       "      <td>4.906618</td>\n",
       "      <td>8.498220</td>\n",
       "      <td>0.817771</td>\n",
       "      <td>NaN</td>\n",
       "      <td>0.607669</td>\n",
       "      <td>-0.128925</td>\n",
       "      <td>0.812465</td>\n",
       "      <td>0.592769</td>\n",
       "      <td>0.377642</td>\n",
       "    </tr>\n",
       "    <tr>\n",
       "      <th>1336</th>\n",
       "      <td>Palestinian Territories</td>\n",
       "      <td>2017</td>\n",
       "      <td>4.628133</td>\n",
       "      <td>8.484533</td>\n",
       "      <td>0.824345</td>\n",
       "      <td>NaN</td>\n",
       "      <td>0.631611</td>\n",
       "      <td>-0.162522</td>\n",
       "      <td>0.830646</td>\n",
       "      <td>0.596766</td>\n",
       "      <td>0.416072</td>\n",
       "    </tr>\n",
       "    <tr>\n",
       "      <th>1337</th>\n",
       "      <td>Palestinian Territories</td>\n",
       "      <td>2018</td>\n",
       "      <td>4.553922</td>\n",
       "      <td>NaN</td>\n",
       "      <td>0.819479</td>\n",
       "      <td>NaN</td>\n",
       "      <td>0.654535</td>\n",
       "      <td>NaN</td>\n",
       "      <td>0.813780</td>\n",
       "      <td>0.610405</td>\n",
       "      <td>0.418929</td>\n",
       "    </tr>\n",
       "    <tr>\n",
       "      <th>1338</th>\n",
       "      <td>Palestinian Territories</td>\n",
       "      <td>2019</td>\n",
       "      <td>4.482537</td>\n",
       "      <td>NaN</td>\n",
       "      <td>0.832550</td>\n",
       "      <td>NaN</td>\n",
       "      <td>0.653488</td>\n",
       "      <td>NaN</td>\n",
       "      <td>0.829283</td>\n",
       "      <td>0.625176</td>\n",
       "      <td>0.399672</td>\n",
       "    </tr>\n",
       "    <tr>\n",
       "      <th>1562</th>\n",
       "      <td>Somaliland region</td>\n",
       "      <td>2009</td>\n",
       "      <td>4.991400</td>\n",
       "      <td>NaN</td>\n",
       "      <td>0.879567</td>\n",
       "      <td>NaN</td>\n",
       "      <td>0.746304</td>\n",
       "      <td>NaN</td>\n",
       "      <td>0.513372</td>\n",
       "      <td>0.818879</td>\n",
       "      <td>0.112012</td>\n",
       "    </tr>\n",
       "    <tr>\n",
       "      <th>1563</th>\n",
       "      <td>Somaliland region</td>\n",
       "      <td>2010</td>\n",
       "      <td>4.657363</td>\n",
       "      <td>NaN</td>\n",
       "      <td>0.829005</td>\n",
       "      <td>NaN</td>\n",
       "      <td>0.820182</td>\n",
       "      <td>NaN</td>\n",
       "      <td>0.471094</td>\n",
       "      <td>0.769375</td>\n",
       "      <td>0.083426</td>\n",
       "    </tr>\n",
       "    <tr>\n",
       "      <th>1564</th>\n",
       "      <td>Somaliland region</td>\n",
       "      <td>2011</td>\n",
       "      <td>4.930572</td>\n",
       "      <td>NaN</td>\n",
       "      <td>0.787962</td>\n",
       "      <td>NaN</td>\n",
       "      <td>0.858104</td>\n",
       "      <td>NaN</td>\n",
       "      <td>0.357341</td>\n",
       "      <td>0.748686</td>\n",
       "      <td>0.122244</td>\n",
       "    </tr>\n",
       "    <tr>\n",
       "      <th>1565</th>\n",
       "      <td>Somaliland region</td>\n",
       "      <td>2012</td>\n",
       "      <td>5.057314</td>\n",
       "      <td>NaN</td>\n",
       "      <td>0.786291</td>\n",
       "      <td>NaN</td>\n",
       "      <td>0.758219</td>\n",
       "      <td>NaN</td>\n",
       "      <td>0.333832</td>\n",
       "      <td>0.735189</td>\n",
       "      <td>0.152428</td>\n",
       "    </tr>\n",
       "    <tr>\n",
       "      <th>1672</th>\n",
       "      <td>Taiwan Province of China</td>\n",
       "      <td>2011</td>\n",
       "      <td>6.308915</td>\n",
       "      <td>10.705154</td>\n",
       "      <td>0.862521</td>\n",
       "      <td>NaN</td>\n",
       "      <td>0.761488</td>\n",
       "      <td>0.035270</td>\n",
       "      <td>0.754584</td>\n",
       "      <td>0.826713</td>\n",
       "      <td>0.112288</td>\n",
       "    </tr>\n",
       "    <tr>\n",
       "      <th>1673</th>\n",
       "      <td>Taiwan Province of China</td>\n",
       "      <td>2012</td>\n",
       "      <td>6.125917</td>\n",
       "      <td>10.715845</td>\n",
       "      <td>0.825072</td>\n",
       "      <td>NaN</td>\n",
       "      <td>0.698195</td>\n",
       "      <td>0.021749</td>\n",
       "      <td>0.802829</td>\n",
       "      <td>0.821362</td>\n",
       "      <td>0.140011</td>\n",
       "    </tr>\n",
       "    <tr>\n",
       "      <th>1674</th>\n",
       "      <td>Taiwan Province of China</td>\n",
       "      <td>2013</td>\n",
       "      <td>6.340344</td>\n",
       "      <td>10.750063</td>\n",
       "      <td>0.816993</td>\n",
       "      <td>NaN</td>\n",
       "      <td>0.690071</td>\n",
       "      <td>0.001518</td>\n",
       "      <td>0.841232</td>\n",
       "      <td>0.846232</td>\n",
       "      <td>0.124445</td>\n",
       "    </tr>\n",
       "    <tr>\n",
       "      <th>1675</th>\n",
       "      <td>Taiwan Province of China</td>\n",
       "      <td>2014</td>\n",
       "      <td>6.363497</td>\n",
       "      <td>10.797789</td>\n",
       "      <td>0.870012</td>\n",
       "      <td>NaN</td>\n",
       "      <td>0.692900</td>\n",
       "      <td>0.091989</td>\n",
       "      <td>0.865741</td>\n",
       "      <td>0.848841</td>\n",
       "      <td>0.108366</td>\n",
       "    </tr>\n",
       "    <tr>\n",
       "      <th>1676</th>\n",
       "      <td>Taiwan Province of China</td>\n",
       "      <td>2015</td>\n",
       "      <td>6.450088</td>\n",
       "      <td>10.842318</td>\n",
       "      <td>0.885389</td>\n",
       "      <td>NaN</td>\n",
       "      <td>0.700810</td>\n",
       "      <td>0.018658</td>\n",
       "      <td>0.857195</td>\n",
       "      <td>0.831987</td>\n",
       "      <td>0.129349</td>\n",
       "    </tr>\n",
       "    <tr>\n",
       "      <th>1677</th>\n",
       "      <td>Taiwan Province of China</td>\n",
       "      <td>2016</td>\n",
       "      <td>6.512851</td>\n",
       "      <td>10.854927</td>\n",
       "      <td>0.894989</td>\n",
       "      <td>NaN</td>\n",
       "      <td>0.718925</td>\n",
       "      <td>-0.048804</td>\n",
       "      <td>0.810521</td>\n",
       "      <td>0.833153</td>\n",
       "      <td>0.108305</td>\n",
       "    </tr>\n",
       "    <tr>\n",
       "      <th>1678</th>\n",
       "      <td>Taiwan Province of China</td>\n",
       "      <td>2017</td>\n",
       "      <td>6.359451</td>\n",
       "      <td>10.870996</td>\n",
       "      <td>0.891119</td>\n",
       "      <td>NaN</td>\n",
       "      <td>0.759655</td>\n",
       "      <td>-0.070494</td>\n",
       "      <td>0.742780</td>\n",
       "      <td>0.837277</td>\n",
       "      <td>0.114123</td>\n",
       "    </tr>\n",
       "    <tr>\n",
       "      <th>1679</th>\n",
       "      <td>Taiwan Province of China</td>\n",
       "      <td>2018</td>\n",
       "      <td>6.467005</td>\n",
       "      <td>NaN</td>\n",
       "      <td>0.896459</td>\n",
       "      <td>NaN</td>\n",
       "      <td>0.741033</td>\n",
       "      <td>NaN</td>\n",
       "      <td>0.735971</td>\n",
       "      <td>0.848399</td>\n",
       "      <td>0.092696</td>\n",
       "    </tr>\n",
       "    <tr>\n",
       "      <th>1680</th>\n",
       "      <td>Taiwan Province of China</td>\n",
       "      <td>2019</td>\n",
       "      <td>6.537090</td>\n",
       "      <td>NaN</td>\n",
       "      <td>0.893431</td>\n",
       "      <td>NaN</td>\n",
       "      <td>0.814484</td>\n",
       "      <td>NaN</td>\n",
       "      <td>0.718112</td>\n",
       "      <td>0.860071</td>\n",
       "      <td>0.093412</td>\n",
       "    </tr>\n",
       "    <tr>\n",
       "      <th>1681</th>\n",
       "      <td>Taiwan Province of China</td>\n",
       "      <td>2020</td>\n",
       "      <td>6.751068</td>\n",
       "      <td>NaN</td>\n",
       "      <td>0.900833</td>\n",
       "      <td>NaN</td>\n",
       "      <td>0.798835</td>\n",
       "      <td>NaN</td>\n",
       "      <td>0.710567</td>\n",
       "      <td>0.845393</td>\n",
       "      <td>0.082737</td>\n",
       "    </tr>\n",
       "  </tbody>\n",
       "</table>\n",
       "</div>"
      ],
      "text/plain": [
       "                   Country name  year  Life Ladder  Log GDP per capita  \\\n",
       "699   Hong Kong S.A.R. of China  2006     5.511187           10.746425   \n",
       "700   Hong Kong S.A.R. of China  2008     5.137262           10.815545   \n",
       "701   Hong Kong S.A.R. of China  2009     5.397056           10.788494   \n",
       "702   Hong Kong S.A.R. of China  2010     5.642835           10.846634   \n",
       "703   Hong Kong S.A.R. of China  2011     5.474011           10.886932   \n",
       "704   Hong Kong S.A.R. of China  2012     5.483765           10.892753   \n",
       "705   Hong Kong S.A.R. of China  2014     5.458051           10.939503   \n",
       "706   Hong Kong S.A.R. of China  2016     5.498421           10.969857   \n",
       "707   Hong Kong S.A.R. of China  2017     5.362475           10.999584   \n",
       "708   Hong Kong S.A.R. of China  2019     5.659317           11.000313   \n",
       "709   Hong Kong S.A.R. of China  2020     5.295341                 NaN   \n",
       "905                      Kosovo  2007     5.103906            8.927753   \n",
       "906                      Kosovo  2008     5.521660            8.980872   \n",
       "907                      Kosovo  2009     5.891433            9.008162   \n",
       "908                      Kosovo  2010     5.176601            9.032693   \n",
       "909                      Kosovo  2011     4.859502            9.066925   \n",
       "910                      Kosovo  2012     5.639588            9.085688   \n",
       "911                      Kosovo  2013     6.125758            9.113430   \n",
       "912                      Kosovo  2014     5.000375            9.128522   \n",
       "913                      Kosovo  2015     5.077461            9.182307   \n",
       "914                      Kosovo  2016     5.759412            9.228177   \n",
       "915                      Kosovo  2017     6.149200            9.262030   \n",
       "916                      Kosovo  2018     6.391826            9.296085   \n",
       "917                      Kosovo  2019     6.425144            9.338535   \n",
       "918                      Kosovo  2020     6.294414                 NaN   \n",
       "1280               North Cyprus  2012     5.463305                 NaN   \n",
       "1281               North Cyprus  2013     5.566803                 NaN   \n",
       "1282               North Cyprus  2014     5.785979                 NaN   \n",
       "1283               North Cyprus  2015     5.842550                 NaN   \n",
       "1284               North Cyprus  2016     5.827128                 NaN   \n",
       "1285               North Cyprus  2018     5.608056                 NaN   \n",
       "1286               North Cyprus  2019     5.466615                 NaN   \n",
       "1330    Palestinian Territories  2011     4.751220            8.474425   \n",
       "1331    Palestinian Territories  2012     4.646608            8.530910   \n",
       "1332    Palestinian Territories  2013     4.844028            8.488586   \n",
       "1333    Palestinian Territories  2014     4.721938            8.457089   \n",
       "1334    Palestinian Territories  2015     4.695239            8.480025   \n",
       "1335    Palestinian Territories  2016     4.906618            8.498220   \n",
       "1336    Palestinian Territories  2017     4.628133            8.484533   \n",
       "1337    Palestinian Territories  2018     4.553922                 NaN   \n",
       "1338    Palestinian Territories  2019     4.482537                 NaN   \n",
       "1562          Somaliland region  2009     4.991400                 NaN   \n",
       "1563          Somaliland region  2010     4.657363                 NaN   \n",
       "1564          Somaliland region  2011     4.930572                 NaN   \n",
       "1565          Somaliland region  2012     5.057314                 NaN   \n",
       "1672   Taiwan Province of China  2011     6.308915           10.705154   \n",
       "1673   Taiwan Province of China  2012     6.125917           10.715845   \n",
       "1674   Taiwan Province of China  2013     6.340344           10.750063   \n",
       "1675   Taiwan Province of China  2014     6.363497           10.797789   \n",
       "1676   Taiwan Province of China  2015     6.450088           10.842318   \n",
       "1677   Taiwan Province of China  2016     6.512851           10.854927   \n",
       "1678   Taiwan Province of China  2017     6.359451           10.870996   \n",
       "1679   Taiwan Province of China  2018     6.467005                 NaN   \n",
       "1680   Taiwan Province of China  2019     6.537090                 NaN   \n",
       "1681   Taiwan Province of China  2020     6.751068                 NaN   \n",
       "\n",
       "      Social support  Healthy life expectancy at birth  \\\n",
       "699         0.812178                               NaN   \n",
       "700         0.840222                               NaN   \n",
       "701         0.834716                               NaN   \n",
       "702         0.857314                               NaN   \n",
       "703         0.846060                               NaN   \n",
       "704         0.826426                               NaN   \n",
       "705         0.833558                               NaN   \n",
       "706         0.832078                               NaN   \n",
       "707         0.831066                               NaN   \n",
       "708         0.855826                               NaN   \n",
       "709         0.812943                               NaN   \n",
       "905         0.847812                               NaN   \n",
       "906         0.883843                               NaN   \n",
       "907         0.830427                               NaN   \n",
       "908         0.707959                               NaN   \n",
       "909         0.759102                               NaN   \n",
       "910         0.757147                               NaN   \n",
       "911         0.720750                               NaN   \n",
       "912         0.705632                               NaN   \n",
       "913         0.805271                               NaN   \n",
       "914         0.823803                               NaN   \n",
       "915         0.792087                               NaN   \n",
       "916         0.822407                               NaN   \n",
       "917         0.842511                               NaN   \n",
       "918         0.792374                               NaN   \n",
       "1280        0.871150                               NaN   \n",
       "1281        0.869274                               NaN   \n",
       "1282        0.801802                               NaN   \n",
       "1283        0.791383                               NaN   \n",
       "1284        0.807690                               NaN   \n",
       "1285        0.837392                               NaN   \n",
       "1286        0.803295                               NaN   \n",
       "1330        0.750832                               NaN   \n",
       "1331        0.782169                               NaN   \n",
       "1332        0.760900                               NaN   \n",
       "1333        0.775087                               NaN   \n",
       "1334        0.766101                               NaN   \n",
       "1335        0.817771                               NaN   \n",
       "1336        0.824345                               NaN   \n",
       "1337        0.819479                               NaN   \n",
       "1338        0.832550                               NaN   \n",
       "1562        0.879567                               NaN   \n",
       "1563        0.829005                               NaN   \n",
       "1564        0.787962                               NaN   \n",
       "1565        0.786291                               NaN   \n",
       "1672        0.862521                               NaN   \n",
       "1673        0.825072                               NaN   \n",
       "1674        0.816993                               NaN   \n",
       "1675        0.870012                               NaN   \n",
       "1676        0.885389                               NaN   \n",
       "1677        0.894989                               NaN   \n",
       "1678        0.891119                               NaN   \n",
       "1679        0.896459                               NaN   \n",
       "1680        0.893431                               NaN   \n",
       "1681        0.900833                               NaN   \n",
       "\n",
       "      Freedom to make life choices  Generosity  Perceptions of corruption  \\\n",
       "699                       0.909820    0.155567                   0.355985   \n",
       "700                       0.922211    0.296268                   0.273945   \n",
       "701                       0.918026    0.307638                   0.272125   \n",
       "702                       0.890418    0.331955                   0.255775   \n",
       "703                       0.894330    0.234555                   0.244887   \n",
       "704                       0.879752    0.222402                   0.379783   \n",
       "705                       0.843082    0.223799                   0.422960   \n",
       "706                       0.799743    0.100235                   0.402813   \n",
       "707                       0.830657    0.140063                   0.415810   \n",
       "708                       0.726852    0.067344                   0.431974   \n",
       "709                       0.705452         NaN                   0.380351   \n",
       "905                       0.381364    0.143901                   0.894462   \n",
       "906                            NaN    0.090464                   0.849059   \n",
       "907                       0.506415    0.200504                   0.967839   \n",
       "908                       0.451444    0.169696                   0.967272   \n",
       "909                       0.588979    0.003699                   0.919212   \n",
       "910                       0.635793    0.027182                   0.949651   \n",
       "911                       0.568463    0.114904                   0.935095   \n",
       "912                       0.441391    0.012095                   0.775201   \n",
       "913                       0.561048    0.180851                   0.850647   \n",
       "914                       0.827399    0.124869                   0.940898   \n",
       "915                       0.857677    0.117175                   0.925192   \n",
       "916                       0.889737    0.268795                   0.922078   \n",
       "917                       0.841190    0.246990                   0.920297   \n",
       "918                       0.879838         NaN                   0.909894   \n",
       "1280                      0.692568         NaN                   0.854730   \n",
       "1281                      0.775383         NaN                   0.715356   \n",
       "1282                      0.829677         NaN                   0.692221   \n",
       "1283                      0.785353         NaN                   0.659180   \n",
       "1284                      0.796234         NaN                   0.670191   \n",
       "1285                      0.797066         NaN                   0.613837   \n",
       "1286                      0.792735         NaN                   0.640059   \n",
       "1330                      0.521889   -0.127053                   0.750208   \n",
       "1331                      0.541583   -0.153289                   0.730194   \n",
       "1332                      0.453903   -0.150118                   0.779646   \n",
       "1333                      0.657050   -0.146588                   0.804165   \n",
       "1334                      0.556041   -0.152813                   0.774301   \n",
       "1335                      0.607669   -0.128925                   0.812465   \n",
       "1336                      0.631611   -0.162522                   0.830646   \n",
       "1337                      0.654535         NaN                   0.813780   \n",
       "1338                      0.653488         NaN                   0.829283   \n",
       "1562                      0.746304         NaN                   0.513372   \n",
       "1563                      0.820182         NaN                   0.471094   \n",
       "1564                      0.858104         NaN                   0.357341   \n",
       "1565                      0.758219         NaN                   0.333832   \n",
       "1672                      0.761488    0.035270                   0.754584   \n",
       "1673                      0.698195    0.021749                   0.802829   \n",
       "1674                      0.690071    0.001518                   0.841232   \n",
       "1675                      0.692900    0.091989                   0.865741   \n",
       "1676                      0.700810    0.018658                   0.857195   \n",
       "1677                      0.718925   -0.048804                   0.810521   \n",
       "1678                      0.759655   -0.070494                   0.742780   \n",
       "1679                      0.741033         NaN                   0.735971   \n",
       "1680                      0.814484         NaN                   0.718112   \n",
       "1681                      0.798835         NaN                   0.710567   \n",
       "\n",
       "      Positive affect  Negative affect  \n",
       "699          0.723260         0.235955  \n",
       "700          0.718972         0.236634  \n",
       "701          0.762151         0.210104  \n",
       "702          0.710370         0.183106  \n",
       "703          0.733887         0.195712  \n",
       "704          0.715137         0.183349  \n",
       "705          0.683968         0.242868  \n",
       "706          0.664093         0.213115  \n",
       "707          0.639533         0.200593  \n",
       "708          0.599320         0.357607  \n",
       "709          0.608647         0.210314  \n",
       "905          0.654866         0.236699  \n",
       "906               NaN         0.317828  \n",
       "907          0.597583         0.168830  \n",
       "908          0.695178         0.117717  \n",
       "909          0.695966         0.124438  \n",
       "910          0.595572         0.099630  \n",
       "911          0.691511         0.202731  \n",
       "912          0.636128         0.205950  \n",
       "913          0.753090         0.179989  \n",
       "914          0.703887         0.149607  \n",
       "915          0.738436         0.185879  \n",
       "916          0.778271         0.170248  \n",
       "917          0.748522         0.140792  \n",
       "918          0.726240         0.201458  \n",
       "1280         0.709236         0.405435  \n",
       "1281         0.621554         0.442972  \n",
       "1282         0.723842         0.311336  \n",
       "1283         0.701609         0.318930  \n",
       "1284         0.643664         0.346465  \n",
       "1285         0.480453         0.261868  \n",
       "1286         0.493693         0.296411  \n",
       "1330         0.567007         0.387651  \n",
       "1331         0.616355         0.378504  \n",
       "1332         0.593701         0.365276  \n",
       "1333         0.565057         0.380452  \n",
       "1334         0.594456         0.369085  \n",
       "1335         0.592769         0.377642  \n",
       "1336         0.596766         0.416072  \n",
       "1337         0.610405         0.418929  \n",
       "1338         0.625176         0.399672  \n",
       "1562         0.818879         0.112012  \n",
       "1563         0.769375         0.083426  \n",
       "1564         0.748686         0.122244  \n",
       "1565         0.735189         0.152428  \n",
       "1672         0.826713         0.112288  \n",
       "1673         0.821362         0.140011  \n",
       "1674         0.846232         0.124445  \n",
       "1675         0.848841         0.108366  \n",
       "1676         0.831987         0.129349  \n",
       "1677         0.833153         0.108305  \n",
       "1678         0.837277         0.114123  \n",
       "1679         0.848399         0.092696  \n",
       "1680         0.860071         0.093412  \n",
       "1681         0.845393         0.082737  "
      ]
     },
     "execution_count": 5,
     "metadata": {},
     "output_type": "execute_result"
    }
   ],
   "source": [
    "df[df['Healthy life expectancy at birth'].isnull()]"
   ]
  },
  {
   "cell_type": "code",
   "execution_count": 6,
   "metadata": {},
   "outputs": [],
   "source": [
    "df_healthy=df[~df['Healthy life expectancy at birth'].isnull()]"
   ]
  },
  {
   "cell_type": "code",
   "execution_count": 7,
   "metadata": {},
   "outputs": [
    {
     "data": {
      "text/plain": [
       "(1894, 11)"
      ]
     },
     "execution_count": 7,
     "metadata": {},
     "output_type": "execute_result"
    }
   ],
   "source": [
    "df_healthy.shape"
   ]
  },
  {
   "cell_type": "code",
   "execution_count": 8,
   "metadata": {},
   "outputs": [
    {
     "data": {
      "text/plain": [
       "Country name                          0\n",
       "year                                  0\n",
       "Life Ladder                           0\n",
       "Log GDP per capita                   18\n",
       "Social support                       13\n",
       "Healthy life expectancy at birth      0\n",
       "Freedom to make life choices         31\n",
       "Generosity                           71\n",
       "Perceptions of corruption           110\n",
       "Positive affect                      21\n",
       "Negative affect                      16\n",
       "dtype: int64"
      ]
     },
     "execution_count": 8,
     "metadata": {},
     "output_type": "execute_result"
    }
   ],
   "source": [
    "df_healthy.isnull().sum()"
   ]
  },
  {
   "cell_type": "code",
   "execution_count": 9,
   "metadata": {},
   "outputs": [],
   "source": [
    "countries=df_healthy['Country name'].unique()"
   ]
  },
  {
   "cell_type": "code",
   "execution_count": 10,
   "metadata": {},
   "outputs": [],
   "source": [
    "healthy_life_expectancy=[]\n",
    "country_list=[]\n",
    "for country in countries:\n",
    "    healthy_life_expectancy.append(df_healthy[df_healthy['Country name']==country]['Healthy life expectancy at birth'].mean())\n",
    "    country_list.append(country)"
   ]
  },
  {
   "cell_type": "code",
   "execution_count": 11,
   "metadata": {},
   "outputs": [
    {
     "data": {
      "text/plain": [
       "162"
      ]
     },
     "execution_count": 11,
     "metadata": {},
     "output_type": "execute_result"
    }
   ],
   "source": [
    "len(country_list)"
   ]
  },
  {
   "cell_type": "code",
   "execution_count": 12,
   "metadata": {},
   "outputs": [
    {
     "data": {
      "text/plain": [
       "162"
      ]
     },
     "execution_count": 12,
     "metadata": {},
     "output_type": "execute_result"
    }
   ],
   "source": [
    "len(country_list)"
   ]
  },
  {
   "cell_type": "code",
   "execution_count": 13,
   "metadata": {},
   "outputs": [],
   "source": [
    "healthy=pd.DataFrame()"
   ]
  },
  {
   "cell_type": "code",
   "execution_count": 14,
   "metadata": {},
   "outputs": [],
   "source": [
    "healthy['Country']=country_list\n",
    "healthy['healthy']=healthy_life_expectancy"
   ]
  },
  {
   "cell_type": "code",
   "execution_count": 15,
   "metadata": {},
   "outputs": [
    {
     "data": {
      "text/html": [
       "<div>\n",
       "<style scoped>\n",
       "    .dataframe tbody tr th:only-of-type {\n",
       "        vertical-align: middle;\n",
       "    }\n",
       "\n",
       "    .dataframe tbody tr th {\n",
       "        vertical-align: top;\n",
       "    }\n",
       "\n",
       "    .dataframe thead th {\n",
       "        text-align: right;\n",
       "    }\n",
       "</style>\n",
       "<table border=\"1\" class=\"dataframe\">\n",
       "  <thead>\n",
       "    <tr style=\"text-align: right;\">\n",
       "      <th></th>\n",
       "      <th>Country</th>\n",
       "      <th>healthy</th>\n",
       "    </tr>\n",
       "  </thead>\n",
       "  <tbody>\n",
       "    <tr>\n",
       "      <th>0</th>\n",
       "      <td>Afghanistan</td>\n",
       "      <td>52.266667</td>\n",
       "    </tr>\n",
       "    <tr>\n",
       "      <th>1</th>\n",
       "      <td>Albania</td>\n",
       "      <td>67.546154</td>\n",
       "    </tr>\n",
       "    <tr>\n",
       "      <th>2</th>\n",
       "      <td>Algeria</td>\n",
       "      <td>65.290000</td>\n",
       "    </tr>\n",
       "    <tr>\n",
       "      <th>3</th>\n",
       "      <td>Angola</td>\n",
       "      <td>53.550000</td>\n",
       "    </tr>\n",
       "    <tr>\n",
       "      <th>4</th>\n",
       "      <td>Argentina</td>\n",
       "      <td>67.900000</td>\n",
       "    </tr>\n",
       "    <tr>\n",
       "      <th>...</th>\n",
       "      <td>...</td>\n",
       "      <td>...</td>\n",
       "    </tr>\n",
       "    <tr>\n",
       "      <th>157</th>\n",
       "      <td>Venezuela</td>\n",
       "      <td>65.958666</td>\n",
       "    </tr>\n",
       "    <tr>\n",
       "      <th>158</th>\n",
       "      <td>Vietnam</td>\n",
       "      <td>66.928571</td>\n",
       "    </tr>\n",
       "    <tr>\n",
       "      <th>159</th>\n",
       "      <td>Yemen</td>\n",
       "      <td>54.866666</td>\n",
       "    </tr>\n",
       "    <tr>\n",
       "      <th>160</th>\n",
       "      <td>Zambia</td>\n",
       "      <td>51.707143</td>\n",
       "    </tr>\n",
       "    <tr>\n",
       "      <th>161</th>\n",
       "      <td>Zimbabwe</td>\n",
       "      <td>50.233333</td>\n",
       "    </tr>\n",
       "  </tbody>\n",
       "</table>\n",
       "<p>162 rows × 2 columns</p>\n",
       "</div>"
      ],
      "text/plain": [
       "         Country    healthy\n",
       "0    Afghanistan  52.266667\n",
       "1        Albania  67.546154\n",
       "2        Algeria  65.290000\n",
       "3         Angola  53.550000\n",
       "4      Argentina  67.900000\n",
       "..           ...        ...\n",
       "157    Venezuela  65.958666\n",
       "158      Vietnam  66.928571\n",
       "159        Yemen  54.866666\n",
       "160       Zambia  51.707143\n",
       "161     Zimbabwe  50.233333\n",
       "\n",
       "[162 rows x 2 columns]"
      ]
     },
     "execution_count": 15,
     "metadata": {},
     "output_type": "execute_result"
    }
   ],
   "source": [
    "healthy"
   ]
  },
  {
   "cell_type": "code",
   "execution_count": 16,
   "metadata": {},
   "outputs": [],
   "source": [
    "healthy_barplot=healthy.sort_values(by='healthy',ascending=False)[:10]"
   ]
  },
  {
   "cell_type": "code",
   "execution_count": 17,
   "metadata": {},
   "outputs": [
    {
     "data": {
      "text/html": [
       "<div>\n",
       "<style scoped>\n",
       "    .dataframe tbody tr th:only-of-type {\n",
       "        vertical-align: middle;\n",
       "    }\n",
       "\n",
       "    .dataframe tbody tr th {\n",
       "        vertical-align: top;\n",
       "    }\n",
       "\n",
       "    .dataframe thead th {\n",
       "        text-align: right;\n",
       "    }\n",
       "</style>\n",
       "<table border=\"1\" class=\"dataframe\">\n",
       "  <thead>\n",
       "    <tr style=\"text-align: right;\">\n",
       "      <th></th>\n",
       "      <th>Country</th>\n",
       "      <th>healthy</th>\n",
       "    </tr>\n",
       "  </thead>\n",
       "  <tbody>\n",
       "    <tr>\n",
       "      <th>126</th>\n",
       "      <td>Singapore</td>\n",
       "      <td>75.358461</td>\n",
       "    </tr>\n",
       "    <tr>\n",
       "      <th>71</th>\n",
       "      <td>Japan</td>\n",
       "      <td>74.292000</td>\n",
       "    </tr>\n",
       "    <tr>\n",
       "      <th>139</th>\n",
       "      <td>Switzerland</td>\n",
       "      <td>73.334000</td>\n",
       "    </tr>\n",
       "    <tr>\n",
       "      <th>133</th>\n",
       "      <td>Spain</td>\n",
       "      <td>73.314666</td>\n",
       "    </tr>\n",
       "    <tr>\n",
       "      <th>68</th>\n",
       "      <td>Italy</td>\n",
       "      <td>72.974667</td>\n",
       "    </tr>\n",
       "    <tr>\n",
       "      <th>37</th>\n",
       "      <td>Cyprus</td>\n",
       "      <td>72.969231</td>\n",
       "    </tr>\n",
       "    <tr>\n",
       "      <th>61</th>\n",
       "      <td>Iceland</td>\n",
       "      <td>72.865000</td>\n",
       "    </tr>\n",
       "    <tr>\n",
       "      <th>48</th>\n",
       "      <td>France</td>\n",
       "      <td>72.789333</td>\n",
       "    </tr>\n",
       "    <tr>\n",
       "      <th>25</th>\n",
       "      <td>Canada</td>\n",
       "      <td>72.694666</td>\n",
       "    </tr>\n",
       "    <tr>\n",
       "      <th>6</th>\n",
       "      <td>Australia</td>\n",
       "      <td>72.692857</td>\n",
       "    </tr>\n",
       "  </tbody>\n",
       "</table>\n",
       "</div>"
      ],
      "text/plain": [
       "         Country    healthy\n",
       "126    Singapore  75.358461\n",
       "71         Japan  74.292000\n",
       "139  Switzerland  73.334000\n",
       "133        Spain  73.314666\n",
       "68         Italy  72.974667\n",
       "37        Cyprus  72.969231\n",
       "61       Iceland  72.865000\n",
       "48        France  72.789333\n",
       "25        Canada  72.694666\n",
       "6      Australia  72.692857"
      ]
     },
     "execution_count": 17,
     "metadata": {},
     "output_type": "execute_result"
    }
   ],
   "source": [
    "healthy_barplot"
   ]
  },
  {
   "cell_type": "code",
   "execution_count": 18,
   "metadata": {},
   "outputs": [
    {
     "data": {
      "text/plain": [
       "<AxesSubplot:xlabel='healthy', ylabel='Country'>"
      ]
     },
     "execution_count": 18,
     "metadata": {},
     "output_type": "execute_result"
    },
    {
     "data": {
      "image/png": "[encoded data removed]",
      "text/plain": [
       "<Figure size 432x288 with 1 Axes>"
      ]
     },
     "metadata": {
      "needs_background": "light"
     },
     "output_type": "display_data"
    }
   ],
   "source": [
    "sns.barplot(y='Country',x='healthy',data=healthy_barplot,orient='h')"
   ]
  },
  {
   "cell_type": "code",
   "execution_count": 19,
   "metadata": {},
   "outputs": [],
   "source": [
    "import plotly.express as px "
   ]
  },
  {
   "cell_type": "code",
   "execution_count": 23,
   "metadata": {},
   "outputs": [
    {
     "data": {
      "application/vnd.plotly.v1+json": {
       "config": {
        "plotlyServerURL": "https://plot.ly"
       },
       "data": [
        {
         "coloraxis": "coloraxis",
         "geo": "geo",
         "hovertemplate": "Country=%{location}<br>healthy=%{z}<extra></extra>",
         "locationmode": "country names",
         "locations": [
          "Afghanistan",
          "Albania",
          "Algeria",
          "Angola",
          "Argentina",
          "Armenia",
          "Australia",
          "Austria",
          "Azerbaijan",
          "Bahrain",
          "Bangladesh",
          "Belarus",
          "Belgium",
          "Belize",
          "Benin",
          "Bhutan",
          "Bolivia",
          "Bosnia and Herzegovina",
          "Botswana",
          "Brazil",
          "Bulgaria",
          "Burkina Faso",
          "Burundi",
          "Cambodia",
          "Cameroon",
          "Canada",
          "Central African Republic",
          "Chad",
          "Chile",
          "China",
          "Colombia",
          "Comoros",
          "Congo (Brazzaville)",
          "Congo (Kinshasa)",
          "Costa Rica",
          "Croatia",
          "Cuba",
          "Cyprus",
          "Czech Republic",
          "Denmark",
          "Djibouti",
          "Dominican Republic",
          "Ecuador",
          "Egypt",
          "El Salvador",
          "Estonia",
          "Ethiopia",
          "Finland",
          "France",
          "Gabon",
          "Gambia",
          "Georgia",
          "Germany",
          "Ghana",
          "Greece",
          "Guatemala",
          "Guinea",
          "Guyana",
          "Haiti",
          "Honduras",
          "Hungary",
          "Iceland",
          "India",
          "Indonesia",
          "Iran",
          "Iraq",
          "Ireland",
          "Israel",
          "Italy",
          "Ivory Coast",
          "Jamaica",
          "Japan",
          "Jordan",
          "Kazakhstan",
          "Kenya",
          "Kuwait",
          "Kyrgyzstan",
          "Laos",
          "Latvia",
          "Lebanon",
          "Lesotho",
          "Liberia",
          "Libya",
          "Lithuania",
          "Luxembourg",
          "Madagascar",
          "Malawi",
          "Malaysia",
          "Maldives",
          "Mali",
          "Malta",
          "Mauritania",
          "Mauritius",
          "Mexico",
          "Moldova",
          "Mongolia",
          "Montenegro",
          "Morocco",
          "Mozambique",
          "Myanmar",
          "Namibia",
          "Nepal",
          "Netherlands",
          "New Zealand",
          "Nicaragua",
          "Niger",
          "Nigeria",
          "North Macedonia",
          "Norway",
          "Oman",
          "Pakistan",
          "Palestinian Territories",
          "Panama",
          "Paraguay",
          "Peru",
          "Philippines",
          "Poland",
          "Portugal",
          "Qatar",
          "Romania",
          "Russia",
          "Rwanda",
          "Saudi Arabia",
          "Senegal",
          "Serbia",
          "Sierra Leone",
          "Singapore",
          "Slovakia",
          "Slovenia",
          "Somalia",
          "South Africa",
          "South Korea",
          "South Sudan",
          "Spain",
          "Sri Lanka",
          "Sudan",
          "Suriname",
          "Swaziland",
          "Sweden",
          "Switzerland",
          "Syria",
          "Taiwan Province of China",
          "Tajikistan",
          "Tanzania",
          "Thailand",
          "Togo",
          "Trinidad and Tobago",
          "Tunisia",
          "Turkey",
          "Turkmenistan",
          "Uganda",
          "Ukraine",
          "United Arab Emirates",
          "United Kingdom",
          "United States",
          "Uruguay",
          "Uzbekistan",
          "Venezuela",
          "Vietnam",
          "Yemen",
          "Zambia",
          "Zimbabwe"
         ],
         "name": "",
         "type": "choropleth",
         "z": [
          52.26666673024496,
          67.54615372877855,
          65.28999996185303,
          53.55000019073486,
          67.9,
          65.74285670689174,
          72.69285692487445,
          72.1030772282527,
          63.942857469831196,
          67.59454553777522,
          62.040000406901044,
          63.750000272478374,
          71.22857230050224,
          61.90999984741211,
          52.93333307902018,
          59.90000025431315,
          61.87333323160807,
          67.1015384380634,
          54.9983336130778,
          65.21733322143555,
          66.2333329518636,
          51.01230826744666,
          50.91600036621094,
          59.38000005086263,
          49.78000005086263,
          72.69466603597006,
          43.35600128173828,
          45.91428593226841,
          69.33333333333333,
          68.2066660563151,
          66.50666656494141,
          55.686667124430336,
          55.93000030517578,
          51.355000019073486,
          70.38571439470563,
          68.82000028170071,
          68.44000244140625,
          72.96923123873196,
          68.82000096638997,
          71.1693328857422,
          54.00999927520752,
          64.49999974568685,
          67.406667582194,
          60.6826665242513,
          64.81999994913737,
          67.32857131958008,
          57.433333502875435,
          71.18000030517578,
          72.78933308919271,
          58.000000423855255,
          55,
          64.81333363850912,
          71.3106674194336,
          55.21999994913737,
          71.75714329310826,
          62.971428462437224,
          52.07777786254883,
          57.2599983215332,
          47.04909064553001,
          66.02142878941127,
          66.35714285714286,
          72.86499977111816,
          58.32000020345052,
          60.99285697937012,
          64.69230739886945,
          59.28999996185303,
          71.72285733904157,
          72.54666697184244,
          72.97466684977213,
          48.38666661580404,
          66.4600003560384,
          74.29199981689453,
          65.52399978637695,
          61.85333353678386,
          56.71333363850911,
          65.47272768887606,
          62.33333282470703,
          56.868888007269966,
          65.40714291163853,
          65.65428488595145,
          47.08500003814697,
          53.386666191948784,
          62.359999338785805,
          65.40666681925455,
          72.2490893277255,
          57.26000005548651,
          53.03833293914795,
          65.91666666666667,
          70.5999984741211,
          49.41999992957482,
          71.98166465759277,
          55.463076664851265,
          66,
          67.23600006103516,
          62.733333079020184,
          61.17692301823543,
          67.73076923076923,
          65.02999992370606,
          49.827500343322754,
          58.36000018649631,
          55.239999771118164,
          60.12857164655413,
          71.70714296613421,
          72.42857142857143,
          66.02142933436802,
          50.51428549630301,
          47.5,
          64.96224858210637,
          72.66999969482421,
          65.5,
          56.7214287349156,
          62.01499938964844,
          68.7999997820173,
          64.71538485013522,
          66.79285703386579,
          61.1,
          68.05714307512555,
          71.53538454495944,
          67.18799896240235,
          65.85692302997296,
          62.13333282470703,
          57.58666674296061,
          65.10133361816406,
          57.050000054495676,
          67.09230687068059,
          45.713333447774254,
          75.35846123328575,
          67.90833346048991,
          70.04615372877855,
          49.8999989827474,
          53.04666646321615,
          72.19333343505859,
          50.40999984741211,
          73.31466623942057,
          66.4076919555664,
          54.331999969482425,
          62.2400016784668,
          47.47729619344076,
          72.1106674194336,
          73.33399963378906,
          61.25999995640346,
          69.13999938964844,
          62.833333587646486,
          54.173333231608076,
          66.06000061035157,
          52.83777787950304,
          62.54000015258789,
          66.06333287556966,
          65.17599995930989,
          61.00399971008301,
          52.333333333333336,
          62.9533332824707,
          66.64615396352914,
          71.50799967447917,
          68.43999989827473,
          68.37999979654948,
          63.73230743408203,
          65.9586664835612,
          66.92857142857143,
          54.8666664759318,
          51.70714269365583,
          50.233333333333334
         ]
        }
       ],
       "layout": {
        "coloraxis": {
         "colorbar": {
          "title": {
           "text": "healthy"
          }
         },
         "colorscale": [
          [
           0,
           "rgb(247,251,255)"
          ],
          [
           0.125,
           "rgb(222,235,247)"
          ],
          [
           0.25,
           "rgb(198,219,239)"
          ],
          [
           0.375,
           "rgb(158,202,225)"
          ],
          [
           0.5,
           "rgb(107,174,214)"
          ],
          [
           0.625,
           "rgb(66,146,198)"
          ],
          [
           0.75,
           "rgb(33,113,181)"
          ],
          [
           0.875,
           "rgb(8,81,156)"
          ],
          [
           1,
           "rgb(8,48,107)"
          ]
         ]
        },
        "geo": {
         "center": {},
         "domain": {
          "x": [
           0,
           1
          ],
          "y": [
           0,
           1
          ]
         }
        },
        "legend": {
         "tracegroupgap": 0
        },
        "template": {
         "data": {
          "bar": [
           {
            "error_x": {
             "color": "#2a3f5f"
            },
            "error_y": {
             "color": "#2a3f5f"
            },
            "marker": {
             "line": {
              "color": "#E5ECF6",
              "width": 0.5
             },
             "pattern": {
              "fillmode": "overlay",
              "size": 10,
              "solidity": 0.2
             }
            },
            "type": "bar"
           }
          ],
          "barpolar": [
           {
            "marker": {
             "line": {
              "color": "#E5ECF6",
              "width": 0.5
             },
             "pattern": {
              "fillmode": "overlay",
              "size": 10,
              "solidity": 0.2
             }
            },
            "type": "barpolar"
           }
          ],
          "carpet": [
           {
            "aaxis": {
             "endlinecolor": "#2a3f5f",
             "gridcolor": "white",
             "linecolor": "white",
             "minorgridcolor": "white",
             "startlinecolor": "#2a3f5f"
            },
            "baxis": {
             "endlinecolor": "#2a3f5f",
             "gridcolor": "white",
             "linecolor": "white",
             "minorgridcolor": "white",
             "startlinecolor": "#2a3f5f"
            },
            "type": "carpet"
           }
          ],
          "choropleth": [
           {
            "colorbar": {
             "outlinewidth": 0,
             "ticks": ""
            },
            "type": "choropleth"
           }
          ],
          "contour": [
           {
            "colorbar": {
             "outlinewidth": 0,
             "ticks": ""
            },
            "colorscale": [
             [
              0,
              "#0d0887"
             ],
             [
              0.1111111111111111,
              "#46039f"
             ],
             [
              0.2222222222222222,
              "#7201a8"
             ],
             [
              0.3333333333333333,
              "#9c179e"
             ],
             [
              0.4444444444444444,
              "#bd3786"
             ],
             [
              0.5555555555555556,
              "#d8576b"
             ],
             [
              0.6666666666666666,
              "#ed7953"
             ],
             [
              0.7777777777777778,
              "#fb9f3a"
             ],
             [
              0.8888888888888888,
              "#fdca26"
             ],
             [
              1,
              "#f0f921"
             ]
            ],
            "type": "contour"
           }
          ],
          "contourcarpet": [
           {
            "colorbar": {
             "outlinewidth": 0,
             "ticks": ""
            },
            "type": "contourcarpet"
           }
          ],
          "heatmap": [
           {
            "colorbar": {
             "outlinewidth": 0,
             "ticks": ""
            },
            "colorscale": [
             [
              0,
              "#0d0887"
             ],
             [
              0.1111111111111111,
              "#46039f"
             ],
             [
              0.2222222222222222,
              "#7201a8"
             ],
             [
              0.3333333333333333,
              "#9c179e"
             ],
             [
              0.4444444444444444,
              "#bd3786"
             ],
             [
              0.5555555555555556,
              "#d8576b"
             ],
             [
              0.6666666666666666,
              "#ed7953"
             ],
             [
              0.7777777777777778,
              "#fb9f3a"
             ],
             [
              0.8888888888888888,
              "#fdca26"
             ],
             [
              1,
              "#f0f921"
             ]
            ],
            "type": "heatmap"
           }
          ],
          "heatmapgl": [
           {
            "colorbar": {
             "outlinewidth": 0,
             "ticks": ""
            },
            "colorscale": [
             [
              0,
              "#0d0887"
             ],
             [
              0.1111111111111111,
              "#46039f"
             ],
             [
              0.2222222222222222,
              "#7201a8"
             ],
             [
              0.3333333333333333,
              "#9c179e"
             ],
             [
              0.4444444444444444,
              "#bd3786"
             ],
             [
              0.5555555555555556,
              "#d8576b"
             ],
             [
              0.6666666666666666,
              "#ed7953"
             ],
             [
              0.7777777777777778,
              "#fb9f3a"
             ],
             [
              0.8888888888888888,
              "#fdca26"
             ],
             [
              1,
              "#f0f921"
             ]
            ],
            "type": "heatmapgl"
           }
          ],
          "histogram": [
           {
            "marker": {
             "pattern": {
              "fillmode": "overlay",
              "size": 10,
              "solidity": 0.2
             }
            },
            "type": "histogram"
           }
          ],
          "histogram2d": [
           {
            "colorbar": {
             "outlinewidth": 0,
             "ticks": ""
            },
            "colorscale": [
             [
              0,
              "#0d0887"
             ],
             [
              0.1111111111111111,
              "#46039f"
             ],
             [
              0.2222222222222222,
              "#7201a8"
             ],
             [
              0.3333333333333333,
              "#9c179e"
             ],
             [
              0.4444444444444444,
              "#bd3786"
             ],
             [
              0.5555555555555556,
              "#d8576b"
             ],
             [
              0.6666666666666666,
              "#ed7953"
             ],
             [
              0.7777777777777778,
              "#fb9f3a"
             ],
             [
              0.8888888888888888,
              "#fdca26"
             ],
             [
              1,
              "#f0f921"
             ]
            ],
            "type": "histogram2d"
           }
          ],
          "histogram2dcontour": [
           {
            "colorbar": {
             "outlinewidth": 0,
             "ticks": ""
            },
            "colorscale": [
             [
              0,
              "#0d0887"
             ],
             [
              0.1111111111111111,
              "#46039f"
             ],
             [
              0.2222222222222222,
              "#7201a8"
             ],
             [
              0.3333333333333333,
              "#9c179e"
             ],
             [
              0.4444444444444444,
              "#bd3786"
             ],
             [
              0.5555555555555556,
              "#d8576b"
             ],
             [
              0.6666666666666666,
              "#ed7953"
             ],
             [
              0.7777777777777778,
              "#fb9f3a"
             ],
             [
              0.8888888888888888,
              "#fdca26"
             ],
             [
              1,
              "#f0f921"
             ]
            ],
            "type": "histogram2dcontour"
           }
          ],
          "mesh3d": [
           {
            "colorbar": {
             "outlinewidth": 0,
             "ticks": ""
            },
            "type": "mesh3d"
           }
          ],
          "parcoords": [
           {
            "line": {
             "colorbar": {
              "outlinewidth": 0,
              "ticks": ""
             }
            },
            "type": "parcoords"
           }
          ],
          "pie": [
           {
            "automargin": true,
            "type": "pie"
           }
          ],
          "scatter": [
           {
            "marker": {
             "colorbar": {
              "outlinewidth": 0,
              "ticks": ""
             }
            },
            "type": "scatter"
           }
          ],
          "scatter3d": [
           {
            "line": {
             "colorbar": {
              "outlinewidth": 0,
              "ticks": ""
             }
            },
            "marker": {
             "colorbar": {
              "outlinewidth": 0,
              "ticks": ""
             }
            },
            "type": "scatter3d"
           }
          ],
          "scattercarpet": [
           {
            "marker": {
             "colorbar": {
              "outlinewidth": 0,
              "ticks": ""
             }
            },
            "type": "scattercarpet"
           }
          ],
          "scattergeo": [
           {
            "marker": {
             "colorbar": {
              "outlinewidth": 0,
              "ticks": ""
             }
            },
            "type": "scattergeo"
           }
          ],
          "scattergl": [
           {
            "marker": {
             "colorbar": {
              "outlinewidth": 0,
              "ticks": ""
             }
            },
            "type": "scattergl"
           }
          ],
          "scattermapbox": [
           {
            "marker": {
             "colorbar": {
              "outlinewidth": 0,
              "ticks": ""
             }
            },
            "type": "scattermapbox"
           }
          ],
          "scatterpolar": [
           {
            "marker": {
             "colorbar": {
              "outlinewidth": 0,
              "ticks": ""
             }
            },
            "type": "scatterpolar"
           }
          ],
          "scatterpolargl": [
           {
            "marker": {
             "colorbar": {
              "outlinewidth": 0,
              "ticks": ""
             }
            },
            "type": "scatterpolargl"
           }
          ],
          "scatterternary": [
           {
            "marker": {
             "colorbar": {
              "outlinewidth": 0,
              "ticks": ""
             }
            },
            "type": "scatterternary"
           }
          ],
          "surface": [
           {
            "colorbar": {
             "outlinewidth": 0,
             "ticks": ""
            },
            "colorscale": [
             [
              0,
              "#0d0887"
             ],
             [
              0.1111111111111111,
              "#46039f"
             ],
             [
              0.2222222222222222,
              "#7201a8"
             ],
             [
              0.3333333333333333,
              "#9c179e"
             ],
             [
              0.4444444444444444,
              "#bd3786"
             ],
             [
              0.5555555555555556,
              "#d8576b"
             ],
             [
              0.6666666666666666,
              "#ed7953"
             ],
             [
              0.7777777777777778,
              "#fb9f3a"
             ],
             [
              0.8888888888888888,
              "#fdca26"
             ],
             [
              1,
              "#f0f921"
             ]
            ],
            "type": "surface"
           }
          ],
          "table": [
           {
            "cells": {
             "fill": {
              "color": "#EBF0F8"
             },
             "line": {
              "color": "white"
             }
            },
            "header": {
             "fill": {
              "color": "#C8D4E3"
             },
             "line": {
              "color": "white"
             }
            },
            "type": "table"
           }
          ]
         },
         "layout": {
          "annotationdefaults": {
           "arrowcolor": "#2a3f5f",
           "arrowhead": 0,
           "arrowwidth": 1
          },
          "autotypenumbers": "strict",
          "coloraxis": {
           "colorbar": {
            "outlinewidth": 0,
            "ticks": ""
           }
          },
          "colorscale": {
           "diverging": [
            [
             0,
             "#8e0152"
            ],
            [
             0.1,
             "#c51b7d"
            ],
            [
             0.2,
             "#de77ae"
            ],
            [
             0.3,
             "#f1b6da"
            ],
            [
             0.4,
             "#fde0ef"
            ],
            [
             0.5,
             "#f7f7f7"
            ],
            [
             0.6,
             "#e6f5d0"
            ],
            [
             0.7,
             "#b8e186"
            ],
            [
             0.8,
             "#7fbc41"
            ],
            [
             0.9,
             "#4d9221"
            ],
            [
             1,
             "#276419"
            ]
           ],
           "sequential": [
            [
             0,
             "#0d0887"
            ],
            [
             0.1111111111111111,
             "#46039f"
            ],
            [
             0.2222222222222222,
             "#7201a8"
            ],
            [
             0.3333333333333333,
             "#9c179e"
            ],
            [
             0.4444444444444444,
             "#bd3786"
            ],
            [
             0.5555555555555556,
             "#d8576b"
            ],
            [
             0.6666666666666666,
             "#ed7953"
            ],
            [
             0.7777777777777778,
             "#fb9f3a"
            ],
            [
             0.8888888888888888,
             "#fdca26"
            ],
            [
             1,
             "#f0f921"
            ]
           ],
           "sequentialminus": [
            [
             0,
             "#0d0887"
            ],
            [
             0.1111111111111111,
             "#46039f"
            ],
            [
             0.2222222222222222,
             "#7201a8"
            ],
            [
             0.3333333333333333,
             "#9c179e"
            ],
            [
             0.4444444444444444,
             "#bd3786"
            ],
            [
             0.5555555555555556,
             "#d8576b"
            ],
            [
             0.6666666666666666,
             "#ed7953"
            ],
            [
             0.7777777777777778,
             "#fb9f3a"
            ],
            [
             0.8888888888888888,
             "#fdca26"
            ],
            [
             1,
             "#f0f921"
            ]
           ]
          },
          "colorway": [
           "#636efa",
           "#EF553B",
           "#00cc96",
           "#ab63fa",
           "#FFA15A",
           "#19d3f3",
           "#FF6692",
           "#B6E880",
           "#FF97FF",
           "#FECB52"
          ],
          "font": {
           "color": "#2a3f5f"
          },
          "geo": {
           "bgcolor": "white",
           "lakecolor": "white",
           "landcolor": "#E5ECF6",
           "showlakes": true,
           "showland": true,
           "subunitcolor": "white"
          },
          "hoverlabel": {
           "align": "left"
          },
          "hovermode": "closest",
          "mapbox": {
           "style": "light"
          },
          "paper_bgcolor": "white",
          "plot_bgcolor": "#E5ECF6",
          "polar": {
           "angularaxis": {
            "gridcolor": "white",
            "linecolor": "white",
            "ticks": ""
           },
           "bgcolor": "#E5ECF6",
           "radialaxis": {
            "gridcolor": "white",
            "linecolor": "white",
            "ticks": ""
           }
          },
          "scene": {
           "xaxis": {
            "backgroundcolor": "#E5ECF6",
            "gridcolor": "white",
            "gridwidth": 2,
            "linecolor": "white",
            "showbackground": true,
            "ticks": "",
            "zerolinecolor": "white"
           },
           "yaxis": {
            "backgroundcolor": "#E5ECF6",
            "gridcolor": "white",
            "gridwidth": 2,
            "linecolor": "white",
            "showbackground": true,
            "ticks": "",
            "zerolinecolor": "white"
           },
           "zaxis": {
            "backgroundcolor": "#E5ECF6",
            "gridcolor": "white",
            "gridwidth": 2,
            "linecolor": "white",
            "showbackground": true,
            "ticks": "",
            "zerolinecolor": "white"
           }
          },
          "shapedefaults": {
           "line": {
            "color": "#2a3f5f"
           }
          },
          "ternary": {
           "aaxis": {
            "gridcolor": "white",
            "linecolor": "white",
            "ticks": ""
           },
           "baxis": {
            "gridcolor": "white",
            "linecolor": "white",
            "ticks": ""
           },
           "bgcolor": "#E5ECF6",
           "caxis": {
            "gridcolor": "white",
            "linecolor": "white",
            "ticks": ""
           }
          },
          "title": {
           "x": 0.05
          },
          "xaxis": {
           "automargin": true,
           "gridcolor": "white",
           "linecolor": "white",
           "ticks": "",
           "title": {
            "standoff": 15
           },
           "zerolinecolor": "white",
           "zerolinewidth": 2
          },
          "yaxis": {
           "automargin": true,
           "gridcolor": "white",
           "linecolor": "white",
           "ticks": "",
           "title": {
            "standoff": 15
           },
           "zerolinecolor": "white",
           "zerolinewidth": 2
          }
         }
        },
        "title": {
         "text": "Healthy life expectancy"
        }
       }
      },
      "text/html": [
       "<div>                            <div id=\"791238bd-1b6e-4878-a151-ae1edb5ff053\" class=\"plotly-graph-div\" style=\"height:525px; width:100%;\"></div>            <script type=\"text/javascript\">                require([\"plotly\"], function(Plotly) {                    window.PLOTLYENV=window.PLOTLYENV || {};                                    if (document.getElementById(\"791238bd-1b6e-4878-a151-ae1edb5ff053\")) {                    Plotly.newPlot(                        \"791238bd-1b6e-4878-a151-ae1edb5ff053\",                        [{\"coloraxis\":\"coloraxis\",\"geo\":\"geo\",\"hovertemplate\":\"Country=%{location}<br>healthy=%{z}<extra></extra>\",\"locationmode\":\"country names\",\"locations\":[\"Afghanistan\",\"Albania\",\"Algeria\",\"Angola\",\"Argentina\",\"Armenia\",\"Australia\",\"Austria\",\"Azerbaijan\",\"Bahrain\",\"Bangladesh\",\"Belarus\",\"Belgium\",\"Belize\",\"Benin\",\"Bhutan\",\"Bolivia\",\"Bosnia and Herzegovina\",\"Botswana\",\"Brazil\",\"Bulgaria\",\"Burkina Faso\",\"Burundi\",\"Cambodia\",\"Cameroon\",\"Canada\",\"Central African Republic\",\"Chad\",\"Chile\",\"China\",\"Colombia\",\"Comoros\",\"Congo (Brazzaville)\",\"Congo (Kinshasa)\",\"Costa Rica\",\"Croatia\",\"Cuba\",\"Cyprus\",\"Czech Republic\",\"Denmark\",\"Djibouti\",\"Dominican Republic\",\"Ecuador\",\"Egypt\",\"El Salvador\",\"Estonia\",\"Ethiopia\",\"Finland\",\"France\",\"Gabon\",\"Gambia\",\"Georgia\",\"Germany\",\"Ghana\",\"Greece\",\"Guatemala\",\"Guinea\",\"Guyana\",\"Haiti\",\"Honduras\",\"Hungary\",\"Iceland\",\"India\",\"Indonesia\",\"Iran\",\"Iraq\",\"Ireland\",\"Israel\",\"Italy\",\"Ivory Coast\",\"Jamaica\",\"Japan\",\"Jordan\",\"Kazakhstan\",\"Kenya\",\"Kuwait\",\"Kyrgyzstan\",\"Laos\",\"Latvia\",\"Lebanon\",\"Lesotho\",\"Liberia\",\"Libya\",\"Lithuania\",\"Luxembourg\",\"Madagascar\",\"Malawi\",\"Malaysia\",\"Maldives\",\"Mali\",\"Malta\",\"Mauritania\",\"Mauritius\",\"Mexico\",\"Moldova\",\"Mongolia\",\"Montenegro\",\"Morocco\",\"Mozambique\",\"Myanmar\",\"Namibia\",\"Nepal\",\"Netherlands\",\"New Zealand\",\"Nicaragua\",\"Niger\",\"Nigeria\",\"North Macedonia\",\"Norway\",\"Oman\",\"Pakistan\",\"Palestinian Territories\",\"Panama\",\"Paraguay\",\"Peru\",\"Philippines\",\"Poland\",\"Portugal\",\"Qatar\",\"Romania\",\"Russia\",\"Rwanda\",\"Saudi Arabia\",\"Senegal\",\"Serbia\",\"Sierra Leone\",\"Singapore\",\"Slovakia\",\"Slovenia\",\"Somalia\",\"South Africa\",\"South Korea\",\"South Sudan\",\"Spain\",\"Sri Lanka\",\"Sudan\",\"Suriname\",\"Swaziland\",\"Sweden\",\"Switzerland\",\"Syria\",\"Taiwan Province of China\",\"Tajikistan\",\"Tanzania\",\"Thailand\",\"Togo\",\"Trinidad and Tobago\",\"Tunisia\",\"Turkey\",\"Turkmenistan\",\"Uganda\",\"Ukraine\",\"United Arab Emirates\",\"United Kingdom\",\"United States\",\"Uruguay\",\"Uzbekistan\",\"Venezuela\",\"Vietnam\",\"Yemen\",\"Zambia\",\"Zimbabwe\"],\"name\":\"\",\"type\":\"choropleth\",\"z\":[52.26666673024496,67.54615372877855,65.28999996185303,53.55000019073486,67.9,65.74285670689174,72.69285692487445,72.1030772282527,63.942857469831196,67.59454553777522,62.040000406901044,63.750000272478374,71.22857230050224,61.90999984741211,52.93333307902018,59.90000025431315,61.87333323160807,67.1015384380634,54.9983336130778,65.21733322143555,66.2333329518636,51.01230826744666,50.91600036621094,59.38000005086263,49.78000005086263,72.69466603597006,43.35600128173828,45.91428593226841,69.33333333333333,68.2066660563151,66.50666656494141,55.686667124430336,55.93000030517578,51.355000019073486,70.38571439470563,68.82000028170071,68.44000244140625,72.96923123873196,68.82000096638997,71.1693328857422,54.00999927520752,64.49999974568685,67.406667582194,60.6826665242513,64.81999994913737,67.32857131958008,57.433333502875435,71.18000030517578,72.78933308919271,58.000000423855255,55.0,64.81333363850912,71.3106674194336,55.21999994913737,71.75714329310826,62.971428462437224,52.07777786254883,57.2599983215332,47.04909064553001,66.02142878941127,66.35714285714286,72.86499977111816,58.32000020345052,60.99285697937012,64.69230739886945,59.28999996185303,71.72285733904157,72.54666697184244,72.97466684977213,48.38666661580404,66.4600003560384,74.29199981689453,65.52399978637695,61.85333353678386,56.71333363850911,65.47272768887606,62.33333282470703,56.868888007269966,65.40714291163853,65.65428488595145,47.08500003814697,53.386666191948784,62.359999338785805,65.40666681925455,72.2490893277255,57.26000005548651,53.03833293914795,65.91666666666667,70.5999984741211,49.41999992957482,71.98166465759277,55.463076664851265,66.0,67.23600006103516,62.733333079020184,61.17692301823543,67.73076923076923,65.02999992370606,49.827500343322754,58.36000018649631,55.239999771118164,60.12857164655413,71.70714296613421,72.42857142857143,66.02142933436802,50.51428549630301,47.5,64.96224858210637,72.66999969482421,65.5,56.7214287349156,62.01499938964844,68.7999997820173,64.71538485013522,66.79285703386579,61.1,68.05714307512555,71.53538454495944,67.18799896240235,65.85692302997296,62.13333282470703,57.58666674296061,65.10133361816406,57.050000054495676,67.09230687068059,45.713333447774254,75.35846123328575,67.90833346048991,70.04615372877855,49.8999989827474,53.04666646321615,72.19333343505859,50.40999984741211,73.31466623942057,66.4076919555664,54.331999969482425,62.2400016784668,47.47729619344076,72.1106674194336,73.33399963378906,61.25999995640346,69.13999938964844,62.833333587646486,54.173333231608076,66.06000061035157,52.83777787950304,62.54000015258789,66.06333287556966,65.17599995930989,61.00399971008301,52.333333333333336,62.9533332824707,66.64615396352914,71.50799967447917,68.43999989827473,68.37999979654948,63.73230743408203,65.9586664835612,66.92857142857143,54.8666664759318,51.70714269365583,50.233333333333334]}],                        {\"coloraxis\":{\"colorbar\":{\"title\":{\"text\":\"healthy\"}},\"colorscale\":[[0.0,\"rgb(247,251,255)\"],[0.125,\"rgb(222,235,247)\"],[0.25,\"rgb(198,219,239)\"],[0.375,\"rgb(158,202,225)\"],[0.5,\"rgb(107,174,214)\"],[0.625,\"rgb(66,146,198)\"],[0.75,\"rgb(33,113,181)\"],[0.875,\"rgb(8,81,156)\"],[1.0,\"rgb(8,48,107)\"]]},\"geo\":{\"center\":{},\"domain\":{\"x\":[0.0,1.0],\"y\":[0.0,1.0]}},\"legend\":{\"tracegroupgap\":0},\"template\":{\"data\":{\"bar\":[{\"error_x\":{\"color\":\"#2a3f5f\"},\"error_y\":{\"color\":\"#2a3f5f\"},\"marker\":{\"line\":{\"color\":\"#E5ECF6\",\"width\":0.5},\"pattern\":{\"fillmode\":\"overlay\",\"size\":10,\"solidity\":0.2}},\"type\":\"bar\"}],\"barpolar\":[{\"marker\":{\"line\":{\"color\":\"#E5ECF6\",\"width\":0.5},\"pattern\":{\"fillmode\":\"overlay\",\"size\":10,\"solidity\":0.2}},\"type\":\"barpolar\"}],\"carpet\":[{\"aaxis\":{\"endlinecolor\":\"#2a3f5f\",\"gridcolor\":\"white\",\"linecolor\":\"white\",\"minorgridcolor\":\"white\",\"startlinecolor\":\"#2a3f5f\"},\"baxis\":{\"endlinecolor\":\"#2a3f5f\",\"gridcolor\":\"white\",\"linecolor\":\"white\",\"minorgridcolor\":\"white\",\"startlinecolor\":\"#2a3f5f\"},\"type\":\"carpet\"}],\"choropleth\":[{\"colorbar\":{\"outlinewidth\":0,\"ticks\":\"\"},\"type\":\"choropleth\"}],\"contour\":[{\"colorbar\":{\"outlinewidth\":0,\"ticks\":\"\"},\"colorscale\":[[0.0,\"#0d0887\"],[0.1111111111111111,\"#46039f\"],[0.2222222222222222,\"#7201a8\"],[0.3333333333333333,\"#9c179e\"],[0.4444444444444444,\"#bd3786\"],[0.5555555555555556,\"#d8576b\"],[0.6666666666666666,\"#ed7953\"],[0.7777777777777778,\"#fb9f3a\"],[0.8888888888888888,\"#fdca26\"],[1.0,\"#f0f921\"]],\"type\":\"contour\"}],\"contourcarpet\":[{\"colorbar\":{\"outlinewidth\":0,\"ticks\":\"\"},\"type\":\"contourcarpet\"}],\"heatmap\":[{\"colorbar\":{\"outlinewidth\":0,\"ticks\":\"\"},\"colorscale\":[[0.0,\"#0d0887\"],[0.1111111111111111,\"#46039f\"],[0.2222222222222222,\"#7201a8\"],[0.3333333333333333,\"#9c179e\"],[0.4444444444444444,\"#bd3786\"],[0.5555555555555556,\"#d8576b\"],[0.6666666666666666,\"#ed7953\"],[0.7777777777777778,\"#fb9f3a\"],[0.8888888888888888,\"#fdca26\"],[1.0,\"#f0f921\"]],\"type\":\"heatmap\"}],\"heatmapgl\":[{\"colorbar\":{\"outlinewidth\":0,\"ticks\":\"\"},\"colorscale\":[[0.0,\"#0d0887\"],[0.1111111111111111,\"#46039f\"],[0.2222222222222222,\"#7201a8\"],[0.3333333333333333,\"#9c179e\"],[0.4444444444444444,\"#bd3786\"],[0.5555555555555556,\"#d8576b\"],[0.6666666666666666,\"#ed7953\"],[0.7777777777777778,\"#fb9f3a\"],[0.8888888888888888,\"#fdca26\"],[1.0,\"#f0f921\"]],\"type\":\"heatmapgl\"}],\"histogram\":[{\"marker\":{\"pattern\":{\"fillmode\":\"overlay\",\"size\":10,\"solidity\":0.2}},\"type\":\"histogram\"}],\"histogram2d\":[{\"colorbar\":{\"outlinewidth\":0,\"ticks\":\"\"},\"colorscale\":[[0.0,\"#0d0887\"],[0.1111111111111111,\"#46039f\"],[0.2222222222222222,\"#7201a8\"],[0.3333333333333333,\"#9c179e\"],[0.4444444444444444,\"#bd3786\"],[0.5555555555555556,\"#d8576b\"],[0.6666666666666666,\"#ed7953\"],[0.7777777777777778,\"#fb9f3a\"],[0.8888888888888888,\"#fdca26\"],[1.0,\"#f0f921\"]],\"type\":\"histogram2d\"}],\"histogram2dcontour\":[{\"colorbar\":{\"outlinewidth\":0,\"ticks\":\"\"},\"colorscale\":[[0.0,\"#0d0887\"],[0.1111111111111111,\"#46039f\"],[0.2222222222222222,\"#7201a8\"],[0.3333333333333333,\"#9c179e\"],[0.4444444444444444,\"#bd3786\"],[0.5555555555555556,\"#d8576b\"],[0.6666666666666666,\"#ed7953\"],[0.7777777777777778,\"#fb9f3a\"],[0.8888888888888888,\"#fdca26\"],[1.0,\"#f0f921\"]],\"type\":\"histogram2dcontour\"}],\"mesh3d\":[{\"colorbar\":{\"outlinewidth\":0,\"ticks\":\"\"},\"type\":\"mesh3d\"}],\"parcoords\":[{\"line\":{\"colorbar\":{\"outlinewidth\":0,\"ticks\":\"\"}},\"type\":\"parcoords\"}],\"pie\":[{\"automargin\":true,\"type\":\"pie\"}],\"scatter\":[{\"marker\":{\"colorbar\":{\"outlinewidth\":0,\"ticks\":\"\"}},\"type\":\"scatter\"}],\"scatter3d\":[{\"line\":{\"colorbar\":{\"outlinewidth\":0,\"ticks\":\"\"}},\"marker\":{\"colorbar\":{\"outlinewidth\":0,\"ticks\":\"\"}},\"type\":\"scatter3d\"}],\"scattercarpet\":[{\"marker\":{\"colorbar\":{\"outlinewidth\":0,\"ticks\":\"\"}},\"type\":\"scattercarpet\"}],\"scattergeo\":[{\"marker\":{\"colorbar\":{\"outlinewidth\":0,\"ticks\":\"\"}},\"type\":\"scattergeo\"}],\"scattergl\":[{\"marker\":{\"colorbar\":{\"outlinewidth\":0,\"ticks\":\"\"}},\"type\":\"scattergl\"}],\"scattermapbox\":[{\"marker\":{\"colorbar\":{\"outlinewidth\":0,\"ticks\":\"\"}},\"type\":\"scattermapbox\"}],\"scatterpolar\":[{\"marker\":{\"colorbar\":{\"outlinewidth\":0,\"ticks\":\"\"}},\"type\":\"scatterpolar\"}],\"scatterpolargl\":[{\"marker\":{\"colorbar\":{\"outlinewidth\":0,\"ticks\":\"\"}},\"type\":\"scatterpolargl\"}],\"scatterternary\":[{\"marker\":{\"colorbar\":{\"outlinewidth\":0,\"ticks\":\"\"}},\"type\":\"scatterternary\"}],\"surface\":[{\"colorbar\":{\"outlinewidth\":0,\"ticks\":\"\"},\"colorscale\":[[0.0,\"#0d0887\"],[0.1111111111111111,\"#46039f\"],[0.2222222222222222,\"#7201a8\"],[0.3333333333333333,\"#9c179e\"],[0.4444444444444444,\"#bd3786\"],[0.5555555555555556,\"#d8576b\"],[0.6666666666666666,\"#ed7953\"],[0.7777777777777778,\"#fb9f3a\"],[0.8888888888888888,\"#fdca26\"],[1.0,\"#f0f921\"]],\"type\":\"surface\"}],\"table\":[{\"cells\":{\"fill\":{\"color\":\"#EBF0F8\"},\"line\":{\"color\":\"white\"}},\"header\":{\"fill\":{\"color\":\"#C8D4E3\"},\"line\":{\"color\":\"white\"}},\"type\":\"table\"}]},\"layout\":{\"annotationdefaults\":{\"arrowcolor\":\"#2a3f5f\",\"arrowhead\":0,\"arrowwidth\":1},\"autotypenumbers\":\"strict\",\"coloraxis\":{\"colorbar\":{\"outlinewidth\":0,\"ticks\":\"\"}},\"colorscale\":{\"diverging\":[[0,\"#8e0152\"],[0.1,\"#c51b7d\"],[0.2,\"#de77ae\"],[0.3,\"#f1b6da\"],[0.4,\"#fde0ef\"],[0.5,\"#f7f7f7\"],[0.6,\"#e6f5d0\"],[0.7,\"#b8e186\"],[0.8,\"#7fbc41\"],[0.9,\"#4d9221\"],[1,\"#276419\"]],\"sequential\":[[0.0,\"#0d0887\"],[0.1111111111111111,\"#46039f\"],[0.2222222222222222,\"#7201a8\"],[0.3333333333333333,\"#9c179e\"],[0.4444444444444444,\"#bd3786\"],[0.5555555555555556,\"#d8576b\"],[0.6666666666666666,\"#ed7953\"],[0.7777777777777778,\"#fb9f3a\"],[0.8888888888888888,\"#fdca26\"],[1.0,\"#f0f921\"]],\"sequentialminus\":[[0.0,\"#0d0887\"],[0.1111111111111111,\"#46039f\"],[0.2222222222222222,\"#7201a8\"],[0.3333333333333333,\"#9c179e\"],[0.4444444444444444,\"#bd3786\"],[0.5555555555555556,\"#d8576b\"],[0.6666666666666666,\"#ed7953\"],[0.7777777777777778,\"#fb9f3a\"],[0.8888888888888888,\"#fdca26\"],[1.0,\"#f0f921\"]]},\"colorway\":[\"#636efa\",\"#EF553B\",\"#00cc96\",\"#ab63fa\",\"#FFA15A\",\"#19d3f3\",\"#FF6692\",\"#B6E880\",\"#FF97FF\",\"#FECB52\"],\"font\":{\"color\":\"#2a3f5f\"},\"geo\":{\"bgcolor\":\"white\",\"lakecolor\":\"white\",\"landcolor\":\"#E5ECF6\",\"showlakes\":true,\"showland\":true,\"subunitcolor\":\"white\"},\"hoverlabel\":{\"align\":\"left\"},\"hovermode\":\"closest\",\"mapbox\":{\"style\":\"light\"},\"paper_bgcolor\":\"white\",\"plot_bgcolor\":\"#E5ECF6\",\"polar\":{\"angularaxis\":{\"gridcolor\":\"white\",\"linecolor\":\"white\",\"ticks\":\"\"},\"bgcolor\":\"#E5ECF6\",\"radialaxis\":{\"gridcolor\":\"white\",\"linecolor\":\"white\",\"ticks\":\"\"}},\"scene\":{\"xaxis\":{\"backgroundcolor\":\"#E5ECF6\",\"gridcolor\":\"white\",\"gridwidth\":2,\"linecolor\":\"white\",\"showbackground\":true,\"ticks\":\"\",\"zerolinecolor\":\"white\"},\"yaxis\":{\"backgroundcolor\":\"#E5ECF6\",\"gridcolor\":\"white\",\"gridwidth\":2,\"linecolor\":\"white\",\"showbackground\":true,\"ticks\":\"\",\"zerolinecolor\":\"white\"},\"zaxis\":{\"backgroundcolor\":\"#E5ECF6\",\"gridcolor\":\"white\",\"gridwidth\":2,\"linecolor\":\"white\",\"showbackground\":true,\"ticks\":\"\",\"zerolinecolor\":\"white\"}},\"shapedefaults\":{\"line\":{\"color\":\"#2a3f5f\"}},\"ternary\":{\"aaxis\":{\"gridcolor\":\"white\",\"linecolor\":\"white\",\"ticks\":\"\"},\"baxis\":{\"gridcolor\":\"white\",\"linecolor\":\"white\",\"ticks\":\"\"},\"bgcolor\":\"#E5ECF6\",\"caxis\":{\"gridcolor\":\"white\",\"linecolor\":\"white\",\"ticks\":\"\"}},\"title\":{\"x\":0.05},\"xaxis\":{\"automargin\":true,\"gridcolor\":\"white\",\"linecolor\":\"white\",\"ticks\":\"\",\"title\":{\"standoff\":15},\"zerolinecolor\":\"white\",\"zerolinewidth\":2},\"yaxis\":{\"automargin\":true,\"gridcolor\":\"white\",\"linecolor\":\"white\",\"ticks\":\"\",\"title\":{\"standoff\":15},\"zerolinecolor\":\"white\",\"zerolinewidth\":2}}},\"title\":{\"text\":\"Healthy life expectancy\"}},                        {\"responsive\": true}                    ).then(function(){\n",
       "                            \n",
       "var gd = document.getElementById('791238bd-1b6e-4878-a151-ae1edb5ff053');\n",
       "var x = new MutationObserver(function (mutations, observer) {{\n",
       "        var display = window.getComputedStyle(gd).display;\n",
       "        if (!display || display === 'none') {{\n",
       "            console.log([gd, 'removed!']);\n",
       "            Plotly.purge(gd);\n",
       "            observer.disconnect();\n",
       "        }}\n",
       "}});\n",
       "\n",
       "// Listen for the removal of the full notebook cells\n",
       "var notebookContainer = gd.closest('#notebook-container');\n",
       "if (notebookContainer) {{\n",
       "    x.observe(notebookContainer, {childList: true});\n",
       "}}\n",
       "\n",
       "// Listen for the clearing of the current output cell\n",
       "var outputEl = gd.closest('.output');\n",
       "if (outputEl) {{\n",
       "    x.observe(outputEl, {childList: true});\n",
       "}}\n",
       "\n",
       "                        })                };                });            </script>        </div>"
      ]
     },
     "metadata": {},
     "output_type": "display_data"
    }
   ],
   "source": [
    "px.choropleth(data_frame=healthy,locations='Country',color=healthy['healthy'],locationmode='country names',color_continuous_scale=px.colors.sequential.Blues,title='Healthy life expectancy')"
   ]
  },
  {
   "cell_type": "code",
   "execution_count": 21,
   "metadata": {},
   "outputs": [
    {
     "data": {
      "text/html": [
       "<div>\n",
       "<style scoped>\n",
       "    .dataframe tbody tr th:only-of-type {\n",
       "        vertical-align: middle;\n",
       "    }\n",
       "\n",
       "    .dataframe tbody tr th {\n",
       "        vertical-align: top;\n",
       "    }\n",
       "\n",
       "    .dataframe thead th {\n",
       "        text-align: right;\n",
       "    }\n",
       "</style>\n",
       "<table border=\"1\" class=\"dataframe\">\n",
       "  <thead>\n",
       "    <tr style=\"text-align: right;\">\n",
       "      <th></th>\n",
       "      <th>Country</th>\n",
       "      <th>healthy</th>\n",
       "    </tr>\n",
       "  </thead>\n",
       "  <tbody>\n",
       "    <tr>\n",
       "      <th>0</th>\n",
       "      <td>Afghanistan</td>\n",
       "      <td>52.266667</td>\n",
       "    </tr>\n",
       "    <tr>\n",
       "      <th>1</th>\n",
       "      <td>Albania</td>\n",
       "      <td>67.546154</td>\n",
       "    </tr>\n",
       "    <tr>\n",
       "      <th>2</th>\n",
       "      <td>Algeria</td>\n",
       "      <td>65.290000</td>\n",
       "    </tr>\n",
       "    <tr>\n",
       "      <th>3</th>\n",
       "      <td>Angola</td>\n",
       "      <td>53.550000</td>\n",
       "    </tr>\n",
       "    <tr>\n",
       "      <th>4</th>\n",
       "      <td>Argentina</td>\n",
       "      <td>67.900000</td>\n",
       "    </tr>\n",
       "    <tr>\n",
       "      <th>...</th>\n",
       "      <td>...</td>\n",
       "      <td>...</td>\n",
       "    </tr>\n",
       "    <tr>\n",
       "      <th>157</th>\n",
       "      <td>Venezuela</td>\n",
       "      <td>65.958666</td>\n",
       "    </tr>\n",
       "    <tr>\n",
       "      <th>158</th>\n",
       "      <td>Vietnam</td>\n",
       "      <td>66.928571</td>\n",
       "    </tr>\n",
       "    <tr>\n",
       "      <th>159</th>\n",
       "      <td>Yemen</td>\n",
       "      <td>54.866666</td>\n",
       "    </tr>\n",
       "    <tr>\n",
       "      <th>160</th>\n",
       "      <td>Zambia</td>\n",
       "      <td>51.707143</td>\n",
       "    </tr>\n",
       "    <tr>\n",
       "      <th>161</th>\n",
       "      <td>Zimbabwe</td>\n",
       "      <td>50.233333</td>\n",
       "    </tr>\n",
       "  </tbody>\n",
       "</table>\n",
       "<p>162 rows × 2 columns</p>\n",
       "</div>"
      ],
      "text/plain": [
       "         Country    healthy\n",
       "0    Afghanistan  52.266667\n",
       "1        Albania  67.546154\n",
       "2        Algeria  65.290000\n",
       "3         Angola  53.550000\n",
       "4      Argentina  67.900000\n",
       "..           ...        ...\n",
       "157    Venezuela  65.958666\n",
       "158      Vietnam  66.928571\n",
       "159        Yemen  54.866666\n",
       "160       Zambia  51.707143\n",
       "161     Zimbabwe  50.233333\n",
       "\n",
       "[162 rows x 2 columns]"
      ]
     },
     "execution_count": 21,
     "metadata": {},
     "output_type": "execute_result"
    }
   ],
   "source": [
    "healthy"
   ]
  },
  {
   "cell_type": "code",
   "execution_count": null,
   "metadata": {},
   "outputs": [],
   "source": []
  }
 ],
 "metadata": {
  "kernelspec": {
   "display_name": "Python 3",
   "language": "python",
   "name": "python3"
  },
  "language_info": {
   "codemirror_mode": {
    "name": "ipython",
    "version": 3
   },
   "file_extension": ".py",
   "mimetype": "text/x-python",
   "name": "python",
   "nbconvert_exporter": "python",
   "pygments_lexer": "ipython3",
   "version": "3.8.5"
  }
 },
 "nbformat": 4,
 "nbformat_minor": 4
}
