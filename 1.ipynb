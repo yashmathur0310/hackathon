{
 "cells": [
  {
   "cell_type": "code",
   "execution_count": 1,
   "metadata": {},
   "outputs": [
    {
     "name": "stderr",
     "output_type": "stream",
     "text": [
      "<frozen importlib._bootstrap>:219: RuntimeWarning: numpy.ufunc size changed, may indicate binary incompatibility. Expected 216 from C header, got 232 from PyObject\n"
     ]
    }
   ],
   "source": [
    "import pandas as pd \n",
    "import numpy as np \n",
    "import seaborn as sns \n",
    "import matplotlib.pyplot as plt "
   ]
  },
  {
   "cell_type": "code",
   "execution_count": 5,
   "metadata": {},
   "outputs": [],
   "source": [
    "df=pd.read_excel('MortalityDataWHR2021C2.xlsx')"
   ]
  },
  {
   "cell_type": "code",
   "execution_count": 7,
   "metadata": {},
   "outputs": [
    {
     "data": {
      "text/html": [
       "<div>\n",
       "<style scoped>\n",
       "    .dataframe tbody tr th:only-of-type {\n",
       "        vertical-align: middle;\n",
       "    }\n",
       "\n",
       "    .dataframe tbody tr th {\n",
       "        vertical-align: top;\n",
       "    }\n",
       "\n",
       "    .dataframe thead th {\n",
       "        text-align: right;\n",
       "    }\n",
       "</style>\n",
       "<table border=\"1\" class=\"dataframe\">\n",
       "  <thead>\n",
       "    <tr style=\"text-align: right;\">\n",
       "      <th></th>\n",
       "      <th>Country name</th>\n",
       "      <th>Population 2020</th>\n",
       "      <th>Population 2019</th>\n",
       "      <th>COVID-19 deaths per 100,000 population in 2020</th>\n",
       "      <th>Median age</th>\n",
       "      <th>Island</th>\n",
       "      <th>Index of exposure to COVID-19  infections in other countries as of March 31</th>\n",
       "      <th>Log of average distance to SARS countries</th>\n",
       "      <th>WHO Western Pacific Region</th>\n",
       "      <th>Female head of government</th>\n",
       "      <th>Index of institutional trust</th>\n",
       "      <th>Gini coefficient of income</th>\n",
       "      <th>All-cause death count, 2017</th>\n",
       "      <th>All-cause death count, 2018</th>\n",
       "      <th>All-cause death count, 2019</th>\n",
       "      <th>All-cause death count, 2020</th>\n",
       "      <th>Excess deaths in 2020 per 100,000 population, relative to 2017-2019 average</th>\n",
       "    </tr>\n",
       "  </thead>\n",
       "  <tbody>\n",
       "    <tr>\n",
       "      <th>0</th>\n",
       "      <td>United States</td>\n",
       "      <td>331002647.0</td>\n",
       "      <td>328239523.0</td>\n",
       "      <td>104.451401</td>\n",
       "      <td>38.299999</td>\n",
       "      <td>0</td>\n",
       "      <td>1.687503</td>\n",
       "      <td>9.314896</td>\n",
       "      <td>0</td>\n",
       "      <td>0</td>\n",
       "      <td>0.250043</td>\n",
       "      <td>47.51</td>\n",
       "      <td>2810927.0</td>\n",
       "      <td>2839076.0</td>\n",
       "      <td>2852747.0</td>\n",
       "      <td>3424996.0</td>\n",
       "      <td>179.219727</td>\n",
       "    </tr>\n",
       "    <tr>\n",
       "      <th>1</th>\n",
       "      <td>Egypt</td>\n",
       "      <td>102334403.0</td>\n",
       "      <td>100388073.0</td>\n",
       "      <td>7.456900</td>\n",
       "      <td>25.299999</td>\n",
       "      <td>0</td>\n",
       "      <td>1.626675</td>\n",
       "      <td>9.006860</td>\n",
       "      <td>0</td>\n",
       "      <td>0</td>\n",
       "      <td>0.445924</td>\n",
       "      <td>31.56</td>\n",
       "      <td>NaN</td>\n",
       "      <td>NaN</td>\n",
       "      <td>NaN</td>\n",
       "      <td>NaN</td>\n",
       "      <td>NaN</td>\n",
       "    </tr>\n",
       "    <tr>\n",
       "      <th>2</th>\n",
       "      <td>Morocco</td>\n",
       "      <td>36910558.0</td>\n",
       "      <td>36471769.0</td>\n",
       "      <td>20.016001</td>\n",
       "      <td>29.600000</td>\n",
       "      <td>0</td>\n",
       "      <td>2.336053</td>\n",
       "      <td>9.226011</td>\n",
       "      <td>0</td>\n",
       "      <td>0</td>\n",
       "      <td>0.397255</td>\n",
       "      <td>39.55</td>\n",
       "      <td>NaN</td>\n",
       "      <td>NaN</td>\n",
       "      <td>NaN</td>\n",
       "      <td>NaN</td>\n",
       "      <td>NaN</td>\n",
       "    </tr>\n",
       "    <tr>\n",
       "      <th>3</th>\n",
       "      <td>Lebanon</td>\n",
       "      <td>6825442.0</td>\n",
       "      <td>6855713.0</td>\n",
       "      <td>21.507801</td>\n",
       "      <td>31.100000</td>\n",
       "      <td>0</td>\n",
       "      <td>1.891434</td>\n",
       "      <td>8.956014</td>\n",
       "      <td>0</td>\n",
       "      <td>0</td>\n",
       "      <td>0.106633</td>\n",
       "      <td>31.83</td>\n",
       "      <td>NaN</td>\n",
       "      <td>NaN</td>\n",
       "      <td>NaN</td>\n",
       "      <td>NaN</td>\n",
       "      <td>NaN</td>\n",
       "    </tr>\n",
       "    <tr>\n",
       "      <th>4</th>\n",
       "      <td>Saudi Arabia</td>\n",
       "      <td>34813867.0</td>\n",
       "      <td>34268528.0</td>\n",
       "      <td>17.875101</td>\n",
       "      <td>31.900000</td>\n",
       "      <td>0</td>\n",
       "      <td>1.250483</td>\n",
       "      <td>8.896798</td>\n",
       "      <td>0</td>\n",
       "      <td>0</td>\n",
       "      <td>0.650619</td>\n",
       "      <td>45.90</td>\n",
       "      <td>NaN</td>\n",
       "      <td>NaN</td>\n",
       "      <td>NaN</td>\n",
       "      <td>NaN</td>\n",
       "      <td>NaN</td>\n",
       "    </tr>\n",
       "  </tbody>\n",
       "</table>\n",
       "</div>"
      ],
      "text/plain": [
       "    Country name  Population 2020  Population 2019  \\\n",
       "0  United States      331002647.0      328239523.0   \n",
       "1          Egypt      102334403.0      100388073.0   \n",
       "2        Morocco       36910558.0       36471769.0   \n",
       "3        Lebanon        6825442.0        6855713.0   \n",
       "4   Saudi Arabia       34813867.0       34268528.0   \n",
       "\n",
       "   COVID-19 deaths per 100,000 population in 2020  Median age  Island  \\\n",
       "0                                      104.451401   38.299999       0   \n",
       "1                                        7.456900   25.299999       0   \n",
       "2                                       20.016001   29.600000       0   \n",
       "3                                       21.507801   31.100000       0   \n",
       "4                                       17.875101   31.900000       0   \n",
       "\n",
       "   Index of exposure to COVID-19  infections in other countries as of March 31  \\\n",
       "0                                           1.687503                             \n",
       "1                                           1.626675                             \n",
       "2                                           2.336053                             \n",
       "3                                           1.891434                             \n",
       "4                                           1.250483                             \n",
       "\n",
       "   Log of average distance to SARS countries  WHO Western Pacific Region  \\\n",
       "0                                   9.314896                           0   \n",
       "1                                   9.006860                           0   \n",
       "2                                   9.226011                           0   \n",
       "3                                   8.956014                           0   \n",
       "4                                   8.896798                           0   \n",
       "\n",
       "   Female head of government  Index of institutional trust  \\\n",
       "0                          0                      0.250043   \n",
       "1                          0                      0.445924   \n",
       "2                          0                      0.397255   \n",
       "3                          0                      0.106633   \n",
       "4                          0                      0.650619   \n",
       "\n",
       "   Gini coefficient of income  All-cause death count, 2017  \\\n",
       "0                       47.51                    2810927.0   \n",
       "1                       31.56                          NaN   \n",
       "2                       39.55                          NaN   \n",
       "3                       31.83                          NaN   \n",
       "4                       45.90                          NaN   \n",
       "\n",
       "   All-cause death count, 2018  All-cause death count, 2019  \\\n",
       "0                    2839076.0                    2852747.0   \n",
       "1                          NaN                          NaN   \n",
       "2                          NaN                          NaN   \n",
       "3                          NaN                          NaN   \n",
       "4                          NaN                          NaN   \n",
       "\n",
       "   All-cause death count, 2020  \\\n",
       "0                    3424996.0   \n",
       "1                          NaN   \n",
       "2                          NaN   \n",
       "3                          NaN   \n",
       "4                          NaN   \n",
       "\n",
       "   Excess deaths in 2020 per 100,000 population, relative to 2017-2019 average  \n",
       "0                                         179.219727                            \n",
       "1                                                NaN                            \n",
       "2                                                NaN                            \n",
       "3                                                NaN                            \n",
       "4                                                NaN                            "
      ]
     },
     "execution_count": 7,
     "metadata": {},
     "output_type": "execute_result"
    }
   ],
   "source": [
    "df.head()"
   ]
  },
  {
   "cell_type": "code",
   "execution_count": 8,
   "metadata": {},
   "outputs": [
    {
     "data": {
      "text/plain": [
       "(166, 17)"
      ]
     },
     "execution_count": 8,
     "metadata": {},
     "output_type": "execute_result"
    }
   ],
   "source": [
    "df.shape"
   ]
  },
  {
   "cell_type": "code",
   "execution_count": 9,
   "metadata": {},
   "outputs": [
    {
     "data": {
      "text/plain": [
       "Country name                                                                     0\n",
       "Population 2020                                                                  2\n",
       "Population 2019                                                                  2\n",
       "COVID-19 deaths per 100,000 population in 2020                                   3\n",
       "Median age                                                                       3\n",
       "Island                                                                           0\n",
       "Index of exposure to COVID-19  infections in other countries as of March 31      2\n",
       "Log of average distance to SARS countries                                        2\n",
       "WHO Western Pacific Region                                                       0\n",
       "Female head of government                                                        0\n",
       "Index of institutional trust                                                     1\n",
       "Gini coefficient of income                                                       2\n",
       "All-cause death count, 2017                                                    103\n",
       "All-cause death count, 2018                                                    102\n",
       "All-cause death count, 2019                                                    102\n",
       "All-cause death count, 2020                                                    101\n",
       "Excess deaths in 2020 per 100,000 population, relative to 2017-2019 average    102\n",
       "dtype: int64"
      ]
     },
     "execution_count": 9,
     "metadata": {},
     "output_type": "execute_result"
    }
   ],
   "source": [
    "df.isnull().sum()"
   ]
  },
  {
   "cell_type": "code",
   "execution_count": 10,
   "metadata": {},
   "outputs": [
    {
     "data": {
      "text/plain": [
       "166"
      ]
     },
     "execution_count": 10,
     "metadata": {},
     "output_type": "execute_result"
    }
   ],
   "source": [
    "df['Country name'].nunique()"
   ]
  },
  {
   "cell_type": "code",
   "execution_count": 34,
   "metadata": {},
   "outputs": [],
   "source": [
    "## 10 most populated countries in 2020"
   ]
  },
  {
   "cell_type": "code",
   "execution_count": 19,
   "metadata": {},
   "outputs": [],
   "source": [
    "max_population_2020=df.sort_values(['Population 2020'],ascending=False)[['Country name','Population 2020']][:10]"
   ]
  },
  {
   "cell_type": "code",
   "execution_count": 28,
   "metadata": {},
   "outputs": [
    {
     "data": {
      "text/html": [
       "<div>\n",
       "<style scoped>\n",
       "    .dataframe tbody tr th:only-of-type {\n",
       "        vertical-align: middle;\n",
       "    }\n",
       "\n",
       "    .dataframe tbody tr th {\n",
       "        vertical-align: top;\n",
       "    }\n",
       "\n",
       "    .dataframe thead th {\n",
       "        text-align: right;\n",
       "    }\n",
       "</style>\n",
       "<table border=\"1\" class=\"dataframe\">\n",
       "  <thead>\n",
       "    <tr style=\"text-align: right;\">\n",
       "      <th></th>\n",
       "      <th>Country name</th>\n",
       "      <th>Population 2020</th>\n",
       "    </tr>\n",
       "  </thead>\n",
       "  <tbody>\n",
       "    <tr>\n",
       "      <th>29</th>\n",
       "      <td>China</td>\n",
       "      <td>1.439324e+09</td>\n",
       "    </tr>\n",
       "    <tr>\n",
       "      <th>30</th>\n",
       "      <td>India</td>\n",
       "      <td>1.380004e+09</td>\n",
       "    </tr>\n",
       "    <tr>\n",
       "      <th>0</th>\n",
       "      <td>United States</td>\n",
       "      <td>3.310026e+08</td>\n",
       "    </tr>\n",
       "    <tr>\n",
       "      <th>9</th>\n",
       "      <td>Indonesia</td>\n",
       "      <td>2.735236e+08</td>\n",
       "    </tr>\n",
       "    <tr>\n",
       "      <th>8</th>\n",
       "      <td>Pakistan</td>\n",
       "      <td>2.208923e+08</td>\n",
       "    </tr>\n",
       "    <tr>\n",
       "      <th>32</th>\n",
       "      <td>Brazil</td>\n",
       "      <td>2.125594e+08</td>\n",
       "    </tr>\n",
       "    <tr>\n",
       "      <th>34</th>\n",
       "      <td>Nigeria</td>\n",
       "      <td>2.061396e+08</td>\n",
       "    </tr>\n",
       "    <tr>\n",
       "      <th>10</th>\n",
       "      <td>Bangladesh</td>\n",
       "      <td>1.646894e+08</td>\n",
       "    </tr>\n",
       "    <tr>\n",
       "      <th>73</th>\n",
       "      <td>Russia</td>\n",
       "      <td>1.459345e+08</td>\n",
       "    </tr>\n",
       "    <tr>\n",
       "      <th>33</th>\n",
       "      <td>Mexico</td>\n",
       "      <td>1.289328e+08</td>\n",
       "    </tr>\n",
       "  </tbody>\n",
       "</table>\n",
       "</div>"
      ],
      "text/plain": [
       "     Country name  Population 2020\n",
       "29          China     1.439324e+09\n",
       "30          India     1.380004e+09\n",
       "0   United States     3.310026e+08\n",
       "9       Indonesia     2.735236e+08\n",
       "8        Pakistan     2.208923e+08\n",
       "32         Brazil     2.125594e+08\n",
       "34        Nigeria     2.061396e+08\n",
       "10     Bangladesh     1.646894e+08\n",
       "73         Russia     1.459345e+08\n",
       "33         Mexico     1.289328e+08"
      ]
     },
     "execution_count": 28,
     "metadata": {},
     "output_type": "execute_result"
    }
   ],
   "source": [
    "max_population_2020['Country name']"
   ]
  },
  {
   "cell_type": "code",
   "execution_count": 32,
   "metadata": {},
   "outputs": [
    {
     "data": {
      "text/plain": [
       "<AxesSubplot:xlabel='Population 2020', ylabel='Country name'>"
      ]
     },
     "execution_count": 32,
     "metadata": {},
     "output_type": "execute_result"
    },
    {
     "data": {
      "image/png": "[encoded data removed]",
      "text/plain": [
       "<Figure size 432x288 with 1 Axes>"
      ]
     },
     "metadata": {
      "needs_background": "light"
     },
     "output_type": "display_data"
    }
   ],
   "source": [
    "sns.barplot(y='Country name',x='Population 2020',data=max_population_2020,orient='h')"
   ]
  },
  {
   "cell_type": "code",
   "execution_count": 35,
   "metadata": {},
   "outputs": [
    {
     "data": {
      "text/html": [
       "<div>\n",
       "<style scoped>\n",
       "    .dataframe tbody tr th:only-of-type {\n",
       "        vertical-align: middle;\n",
       "    }\n",
       "\n",
       "    .dataframe tbody tr th {\n",
       "        vertical-align: top;\n",
       "    }\n",
       "\n",
       "    .dataframe thead th {\n",
       "        text-align: right;\n",
       "    }\n",
       "</style>\n",
       "<table border=\"1\" class=\"dataframe\">\n",
       "  <thead>\n",
       "    <tr style=\"text-align: right;\">\n",
       "      <th></th>\n",
       "      <th>Country name</th>\n",
       "      <th>Population 2020</th>\n",
       "      <th>Population 2019</th>\n",
       "      <th>COVID-19 deaths per 100,000 population in 2020</th>\n",
       "      <th>Median age</th>\n",
       "      <th>Island</th>\n",
       "      <th>Index of exposure to COVID-19  infections in other countries as of March 31</th>\n",
       "      <th>Log of average distance to SARS countries</th>\n",
       "      <th>WHO Western Pacific Region</th>\n",
       "      <th>Female head of government</th>\n",
       "      <th>Index of institutional trust</th>\n",
       "      <th>Gini coefficient of income</th>\n",
       "      <th>All-cause death count, 2017</th>\n",
       "      <th>All-cause death count, 2018</th>\n",
       "      <th>All-cause death count, 2019</th>\n",
       "      <th>All-cause death count, 2020</th>\n",
       "      <th>Excess deaths in 2020 per 100,000 population, relative to 2017-2019 average</th>\n",
       "    </tr>\n",
       "  </thead>\n",
       "  <tbody>\n",
       "    <tr>\n",
       "      <th>63</th>\n",
       "      <td>Senegal</td>\n",
       "      <td>16743930.0</td>\n",
       "      <td>16296364.0</td>\n",
       "      <td>2.4486</td>\n",
       "      <td>18.700001</td>\n",
       "      <td>0</td>\n",
       "      <td>1.061633</td>\n",
       "      <td>9.390359</td>\n",
       "      <td>0</td>\n",
       "      <td>0</td>\n",
       "      <td>0.355424</td>\n",
       "      <td>40.29</td>\n",
       "      <td>NaN</td>\n",
       "      <td>NaN</td>\n",
       "      <td>NaN</td>\n",
       "      <td>NaN</td>\n",
       "      <td>NaN</td>\n",
       "    </tr>\n",
       "  </tbody>\n",
       "</table>\n",
       "</div>"
      ],
      "text/plain": [
       "   Country name  Population 2020  Population 2019  \\\n",
       "63      Senegal       16743930.0       16296364.0   \n",
       "\n",
       "    COVID-19 deaths per 100,000 population in 2020  Median age  Island  \\\n",
       "63                                          2.4486   18.700001       0   \n",
       "\n",
       "    Index of exposure to COVID-19  infections in other countries as of March 31  \\\n",
       "63                                           1.061633                             \n",
       "\n",
       "    Log of average distance to SARS countries  WHO Western Pacific Region  \\\n",
       "63                                   9.390359                           0   \n",
       "\n",
       "    Female head of government  Index of institutional trust  \\\n",
       "63                          0                      0.355424   \n",
       "\n",
       "    Gini coefficient of income  All-cause death count, 2017  \\\n",
       "63                       40.29                          NaN   \n",
       "\n",
       "    All-cause death count, 2018  All-cause death count, 2019  \\\n",
       "63                          NaN                          NaN   \n",
       "\n",
       "    All-cause death count, 2020  \\\n",
       "63                          NaN   \n",
       "\n",
       "    Excess deaths in 2020 per 100,000 population, relative to 2017-2019 average  \n",
       "63                                                NaN                            "
      ]
     },
     "execution_count": 35,
     "metadata": {},
     "output_type": "execute_result"
    }
   ],
   "source": [
    "df.sample(1)"
   ]
  },
  {
   "cell_type": "code",
   "execution_count": 36,
   "metadata": {},
   "outputs": [],
   "source": [
    "## highest change in population in 2020 as compared to 2019"
   ]
  },
  {
   "cell_type": "code",
   "execution_count": 37,
   "metadata": {},
   "outputs": [],
   "source": [
    "df['Change']=df['Population 2020']-df['Population 2019']"
   ]
  },
  {
   "cell_type": "code",
   "execution_count": 38,
   "metadata": {},
   "outputs": [
    {
     "data": {
      "text/html": [
       "<div>\n",
       "<style scoped>\n",
       "    .dataframe tbody tr th:only-of-type {\n",
       "        vertical-align: middle;\n",
       "    }\n",
       "\n",
       "    .dataframe tbody tr th {\n",
       "        vertical-align: top;\n",
       "    }\n",
       "\n",
       "    .dataframe thead th {\n",
       "        text-align: right;\n",
       "    }\n",
       "</style>\n",
       "<table border=\"1\" class=\"dataframe\">\n",
       "  <thead>\n",
       "    <tr style=\"text-align: right;\">\n",
       "      <th></th>\n",
       "      <th>Country name</th>\n",
       "      <th>Population 2020</th>\n",
       "      <th>Population 2019</th>\n",
       "      <th>COVID-19 deaths per 100,000 population in 2020</th>\n",
       "      <th>Median age</th>\n",
       "      <th>Island</th>\n",
       "      <th>Index of exposure to COVID-19  infections in other countries as of March 31</th>\n",
       "      <th>Log of average distance to SARS countries</th>\n",
       "      <th>WHO Western Pacific Region</th>\n",
       "      <th>Female head of government</th>\n",
       "      <th>Index of institutional trust</th>\n",
       "      <th>Gini coefficient of income</th>\n",
       "      <th>All-cause death count, 2017</th>\n",
       "      <th>All-cause death count, 2018</th>\n",
       "      <th>All-cause death count, 2019</th>\n",
       "      <th>All-cause death count, 2020</th>\n",
       "      <th>Excess deaths in 2020 per 100,000 population, relative to 2017-2019 average</th>\n",
       "      <th>Change</th>\n",
       "    </tr>\n",
       "  </thead>\n",
       "  <tbody>\n",
       "    <tr>\n",
       "      <th>0</th>\n",
       "      <td>United States</td>\n",
       "      <td>331002647.0</td>\n",
       "      <td>328239523.0</td>\n",
       "      <td>104.451401</td>\n",
       "      <td>38.299999</td>\n",
       "      <td>0</td>\n",
       "      <td>1.687503</td>\n",
       "      <td>9.314896</td>\n",
       "      <td>0</td>\n",
       "      <td>0</td>\n",
       "      <td>0.250043</td>\n",
       "      <td>47.51</td>\n",
       "      <td>2810927.0</td>\n",
       "      <td>2839076.0</td>\n",
       "      <td>2852747.0</td>\n",
       "      <td>3424996.0</td>\n",
       "      <td>179.219727</td>\n",
       "      <td>2763124.0</td>\n",
       "    </tr>\n",
       "    <tr>\n",
       "      <th>1</th>\n",
       "      <td>Egypt</td>\n",
       "      <td>102334403.0</td>\n",
       "      <td>100388073.0</td>\n",
       "      <td>7.456900</td>\n",
       "      <td>25.299999</td>\n",
       "      <td>0</td>\n",
       "      <td>1.626675</td>\n",
       "      <td>9.006860</td>\n",
       "      <td>0</td>\n",
       "      <td>0</td>\n",
       "      <td>0.445924</td>\n",
       "      <td>31.56</td>\n",
       "      <td>NaN</td>\n",
       "      <td>NaN</td>\n",
       "      <td>NaN</td>\n",
       "      <td>NaN</td>\n",
       "      <td>NaN</td>\n",
       "      <td>1946330.0</td>\n",
       "    </tr>\n",
       "    <tr>\n",
       "      <th>2</th>\n",
       "      <td>Morocco</td>\n",
       "      <td>36910558.0</td>\n",
       "      <td>36471769.0</td>\n",
       "      <td>20.016001</td>\n",
       "      <td>29.600000</td>\n",
       "      <td>0</td>\n",
       "      <td>2.336053</td>\n",
       "      <td>9.226011</td>\n",
       "      <td>0</td>\n",
       "      <td>0</td>\n",
       "      <td>0.397255</td>\n",
       "      <td>39.55</td>\n",
       "      <td>NaN</td>\n",
       "      <td>NaN</td>\n",
       "      <td>NaN</td>\n",
       "      <td>NaN</td>\n",
       "      <td>NaN</td>\n",
       "      <td>438789.0</td>\n",
       "    </tr>\n",
       "    <tr>\n",
       "      <th>3</th>\n",
       "      <td>Lebanon</td>\n",
       "      <td>6825442.0</td>\n",
       "      <td>6855713.0</td>\n",
       "      <td>21.507801</td>\n",
       "      <td>31.100000</td>\n",
       "      <td>0</td>\n",
       "      <td>1.891434</td>\n",
       "      <td>8.956014</td>\n",
       "      <td>0</td>\n",
       "      <td>0</td>\n",
       "      <td>0.106633</td>\n",
       "      <td>31.83</td>\n",
       "      <td>NaN</td>\n",
       "      <td>NaN</td>\n",
       "      <td>NaN</td>\n",
       "      <td>NaN</td>\n",
       "      <td>NaN</td>\n",
       "      <td>-30271.0</td>\n",
       "    </tr>\n",
       "    <tr>\n",
       "      <th>4</th>\n",
       "      <td>Saudi Arabia</td>\n",
       "      <td>34813867.0</td>\n",
       "      <td>34268528.0</td>\n",
       "      <td>17.875101</td>\n",
       "      <td>31.900000</td>\n",
       "      <td>0</td>\n",
       "      <td>1.250483</td>\n",
       "      <td>8.896798</td>\n",
       "      <td>0</td>\n",
       "      <td>0</td>\n",
       "      <td>0.650619</td>\n",
       "      <td>45.90</td>\n",
       "      <td>NaN</td>\n",
       "      <td>NaN</td>\n",
       "      <td>NaN</td>\n",
       "      <td>NaN</td>\n",
       "      <td>NaN</td>\n",
       "      <td>545339.0</td>\n",
       "    </tr>\n",
       "    <tr>\n",
       "      <th>...</th>\n",
       "      <td>...</td>\n",
       "      <td>...</td>\n",
       "      <td>...</td>\n",
       "      <td>...</td>\n",
       "      <td>...</td>\n",
       "      <td>...</td>\n",
       "      <td>...</td>\n",
       "      <td>...</td>\n",
       "      <td>...</td>\n",
       "      <td>...</td>\n",
       "      <td>...</td>\n",
       "      <td>...</td>\n",
       "      <td>...</td>\n",
       "      <td>...</td>\n",
       "      <td>...</td>\n",
       "      <td>...</td>\n",
       "      <td>...</td>\n",
       "      <td>...</td>\n",
       "    </tr>\n",
       "    <tr>\n",
       "      <th>161</th>\n",
       "      <td>Yemen</td>\n",
       "      <td>29825968.0</td>\n",
       "      <td>29161922.0</td>\n",
       "      <td>2.045200</td>\n",
       "      <td>20.299999</td>\n",
       "      <td>0</td>\n",
       "      <td>1.004569</td>\n",
       "      <td>8.966310</td>\n",
       "      <td>0</td>\n",
       "      <td>0</td>\n",
       "      <td>0.266907</td>\n",
       "      <td>36.71</td>\n",
       "      <td>NaN</td>\n",
       "      <td>NaN</td>\n",
       "      <td>NaN</td>\n",
       "      <td>NaN</td>\n",
       "      <td>NaN</td>\n",
       "      <td>664046.0</td>\n",
       "    </tr>\n",
       "    <tr>\n",
       "      <th>162</th>\n",
       "      <td>Kosovo</td>\n",
       "      <td>1932774.0</td>\n",
       "      <td>1794248.0</td>\n",
       "      <td>68.916496</td>\n",
       "      <td>35.000000</td>\n",
       "      <td>0</td>\n",
       "      <td>3.134411</td>\n",
       "      <td>9.014949</td>\n",
       "      <td>0</td>\n",
       "      <td>1</td>\n",
       "      <td>0.169448</td>\n",
       "      <td>29.01</td>\n",
       "      <td>8738.0</td>\n",
       "      <td>8866.0</td>\n",
       "      <td>9552.0</td>\n",
       "      <td>11108.0</td>\n",
       "      <td>110.329376</td>\n",
       "      <td>138526.0</td>\n",
       "    </tr>\n",
       "    <tr>\n",
       "      <th>163</th>\n",
       "      <td>Somaliland region</td>\n",
       "      <td>NaN</td>\n",
       "      <td>NaN</td>\n",
       "      <td>NaN</td>\n",
       "      <td>NaN</td>\n",
       "      <td>0</td>\n",
       "      <td>NaN</td>\n",
       "      <td>NaN</td>\n",
       "      <td>0</td>\n",
       "      <td>0</td>\n",
       "      <td>NaN</td>\n",
       "      <td>NaN</td>\n",
       "      <td>NaN</td>\n",
       "      <td>NaN</td>\n",
       "      <td>NaN</td>\n",
       "      <td>NaN</td>\n",
       "      <td>NaN</td>\n",
       "      <td>NaN</td>\n",
       "    </tr>\n",
       "    <tr>\n",
       "      <th>164</th>\n",
       "      <td>North Cyprus</td>\n",
       "      <td>NaN</td>\n",
       "      <td>NaN</td>\n",
       "      <td>NaN</td>\n",
       "      <td>NaN</td>\n",
       "      <td>0</td>\n",
       "      <td>NaN</td>\n",
       "      <td>NaN</td>\n",
       "      <td>0</td>\n",
       "      <td>0</td>\n",
       "      <td>0.305330</td>\n",
       "      <td>NaN</td>\n",
       "      <td>NaN</td>\n",
       "      <td>NaN</td>\n",
       "      <td>NaN</td>\n",
       "      <td>NaN</td>\n",
       "      <td>NaN</td>\n",
       "      <td>NaN</td>\n",
       "    </tr>\n",
       "    <tr>\n",
       "      <th>165</th>\n",
       "      <td>South Sudan</td>\n",
       "      <td>11193729.0</td>\n",
       "      <td>11062113.0</td>\n",
       "      <td>0.562800</td>\n",
       "      <td>19.200001</td>\n",
       "      <td>0</td>\n",
       "      <td>1.075737</td>\n",
       "      <td>9.066398</td>\n",
       "      <td>0</td>\n",
       "      <td>0</td>\n",
       "      <td>0.178639</td>\n",
       "      <td>46.34</td>\n",
       "      <td>NaN</td>\n",
       "      <td>NaN</td>\n",
       "      <td>NaN</td>\n",
       "      <td>NaN</td>\n",
       "      <td>NaN</td>\n",
       "      <td>131616.0</td>\n",
       "    </tr>\n",
       "  </tbody>\n",
       "</table>\n",
       "<p>166 rows × 18 columns</p>\n",
       "</div>"
      ],
      "text/plain": [
       "          Country name  Population 2020  Population 2019  \\\n",
       "0        United States      331002647.0      328239523.0   \n",
       "1                Egypt      102334403.0      100388073.0   \n",
       "2              Morocco       36910558.0       36471769.0   \n",
       "3              Lebanon        6825442.0        6855713.0   \n",
       "4         Saudi Arabia       34813867.0       34268528.0   \n",
       "..                 ...              ...              ...   \n",
       "161              Yemen       29825968.0       29161922.0   \n",
       "162             Kosovo        1932774.0        1794248.0   \n",
       "163  Somaliland region              NaN              NaN   \n",
       "164       North Cyprus              NaN              NaN   \n",
       "165        South Sudan       11193729.0       11062113.0   \n",
       "\n",
       "     COVID-19 deaths per 100,000 population in 2020  Median age  Island  \\\n",
       "0                                        104.451401   38.299999       0   \n",
       "1                                          7.456900   25.299999       0   \n",
       "2                                         20.016001   29.600000       0   \n",
       "3                                         21.507801   31.100000       0   \n",
       "4                                         17.875101   31.900000       0   \n",
       "..                                              ...         ...     ...   \n",
       "161                                        2.045200   20.299999       0   \n",
       "162                                       68.916496   35.000000       0   \n",
       "163                                             NaN         NaN       0   \n",
       "164                                             NaN         NaN       0   \n",
       "165                                        0.562800   19.200001       0   \n",
       "\n",
       "     Index of exposure to COVID-19  infections in other countries as of March 31  \\\n",
       "0                                             1.687503                             \n",
       "1                                             1.626675                             \n",
       "2                                             2.336053                             \n",
       "3                                             1.891434                             \n",
       "4                                             1.250483                             \n",
       "..                                                 ...                             \n",
       "161                                           1.004569                             \n",
       "162                                           3.134411                             \n",
       "163                                                NaN                             \n",
       "164                                                NaN                             \n",
       "165                                           1.075737                             \n",
       "\n",
       "     Log of average distance to SARS countries  WHO Western Pacific Region  \\\n",
       "0                                     9.314896                           0   \n",
       "1                                     9.006860                           0   \n",
       "2                                     9.226011                           0   \n",
       "3                                     8.956014                           0   \n",
       "4                                     8.896798                           0   \n",
       "..                                         ...                         ...   \n",
       "161                                   8.966310                           0   \n",
       "162                                   9.014949                           0   \n",
       "163                                        NaN                           0   \n",
       "164                                        NaN                           0   \n",
       "165                                   9.066398                           0   \n",
       "\n",
       "     Female head of government  Index of institutional trust  \\\n",
       "0                            0                      0.250043   \n",
       "1                            0                      0.445924   \n",
       "2                            0                      0.397255   \n",
       "3                            0                      0.106633   \n",
       "4                            0                      0.650619   \n",
       "..                         ...                           ...   \n",
       "161                          0                      0.266907   \n",
       "162                          1                      0.169448   \n",
       "163                          0                           NaN   \n",
       "164                          0                      0.305330   \n",
       "165                          0                      0.178639   \n",
       "\n",
       "     Gini coefficient of income  All-cause death count, 2017  \\\n",
       "0                         47.51                    2810927.0   \n",
       "1                         31.56                          NaN   \n",
       "2                         39.55                          NaN   \n",
       "3                         31.83                          NaN   \n",
       "4                         45.90                          NaN   \n",
       "..                          ...                          ...   \n",
       "161                       36.71                          NaN   \n",
       "162                       29.01                       8738.0   \n",
       "163                         NaN                          NaN   \n",
       "164                         NaN                          NaN   \n",
       "165                       46.34                          NaN   \n",
       "\n",
       "     All-cause death count, 2018  All-cause death count, 2019  \\\n",
       "0                      2839076.0                    2852747.0   \n",
       "1                            NaN                          NaN   \n",
       "2                            NaN                          NaN   \n",
       "3                            NaN                          NaN   \n",
       "4                            NaN                          NaN   \n",
       "..                           ...                          ...   \n",
       "161                          NaN                          NaN   \n",
       "162                       8866.0                       9552.0   \n",
       "163                          NaN                          NaN   \n",
       "164                          NaN                          NaN   \n",
       "165                          NaN                          NaN   \n",
       "\n",
       "     All-cause death count, 2020  \\\n",
       "0                      3424996.0   \n",
       "1                            NaN   \n",
       "2                            NaN   \n",
       "3                            NaN   \n",
       "4                            NaN   \n",
       "..                           ...   \n",
       "161                          NaN   \n",
       "162                      11108.0   \n",
       "163                          NaN   \n",
       "164                          NaN   \n",
       "165                          NaN   \n",
       "\n",
       "     Excess deaths in 2020 per 100,000 population, relative to 2017-2019 average  \\\n",
       "0                                           179.219727                             \n",
       "1                                                  NaN                             \n",
       "2                                                  NaN                             \n",
       "3                                                  NaN                             \n",
       "4                                                  NaN                             \n",
       "..                                                 ...                             \n",
       "161                                                NaN                             \n",
       "162                                         110.329376                             \n",
       "163                                                NaN                             \n",
       "164                                                NaN                             \n",
       "165                                                NaN                             \n",
       "\n",
       "        Change  \n",
       "0    2763124.0  \n",
       "1    1946330.0  \n",
       "2     438789.0  \n",
       "3     -30271.0  \n",
       "4     545339.0  \n",
       "..         ...  \n",
       "161   664046.0  \n",
       "162   138526.0  \n",
       "163        NaN  \n",
       "164        NaN  \n",
       "165   131616.0  \n",
       "\n",
       "[166 rows x 18 columns]"
      ]
     },
     "execution_count": 38,
     "metadata": {},
     "output_type": "execute_result"
    }
   ],
   "source": [
    "df"
   ]
  },
  {
   "cell_type": "code",
   "execution_count": 47,
   "metadata": {},
   "outputs": [],
   "source": [
    "change_population=df.sort_values(['Change'],ascending=False)[['Country name','Change']][:10]"
   ]
  },
  {
   "cell_type": "code",
   "execution_count": 52,
   "metadata": {},
   "outputs": [
    {
     "data": {
      "text/plain": [
       "<AxesSubplot:xlabel='Change', ylabel='Country name'>"
      ]
     },
     "execution_count": 52,
     "metadata": {},
     "output_type": "execute_result"
    },
    {
     "data": {
      "image/png": "[encoded data removed]",
      "text/plain": [
       "<Figure size 432x288 with 1 Axes>"
      ]
     },
     "metadata": {
      "needs_background": "light"
     },
     "output_type": "display_data"
    }
   ],
   "source": [
    "sns.barplot(y='Country name',x='Change',data=change_population,orient='h')"
   ]
  },
  {
   "cell_type": "code",
   "execution_count": 54,
   "metadata": {},
   "outputs": [
    {
     "data": {
      "text/html": [
       "<div>\n",
       "<style scoped>\n",
       "    .dataframe tbody tr th:only-of-type {\n",
       "        vertical-align: middle;\n",
       "    }\n",
       "\n",
       "    .dataframe tbody tr th {\n",
       "        vertical-align: top;\n",
       "    }\n",
       "\n",
       "    .dataframe thead th {\n",
       "        text-align: right;\n",
       "    }\n",
       "</style>\n",
       "<table border=\"1\" class=\"dataframe\">\n",
       "  <thead>\n",
       "    <tr style=\"text-align: right;\">\n",
       "      <th></th>\n",
       "      <th>Country name</th>\n",
       "      <th>Population 2020</th>\n",
       "      <th>Population 2019</th>\n",
       "      <th>COVID-19 deaths per 100,000 population in 2020</th>\n",
       "      <th>Median age</th>\n",
       "      <th>Island</th>\n",
       "      <th>Index of exposure to COVID-19  infections in other countries as of March 31</th>\n",
       "      <th>Log of average distance to SARS countries</th>\n",
       "      <th>WHO Western Pacific Region</th>\n",
       "      <th>Female head of government</th>\n",
       "      <th>Index of institutional trust</th>\n",
       "      <th>Gini coefficient of income</th>\n",
       "      <th>All-cause death count, 2017</th>\n",
       "      <th>All-cause death count, 2018</th>\n",
       "      <th>All-cause death count, 2019</th>\n",
       "      <th>All-cause death count, 2020</th>\n",
       "      <th>Excess deaths in 2020 per 100,000 population, relative to 2017-2019 average</th>\n",
       "      <th>Change</th>\n",
       "    </tr>\n",
       "  </thead>\n",
       "  <tbody>\n",
       "    <tr>\n",
       "      <th>28</th>\n",
       "      <td>Japan</td>\n",
       "      <td>126476458.0</td>\n",
       "      <td>126264931.0</td>\n",
       "      <td>2.6029</td>\n",
       "      <td>48.200001</td>\n",
       "      <td>1</td>\n",
       "      <td>0.862789</td>\n",
       "      <td>8.390191</td>\n",
       "      <td>1</td>\n",
       "      <td>0</td>\n",
       "      <td>0.317466</td>\n",
       "      <td>33.9</td>\n",
       "      <td>1340567.0</td>\n",
       "      <td>1362470.0</td>\n",
       "      <td>1387775.0</td>\n",
       "      <td>1376426.0</td>\n",
       "      <td>10.146339</td>\n",
       "      <td>211527.0</td>\n",
       "    </tr>\n",
       "  </tbody>\n",
       "</table>\n",
       "</div>"
      ],
      "text/plain": [
       "   Country name  Population 2020  Population 2019  \\\n",
       "28        Japan      126476458.0      126264931.0   \n",
       "\n",
       "    COVID-19 deaths per 100,000 population in 2020  Median age  Island  \\\n",
       "28                                          2.6029   48.200001       1   \n",
       "\n",
       "    Index of exposure to COVID-19  infections in other countries as of March 31  \\\n",
       "28                                           0.862789                             \n",
       "\n",
       "    Log of average distance to SARS countries  WHO Western Pacific Region  \\\n",
       "28                                   8.390191                           1   \n",
       "\n",
       "    Female head of government  Index of institutional trust  \\\n",
       "28                          0                      0.317466   \n",
       "\n",
       "    Gini coefficient of income  All-cause death count, 2017  \\\n",
       "28                        33.9                    1340567.0   \n",
       "\n",
       "    All-cause death count, 2018  All-cause death count, 2019  \\\n",
       "28                    1362470.0                    1387775.0   \n",
       "\n",
       "    All-cause death count, 2020  \\\n",
       "28                    1376426.0   \n",
       "\n",
       "    Excess deaths in 2020 per 100,000 population, relative to 2017-2019 average  \\\n",
       "28                                          10.146339                             \n",
       "\n",
       "      Change  \n",
       "28  211527.0  "
      ]
     },
     "execution_count": 54,
     "metadata": {},
     "output_type": "execute_result"
    }
   ],
   "source": [
    "df.sample(1)"
   ]
  },
  {
   "cell_type": "code",
   "execution_count": 55,
   "metadata": {},
   "outputs": [
    {
     "data": {
      "text/html": [
       "<div>\n",
       "<style scoped>\n",
       "    .dataframe tbody tr th:only-of-type {\n",
       "        vertical-align: middle;\n",
       "    }\n",
       "\n",
       "    .dataframe tbody tr th {\n",
       "        vertical-align: top;\n",
       "    }\n",
       "\n",
       "    .dataframe thead th {\n",
       "        text-align: right;\n",
       "    }\n",
       "</style>\n",
       "<table border=\"1\" class=\"dataframe\">\n",
       "  <thead>\n",
       "    <tr style=\"text-align: right;\">\n",
       "      <th></th>\n",
       "      <th>Population 2020</th>\n",
       "      <th>Population 2019</th>\n",
       "      <th>COVID-19 deaths per 100,000 population in 2020</th>\n",
       "      <th>Median age</th>\n",
       "      <th>Island</th>\n",
       "      <th>Index of exposure to COVID-19  infections in other countries as of March 31</th>\n",
       "      <th>Log of average distance to SARS countries</th>\n",
       "      <th>WHO Western Pacific Region</th>\n",
       "      <th>Female head of government</th>\n",
       "      <th>Index of institutional trust</th>\n",
       "      <th>Gini coefficient of income</th>\n",
       "      <th>All-cause death count, 2017</th>\n",
       "      <th>All-cause death count, 2018</th>\n",
       "      <th>All-cause death count, 2019</th>\n",
       "      <th>All-cause death count, 2020</th>\n",
       "      <th>Excess deaths in 2020 per 100,000 population, relative to 2017-2019 average</th>\n",
       "      <th>Change</th>\n",
       "    </tr>\n",
       "  </thead>\n",
       "  <tbody>\n",
       "    <tr>\n",
       "      <th>Population 2020</th>\n",
       "      <td>1.000000</td>\n",
       "      <td>0.999947</td>\n",
       "      <td>-0.056084</td>\n",
       "      <td>0.025002</td>\n",
       "      <td>-0.036632</td>\n",
       "      <td>-0.084973</td>\n",
       "      <td>-0.233869</td>\n",
       "      <td>0.176700</td>\n",
       "      <td>-0.059440</td>\n",
       "      <td>0.128339</td>\n",
       "      <td>0.108623</td>\n",
       "      <td>0.961245</td>\n",
       "      <td>0.962096</td>\n",
       "      <td>0.964964</td>\n",
       "      <td>0.971619</td>\n",
       "      <td>0.173785</td>\n",
       "      <td>0.884698</td>\n",
       "    </tr>\n",
       "    <tr>\n",
       "      <th>Population 2019</th>\n",
       "      <td>0.999947</td>\n",
       "      <td>1.000000</td>\n",
       "      <td>-0.054830</td>\n",
       "      <td>0.026055</td>\n",
       "      <td>-0.036249</td>\n",
       "      <td>-0.084390</td>\n",
       "      <td>-0.234009</td>\n",
       "      <td>0.175296</td>\n",
       "      <td>-0.059464</td>\n",
       "      <td>0.128098</td>\n",
       "      <td>0.108004</td>\n",
       "      <td>0.961456</td>\n",
       "      <td>0.962301</td>\n",
       "      <td>0.965185</td>\n",
       "      <td>0.971593</td>\n",
       "      <td>0.172572</td>\n",
       "      <td>0.879850</td>\n",
       "    </tr>\n",
       "    <tr>\n",
       "      <th>COVID-19 deaths per 100,000 population in 2020</th>\n",
       "      <td>-0.056084</td>\n",
       "      <td>-0.054830</td>\n",
       "      <td>1.000000</td>\n",
       "      <td>0.559788</td>\n",
       "      <td>-0.164123</td>\n",
       "      <td>0.646559</td>\n",
       "      <td>0.208284</td>\n",
       "      <td>-0.234948</td>\n",
       "      <td>-0.112022</td>\n",
       "      <td>-0.371920</td>\n",
       "      <td>-0.220136</td>\n",
       "      <td>0.158215</td>\n",
       "      <td>0.156650</td>\n",
       "      <td>0.155317</td>\n",
       "      <td>0.182419</td>\n",
       "      <td>0.689590</td>\n",
       "      <td>-0.106187</td>\n",
       "    </tr>\n",
       "    <tr>\n",
       "      <th>Median age</th>\n",
       "      <td>0.025002</td>\n",
       "      <td>0.026055</td>\n",
       "      <td>0.559788</td>\n",
       "      <td>1.000000</td>\n",
       "      <td>0.154035</td>\n",
       "      <td>0.641471</td>\n",
       "      <td>-0.251378</td>\n",
       "      <td>0.170516</td>\n",
       "      <td>0.218870</td>\n",
       "      <td>-0.063020</td>\n",
       "      <td>-0.456756</td>\n",
       "      <td>0.138848</td>\n",
       "      <td>0.135162</td>\n",
       "      <td>0.132605</td>\n",
       "      <td>0.086354</td>\n",
       "      <td>-0.043881</td>\n",
       "      <td>-0.025618</td>\n",
       "    </tr>\n",
       "    <tr>\n",
       "      <th>Island</th>\n",
       "      <td>-0.036632</td>\n",
       "      <td>-0.036249</td>\n",
       "      <td>-0.164123</td>\n",
       "      <td>0.154035</td>\n",
       "      <td>1.000000</td>\n",
       "      <td>-0.106616</td>\n",
       "      <td>-0.038957</td>\n",
       "      <td>0.201044</td>\n",
       "      <td>0.048948</td>\n",
       "      <td>0.120022</td>\n",
       "      <td>0.048370</td>\n",
       "      <td>-0.001066</td>\n",
       "      <td>-0.019238</td>\n",
       "      <td>-0.018614</td>\n",
       "      <td>-0.039797</td>\n",
       "      <td>-0.325740</td>\n",
       "      <td>-0.049648</td>\n",
       "    </tr>\n",
       "    <tr>\n",
       "      <th>Index of exposure to COVID-19  infections in other countries as of March 31</th>\n",
       "      <td>-0.084973</td>\n",
       "      <td>-0.084390</td>\n",
       "      <td>0.646559</td>\n",
       "      <td>0.641471</td>\n",
       "      <td>-0.106616</td>\n",
       "      <td>1.000000</td>\n",
       "      <td>-0.067445</td>\n",
       "      <td>-0.183095</td>\n",
       "      <td>0.080610</td>\n",
       "      <td>-0.057387</td>\n",
       "      <td>-0.573441</td>\n",
       "      <td>-0.041854</td>\n",
       "      <td>-0.048378</td>\n",
       "      <td>-0.054101</td>\n",
       "      <td>-0.065623</td>\n",
       "      <td>0.178251</td>\n",
       "      <td>-0.101350</td>\n",
       "    </tr>\n",
       "    <tr>\n",
       "      <th>Log of average distance to SARS countries</th>\n",
       "      <td>-0.233869</td>\n",
       "      <td>-0.234009</td>\n",
       "      <td>0.208284</td>\n",
       "      <td>-0.251378</td>\n",
       "      <td>-0.038957</td>\n",
       "      <td>-0.067445</td>\n",
       "      <td>1.000000</td>\n",
       "      <td>-0.552922</td>\n",
       "      <td>-0.141782</td>\n",
       "      <td>-0.349487</td>\n",
       "      <td>0.315828</td>\n",
       "      <td>0.091461</td>\n",
       "      <td>0.087105</td>\n",
       "      <td>0.086953</td>\n",
       "      <td>0.128098</td>\n",
       "      <td>0.401523</td>\n",
       "      <td>-0.200023</td>\n",
       "    </tr>\n",
       "    <tr>\n",
       "      <th>WHO Western Pacific Region</th>\n",
       "      <td>0.176700</td>\n",
       "      <td>0.175296</td>\n",
       "      <td>-0.234948</td>\n",
       "      <td>0.170516</td>\n",
       "      <td>0.201044</td>\n",
       "      <td>-0.183095</td>\n",
       "      <td>-0.552922</td>\n",
       "      <td>1.000000</td>\n",
       "      <td>0.066527</td>\n",
       "      <td>0.186238</td>\n",
       "      <td>0.010129</td>\n",
       "      <td>0.004576</td>\n",
       "      <td>0.008834</td>\n",
       "      <td>0.010864</td>\n",
       "      <td>-0.019495</td>\n",
       "      <td>-0.461335</td>\n",
       "      <td>0.219436</td>\n",
       "    </tr>\n",
       "    <tr>\n",
       "      <th>Female head of government</th>\n",
       "      <td>-0.059440</td>\n",
       "      <td>-0.059464</td>\n",
       "      <td>-0.112022</td>\n",
       "      <td>0.218870</td>\n",
       "      <td>0.048948</td>\n",
       "      <td>0.080610</td>\n",
       "      <td>-0.141782</td>\n",
       "      <td>0.066527</td>\n",
       "      <td>1.000000</td>\n",
       "      <td>0.082968</td>\n",
       "      <td>-0.142042</td>\n",
       "      <td>-0.152041</td>\n",
       "      <td>-0.148536</td>\n",
       "      <td>-0.149844</td>\n",
       "      <td>-0.161087</td>\n",
       "      <td>-0.291482</td>\n",
       "      <td>-0.051373</td>\n",
       "    </tr>\n",
       "    <tr>\n",
       "      <th>Index of institutional trust</th>\n",
       "      <td>0.128339</td>\n",
       "      <td>0.128098</td>\n",
       "      <td>-0.371920</td>\n",
       "      <td>-0.063020</td>\n",
       "      <td>0.120022</td>\n",
       "      <td>-0.057387</td>\n",
       "      <td>-0.349487</td>\n",
       "      <td>0.186238</td>\n",
       "      <td>0.082968</td>\n",
       "      <td>1.000000</td>\n",
       "      <td>-0.030609</td>\n",
       "      <td>-0.161965</td>\n",
       "      <td>-0.165577</td>\n",
       "      <td>-0.166143</td>\n",
       "      <td>-0.179911</td>\n",
       "      <td>-0.425620</td>\n",
       "      <td>0.124172</td>\n",
       "    </tr>\n",
       "    <tr>\n",
       "      <th>Gini coefficient of income</th>\n",
       "      <td>0.108623</td>\n",
       "      <td>0.108004</td>\n",
       "      <td>-0.220136</td>\n",
       "      <td>-0.456756</td>\n",
       "      <td>0.048370</td>\n",
       "      <td>-0.573441</td>\n",
       "      <td>0.315828</td>\n",
       "      <td>0.010129</td>\n",
       "      <td>-0.142042</td>\n",
       "      <td>-0.030609</td>\n",
       "      <td>1.000000</td>\n",
       "      <td>0.285325</td>\n",
       "      <td>0.286963</td>\n",
       "      <td>0.292058</td>\n",
       "      <td>0.305235</td>\n",
       "      <td>0.107840</td>\n",
       "      <td>0.123815</td>\n",
       "    </tr>\n",
       "    <tr>\n",
       "      <th>All-cause death count, 2017</th>\n",
       "      <td>0.961245</td>\n",
       "      <td>0.961456</td>\n",
       "      <td>0.158215</td>\n",
       "      <td>0.138848</td>\n",
       "      <td>-0.001066</td>\n",
       "      <td>-0.041854</td>\n",
       "      <td>0.091461</td>\n",
       "      <td>0.004576</td>\n",
       "      <td>-0.152041</td>\n",
       "      <td>-0.161965</td>\n",
       "      <td>0.285325</td>\n",
       "      <td>1.000000</td>\n",
       "      <td>0.999838</td>\n",
       "      <td>0.999676</td>\n",
       "      <td>0.996522</td>\n",
       "      <td>0.157352</td>\n",
       "      <td>0.642224</td>\n",
       "    </tr>\n",
       "    <tr>\n",
       "      <th>All-cause death count, 2018</th>\n",
       "      <td>0.962096</td>\n",
       "      <td>0.962301</td>\n",
       "      <td>0.156650</td>\n",
       "      <td>0.135162</td>\n",
       "      <td>-0.019238</td>\n",
       "      <td>-0.048378</td>\n",
       "      <td>0.087105</td>\n",
       "      <td>0.008834</td>\n",
       "      <td>-0.148536</td>\n",
       "      <td>-0.165577</td>\n",
       "      <td>0.286963</td>\n",
       "      <td>0.999838</td>\n",
       "      <td>1.000000</td>\n",
       "      <td>0.999854</td>\n",
       "      <td>0.996668</td>\n",
       "      <td>0.165811</td>\n",
       "      <td>0.643607</td>\n",
       "    </tr>\n",
       "    <tr>\n",
       "      <th>All-cause death count, 2019</th>\n",
       "      <td>0.964964</td>\n",
       "      <td>0.965185</td>\n",
       "      <td>0.155317</td>\n",
       "      <td>0.132605</td>\n",
       "      <td>-0.018614</td>\n",
       "      <td>-0.054101</td>\n",
       "      <td>0.086953</td>\n",
       "      <td>0.010864</td>\n",
       "      <td>-0.149844</td>\n",
       "      <td>-0.166143</td>\n",
       "      <td>0.292058</td>\n",
       "      <td>0.999676</td>\n",
       "      <td>0.999854</td>\n",
       "      <td>1.000000</td>\n",
       "      <td>0.996569</td>\n",
       "      <td>0.163386</td>\n",
       "      <td>0.644058</td>\n",
       "    </tr>\n",
       "    <tr>\n",
       "      <th>All-cause death count, 2020</th>\n",
       "      <td>0.971619</td>\n",
       "      <td>0.971593</td>\n",
       "      <td>0.182419</td>\n",
       "      <td>0.086354</td>\n",
       "      <td>-0.039797</td>\n",
       "      <td>-0.065623</td>\n",
       "      <td>0.128098</td>\n",
       "      <td>-0.019495</td>\n",
       "      <td>-0.161087</td>\n",
       "      <td>-0.179911</td>\n",
       "      <td>0.305235</td>\n",
       "      <td>0.996522</td>\n",
       "      <td>0.996668</td>\n",
       "      <td>0.996569</td>\n",
       "      <td>1.000000</td>\n",
       "      <td>0.202110</td>\n",
       "      <td>0.672825</td>\n",
       "    </tr>\n",
       "    <tr>\n",
       "      <th>Excess deaths in 2020 per 100,000 population, relative to 2017-2019 average</th>\n",
       "      <td>0.173785</td>\n",
       "      <td>0.172572</td>\n",
       "      <td>0.689590</td>\n",
       "      <td>-0.043881</td>\n",
       "      <td>-0.325740</td>\n",
       "      <td>0.178251</td>\n",
       "      <td>0.401523</td>\n",
       "      <td>-0.461335</td>\n",
       "      <td>-0.291482</td>\n",
       "      <td>-0.425620</td>\n",
       "      <td>0.107840</td>\n",
       "      <td>0.157352</td>\n",
       "      <td>0.165811</td>\n",
       "      <td>0.163386</td>\n",
       "      <td>0.202110</td>\n",
       "      <td>1.000000</td>\n",
       "      <td>0.232480</td>\n",
       "    </tr>\n",
       "    <tr>\n",
       "      <th>Change</th>\n",
       "      <td>0.884698</td>\n",
       "      <td>0.879850</td>\n",
       "      <td>-0.106187</td>\n",
       "      <td>-0.025618</td>\n",
       "      <td>-0.049648</td>\n",
       "      <td>-0.101350</td>\n",
       "      <td>-0.200023</td>\n",
       "      <td>0.219436</td>\n",
       "      <td>-0.051373</td>\n",
       "      <td>0.124172</td>\n",
       "      <td>0.123815</td>\n",
       "      <td>0.642224</td>\n",
       "      <td>0.643607</td>\n",
       "      <td>0.644058</td>\n",
       "      <td>0.672825</td>\n",
       "      <td>0.232480</td>\n",
       "      <td>1.000000</td>\n",
       "    </tr>\n",
       "  </tbody>\n",
       "</table>\n",
       "</div>"
      ],
      "text/plain": [
       "                                                    Population 2020  \\\n",
       "Population 2020                                            1.000000   \n",
       "Population 2019                                            0.999947   \n",
       "COVID-19 deaths per 100,000 population in 2020            -0.056084   \n",
       "Median age                                                 0.025002   \n",
       "Island                                                    -0.036632   \n",
       "Index of exposure to COVID-19  infections in ot...        -0.084973   \n",
       "Log of average distance to SARS countries                 -0.233869   \n",
       "WHO Western Pacific Region                                 0.176700   \n",
       "Female head of government                                 -0.059440   \n",
       "Index of institutional trust                               0.128339   \n",
       "Gini coefficient of income                                 0.108623   \n",
       "All-cause death count, 2017                                0.961245   \n",
       "All-cause death count, 2018                                0.962096   \n",
       "All-cause death count, 2019                                0.964964   \n",
       "All-cause death count, 2020                                0.971619   \n",
       "Excess deaths in 2020 per 100,000 population, r...         0.173785   \n",
       "Change                                                     0.884698   \n",
       "\n",
       "                                                    Population 2019  \\\n",
       "Population 2020                                            0.999947   \n",
       "Population 2019                                            1.000000   \n",
       "COVID-19 deaths per 100,000 population in 2020            -0.054830   \n",
       "Median age                                                 0.026055   \n",
       "Island                                                    -0.036249   \n",
       "Index of exposure to COVID-19  infections in ot...        -0.084390   \n",
       "Log of average distance to SARS countries                 -0.234009   \n",
       "WHO Western Pacific Region                                 0.175296   \n",
       "Female head of government                                 -0.059464   \n",
       "Index of institutional trust                               0.128098   \n",
       "Gini coefficient of income                                 0.108004   \n",
       "All-cause death count, 2017                                0.961456   \n",
       "All-cause death count, 2018                                0.962301   \n",
       "All-cause death count, 2019                                0.965185   \n",
       "All-cause death count, 2020                                0.971593   \n",
       "Excess deaths in 2020 per 100,000 population, r...         0.172572   \n",
       "Change                                                     0.879850   \n",
       "\n",
       "                                                    COVID-19 deaths per 100,000 population in 2020  \\\n",
       "Population 2020                                                                          -0.056084   \n",
       "Population 2019                                                                          -0.054830   \n",
       "COVID-19 deaths per 100,000 population in 2020                                            1.000000   \n",
       "Median age                                                                                0.559788   \n",
       "Island                                                                                   -0.164123   \n",
       "Index of exposure to COVID-19  infections in ot...                                        0.646559   \n",
       "Log of average distance to SARS countries                                                 0.208284   \n",
       "WHO Western Pacific Region                                                               -0.234948   \n",
       "Female head of government                                                                -0.112022   \n",
       "Index of institutional trust                                                             -0.371920   \n",
       "Gini coefficient of income                                                               -0.220136   \n",
       "All-cause death count, 2017                                                               0.158215   \n",
       "All-cause death count, 2018                                                               0.156650   \n",
       "All-cause death count, 2019                                                               0.155317   \n",
       "All-cause death count, 2020                                                               0.182419   \n",
       "Excess deaths in 2020 per 100,000 population, r...                                        0.689590   \n",
       "Change                                                                                   -0.106187   \n",
       "\n",
       "                                                    Median age    Island  \\\n",
       "Population 2020                                       0.025002 -0.036632   \n",
       "Population 2019                                       0.026055 -0.036249   \n",
       "COVID-19 deaths per 100,000 population in 2020        0.559788 -0.164123   \n",
       "Median age                                            1.000000  0.154035   \n",
       "Island                                                0.154035  1.000000   \n",
       "Index of exposure to COVID-19  infections in ot...    0.641471 -0.106616   \n",
       "Log of average distance to SARS countries            -0.251378 -0.038957   \n",
       "WHO Western Pacific Region                            0.170516  0.201044   \n",
       "Female head of government                             0.218870  0.048948   \n",
       "Index of institutional trust                         -0.063020  0.120022   \n",
       "Gini coefficient of income                           -0.456756  0.048370   \n",
       "All-cause death count, 2017                           0.138848 -0.001066   \n",
       "All-cause death count, 2018                           0.135162 -0.019238   \n",
       "All-cause death count, 2019                           0.132605 -0.018614   \n",
       "All-cause death count, 2020                           0.086354 -0.039797   \n",
       "Excess deaths in 2020 per 100,000 population, r...   -0.043881 -0.325740   \n",
       "Change                                               -0.025618 -0.049648   \n",
       "\n",
       "                                                    Index of exposure to COVID-19  infections in other countries as of March 31  \\\n",
       "Population 2020                                                                             -0.084973                             \n",
       "Population 2019                                                                             -0.084390                             \n",
       "COVID-19 deaths per 100,000 population in 2020                                               0.646559                             \n",
       "Median age                                                                                   0.641471                             \n",
       "Island                                                                                      -0.106616                             \n",
       "Index of exposure to COVID-19  infections in ot...                                           1.000000                             \n",
       "Log of average distance to SARS countries                                                   -0.067445                             \n",
       "WHO Western Pacific Region                                                                  -0.183095                             \n",
       "Female head of government                                                                    0.080610                             \n",
       "Index of institutional trust                                                                -0.057387                             \n",
       "Gini coefficient of income                                                                  -0.573441                             \n",
       "All-cause death count, 2017                                                                 -0.041854                             \n",
       "All-cause death count, 2018                                                                 -0.048378                             \n",
       "All-cause death count, 2019                                                                 -0.054101                             \n",
       "All-cause death count, 2020                                                                 -0.065623                             \n",
       "Excess deaths in 2020 per 100,000 population, r...                                           0.178251                             \n",
       "Change                                                                                      -0.101350                             \n",
       "\n",
       "                                                    Log of average distance to SARS countries  \\\n",
       "Population 2020                                                                     -0.233869   \n",
       "Population 2019                                                                     -0.234009   \n",
       "COVID-19 deaths per 100,000 population in 2020                                       0.208284   \n",
       "Median age                                                                          -0.251378   \n",
       "Island                                                                              -0.038957   \n",
       "Index of exposure to COVID-19  infections in ot...                                  -0.067445   \n",
       "Log of average distance to SARS countries                                            1.000000   \n",
       "WHO Western Pacific Region                                                          -0.552922   \n",
       "Female head of government                                                           -0.141782   \n",
       "Index of institutional trust                                                        -0.349487   \n",
       "Gini coefficient of income                                                           0.315828   \n",
       "All-cause death count, 2017                                                          0.091461   \n",
       "All-cause death count, 2018                                                          0.087105   \n",
       "All-cause death count, 2019                                                          0.086953   \n",
       "All-cause death count, 2020                                                          0.128098   \n",
       "Excess deaths in 2020 per 100,000 population, r...                                   0.401523   \n",
       "Change                                                                              -0.200023   \n",
       "\n",
       "                                                    WHO Western Pacific Region  \\\n",
       "Population 2020                                                       0.176700   \n",
       "Population 2019                                                       0.175296   \n",
       "COVID-19 deaths per 100,000 population in 2020                       -0.234948   \n",
       "Median age                                                            0.170516   \n",
       "Island                                                                0.201044   \n",
       "Index of exposure to COVID-19  infections in ot...                   -0.183095   \n",
       "Log of average distance to SARS countries                            -0.552922   \n",
       "WHO Western Pacific Region                                            1.000000   \n",
       "Female head of government                                             0.066527   \n",
       "Index of institutional trust                                          0.186238   \n",
       "Gini coefficient of income                                            0.010129   \n",
       "All-cause death count, 2017                                           0.004576   \n",
       "All-cause death count, 2018                                           0.008834   \n",
       "All-cause death count, 2019                                           0.010864   \n",
       "All-cause death count, 2020                                          -0.019495   \n",
       "Excess deaths in 2020 per 100,000 population, r...                   -0.461335   \n",
       "Change                                                                0.219436   \n",
       "\n",
       "                                                    Female head of government  \\\n",
       "Population 2020                                                     -0.059440   \n",
       "Population 2019                                                     -0.059464   \n",
       "COVID-19 deaths per 100,000 population in 2020                      -0.112022   \n",
       "Median age                                                           0.218870   \n",
       "Island                                                               0.048948   \n",
       "Index of exposure to COVID-19  infections in ot...                   0.080610   \n",
       "Log of average distance to SARS countries                           -0.141782   \n",
       "WHO Western Pacific Region                                           0.066527   \n",
       "Female head of government                                            1.000000   \n",
       "Index of institutional trust                                         0.082968   \n",
       "Gini coefficient of income                                          -0.142042   \n",
       "All-cause death count, 2017                                         -0.152041   \n",
       "All-cause death count, 2018                                         -0.148536   \n",
       "All-cause death count, 2019                                         -0.149844   \n",
       "All-cause death count, 2020                                         -0.161087   \n",
       "Excess deaths in 2020 per 100,000 population, r...                  -0.291482   \n",
       "Change                                                              -0.051373   \n",
       "\n",
       "                                                    Index of institutional trust  \\\n",
       "Population 2020                                                         0.128339   \n",
       "Population 2019                                                         0.128098   \n",
       "COVID-19 deaths per 100,000 population in 2020                         -0.371920   \n",
       "Median age                                                             -0.063020   \n",
       "Island                                                                  0.120022   \n",
       "Index of exposure to COVID-19  infections in ot...                     -0.057387   \n",
       "Log of average distance to SARS countries                              -0.349487   \n",
       "WHO Western Pacific Region                                              0.186238   \n",
       "Female head of government                                               0.082968   \n",
       "Index of institutional trust                                            1.000000   \n",
       "Gini coefficient of income                                             -0.030609   \n",
       "All-cause death count, 2017                                            -0.161965   \n",
       "All-cause death count, 2018                                            -0.165577   \n",
       "All-cause death count, 2019                                            -0.166143   \n",
       "All-cause death count, 2020                                            -0.179911   \n",
       "Excess deaths in 2020 per 100,000 population, r...                     -0.425620   \n",
       "Change                                                                  0.124172   \n",
       "\n",
       "                                                    Gini coefficient of income  \\\n",
       "Population 2020                                                       0.108623   \n",
       "Population 2019                                                       0.108004   \n",
       "COVID-19 deaths per 100,000 population in 2020                       -0.220136   \n",
       "Median age                                                           -0.456756   \n",
       "Island                                                                0.048370   \n",
       "Index of exposure to COVID-19  infections in ot...                   -0.573441   \n",
       "Log of average distance to SARS countries                             0.315828   \n",
       "WHO Western Pacific Region                                            0.010129   \n",
       "Female head of government                                            -0.142042   \n",
       "Index of institutional trust                                         -0.030609   \n",
       "Gini coefficient of income                                            1.000000   \n",
       "All-cause death count, 2017                                           0.285325   \n",
       "All-cause death count, 2018                                           0.286963   \n",
       "All-cause death count, 2019                                           0.292058   \n",
       "All-cause death count, 2020                                           0.305235   \n",
       "Excess deaths in 2020 per 100,000 population, r...                    0.107840   \n",
       "Change                                                                0.123815   \n",
       "\n",
       "                                                    All-cause death count, 2017  \\\n",
       "Population 2020                                                        0.961245   \n",
       "Population 2019                                                        0.961456   \n",
       "COVID-19 deaths per 100,000 population in 2020                         0.158215   \n",
       "Median age                                                             0.138848   \n",
       "Island                                                                -0.001066   \n",
       "Index of exposure to COVID-19  infections in ot...                    -0.041854   \n",
       "Log of average distance to SARS countries                              0.091461   \n",
       "WHO Western Pacific Region                                             0.004576   \n",
       "Female head of government                                             -0.152041   \n",
       "Index of institutional trust                                          -0.161965   \n",
       "Gini coefficient of income                                             0.285325   \n",
       "All-cause death count, 2017                                            1.000000   \n",
       "All-cause death count, 2018                                            0.999838   \n",
       "All-cause death count, 2019                                            0.999676   \n",
       "All-cause death count, 2020                                            0.996522   \n",
       "Excess deaths in 2020 per 100,000 population, r...                     0.157352   \n",
       "Change                                                                 0.642224   \n",
       "\n",
       "                                                    All-cause death count, 2018  \\\n",
       "Population 2020                                                        0.962096   \n",
       "Population 2019                                                        0.962301   \n",
       "COVID-19 deaths per 100,000 population in 2020                         0.156650   \n",
       "Median age                                                             0.135162   \n",
       "Island                                                                -0.019238   \n",
       "Index of exposure to COVID-19  infections in ot...                    -0.048378   \n",
       "Log of average distance to SARS countries                              0.087105   \n",
       "WHO Western Pacific Region                                             0.008834   \n",
       "Female head of government                                             -0.148536   \n",
       "Index of institutional trust                                          -0.165577   \n",
       "Gini coefficient of income                                             0.286963   \n",
       "All-cause death count, 2017                                            0.999838   \n",
       "All-cause death count, 2018                                            1.000000   \n",
       "All-cause death count, 2019                                            0.999854   \n",
       "All-cause death count, 2020                                            0.996668   \n",
       "Excess deaths in 2020 per 100,000 population, r...                     0.165811   \n",
       "Change                                                                 0.643607   \n",
       "\n",
       "                                                    All-cause death count, 2019  \\\n",
       "Population 2020                                                        0.964964   \n",
       "Population 2019                                                        0.965185   \n",
       "COVID-19 deaths per 100,000 population in 2020                         0.155317   \n",
       "Median age                                                             0.132605   \n",
       "Island                                                                -0.018614   \n",
       "Index of exposure to COVID-19  infections in ot...                    -0.054101   \n",
       "Log of average distance to SARS countries                              0.086953   \n",
       "WHO Western Pacific Region                                             0.010864   \n",
       "Female head of government                                             -0.149844   \n",
       "Index of institutional trust                                          -0.166143   \n",
       "Gini coefficient of income                                             0.292058   \n",
       "All-cause death count, 2017                                            0.999676   \n",
       "All-cause death count, 2018                                            0.999854   \n",
       "All-cause death count, 2019                                            1.000000   \n",
       "All-cause death count, 2020                                            0.996569   \n",
       "Excess deaths in 2020 per 100,000 population, r...                     0.163386   \n",
       "Change                                                                 0.644058   \n",
       "\n",
       "                                                    All-cause death count, 2020  \\\n",
       "Population 2020                                                        0.971619   \n",
       "Population 2019                                                        0.971593   \n",
       "COVID-19 deaths per 100,000 population in 2020                         0.182419   \n",
       "Median age                                                             0.086354   \n",
       "Island                                                                -0.039797   \n",
       "Index of exposure to COVID-19  infections in ot...                    -0.065623   \n",
       "Log of average distance to SARS countries                              0.128098   \n",
       "WHO Western Pacific Region                                            -0.019495   \n",
       "Female head of government                                             -0.161087   \n",
       "Index of institutional trust                                          -0.179911   \n",
       "Gini coefficient of income                                             0.305235   \n",
       "All-cause death count, 2017                                            0.996522   \n",
       "All-cause death count, 2018                                            0.996668   \n",
       "All-cause death count, 2019                                            0.996569   \n",
       "All-cause death count, 2020                                            1.000000   \n",
       "Excess deaths in 2020 per 100,000 population, r...                     0.202110   \n",
       "Change                                                                 0.672825   \n",
       "\n",
       "                                                    Excess deaths in 2020 per 100,000 population, relative to 2017-2019 average  \\\n",
       "Population 2020                                                                              0.173785                             \n",
       "Population 2019                                                                              0.172572                             \n",
       "COVID-19 deaths per 100,000 population in 2020                                               0.689590                             \n",
       "Median age                                                                                  -0.043881                             \n",
       "Island                                                                                      -0.325740                             \n",
       "Index of exposure to COVID-19  infections in ot...                                           0.178251                             \n",
       "Log of average distance to SARS countries                                                    0.401523                             \n",
       "WHO Western Pacific Region                                                                  -0.461335                             \n",
       "Female head of government                                                                   -0.291482                             \n",
       "Index of institutional trust                                                                -0.425620                             \n",
       "Gini coefficient of income                                                                   0.107840                             \n",
       "All-cause death count, 2017                                                                  0.157352                             \n",
       "All-cause death count, 2018                                                                  0.165811                             \n",
       "All-cause death count, 2019                                                                  0.163386                             \n",
       "All-cause death count, 2020                                                                  0.202110                             \n",
       "Excess deaths in 2020 per 100,000 population, r...                                           1.000000                             \n",
       "Change                                                                                       0.232480                             \n",
       "\n",
       "                                                      Change  \n",
       "Population 2020                                     0.884698  \n",
       "Population 2019                                     0.879850  \n",
       "COVID-19 deaths per 100,000 population in 2020     -0.106187  \n",
       "Median age                                         -0.025618  \n",
       "Island                                             -0.049648  \n",
       "Index of exposure to COVID-19  infections in ot... -0.101350  \n",
       "Log of average distance to SARS countries          -0.200023  \n",
       "WHO Western Pacific Region                          0.219436  \n",
       "Female head of government                          -0.051373  \n",
       "Index of institutional trust                        0.124172  \n",
       "Gini coefficient of income                          0.123815  \n",
       "All-cause death count, 2017                         0.642224  \n",
       "All-cause death count, 2018                         0.643607  \n",
       "All-cause death count, 2019                         0.644058  \n",
       "All-cause death count, 2020                         0.672825  \n",
       "Excess deaths in 2020 per 100,000 population, r...  0.232480  \n",
       "Change                                              1.000000  "
      ]
     },
     "execution_count": 55,
     "metadata": {},
     "output_type": "execute_result"
    }
   ],
   "source": [
    "df.corr()"
   ]
  },
  {
   "cell_type": "code",
   "execution_count": 57,
   "metadata": {},
   "outputs": [],
   "source": [
    "## highest deaths of covid 19 per lakh people in which countries"
   ]
  },
  {
   "cell_type": "code",
   "execution_count": 60,
   "metadata": {},
   "outputs": [],
   "source": [
    "covid=df.sort_values('COVID-19 deaths per 100,000 population in 2020',ascending=False)[['Country name','COVID-19 deaths per 100,000 population in 2020']][:10]"
   ]
  },
  {
   "cell_type": "code",
   "execution_count": 64,
   "metadata": {},
   "outputs": [
    {
     "data": {
      "text/plain": [
       "<AxesSubplot:xlabel='COVID-19 deaths per 100,000 population in 2020', ylabel='Country name'>"
      ]
     },
     "execution_count": 64,
     "metadata": {},
     "output_type": "execute_result"
    },
    {
     "data": {
      "image/png": "[encoded data removed]",
      "text/plain": [
       "<Figure size 432x288 with 1 Axes>"
      ]
     },
     "metadata": {
      "needs_background": "light"
     },
     "output_type": "display_data"
    }
   ],
   "source": [
    "sns.barplot(y='Country name',x='COVID-19 deaths per 100,000 population in 2020',data=covid,orient='h')"
   ]
  },
  {
   "cell_type": "code",
   "execution_count": 87,
   "metadata": {},
   "outputs": [],
   "source": [
    "## analysing the median age of countries"
   ]
  },
  {
   "cell_type": "code",
   "execution_count": 67,
   "metadata": {},
   "outputs": [
    {
     "name": "stderr",
     "output_type": "stream",
     "text": [
      "<frozen importlib._bootstrap>:219: RuntimeWarning:\n",
      "\n",
      "numpy.ndarray size changed, may indicate binary incompatibility. Expected 16 from C header, got 96 from PyObject\n",
      "\n"
     ]
    }
   ],
   "source": [
    "import plotly.express as px"
   ]
  },
  {
   "cell_type": "code",
   "execution_count": 86,
   "metadata": {},
   "outputs": [
    {
     "data": {
      "application/vnd.plotly.v1+json": {
       "config": {
        "plotlyServerURL": "https://plot.ly"
       },
       "data": [
        {
         "coloraxis": "coloraxis",
         "geo": "geo",
         "hovertemplate": "Country name=%{location}<br>Median age=%{z}<extra></extra>",
         "locationmode": "country names",
         "locations": [
          "United States",
          "Egypt",
          "Morocco",
          "Lebanon",
          "Saudi Arabia",
          "Jordan",
          "Syria",
          "Turkey",
          "Pakistan",
          "Indonesia",
          "Bangladesh",
          "United Kingdom",
          "France",
          "Germany",
          "Netherlands",
          "Belgium",
          "Spain",
          "Italy",
          "Poland",
          "Hungary",
          "Czech Republic",
          "Romania",
          "Sweden",
          "Greece",
          "Denmark",
          "Iran",
          "Hong Kong S.A.R. of China",
          "Singapore",
          "Japan",
          "China",
          "India",
          "Venezuela",
          "Brazil",
          "Mexico",
          "Nigeria",
          "Kenya",
          "Tanzania",
          "Israel",
          "Palestinian Territories",
          "Ghana",
          "Uganda",
          "Benin",
          "Madagascar",
          "Malawi",
          "South Africa",
          "Canada",
          "Australia",
          "Philippines",
          "Sri Lanka",
          "Vietnam",
          "Thailand",
          "Cambodia",
          "Laos",
          "Myanmar",
          "New Zealand",
          "Angola",
          "Botswana",
          "Ethiopia",
          "Mali",
          "Mauritania",
          "Mozambique",
          "Niger",
          "Rwanda",
          "Senegal",
          "Zambia",
          "South Korea",
          "Taiwan Province of China",
          "Afghanistan",
          "Belarus",
          "Georgia",
          "Kazakhstan",
          "Kyrgyzstan",
          "Moldova",
          "Russia",
          "Ukraine",
          "Burkina Faso",
          "Cameroon",
          "Sierra Leone",
          "Zimbabwe",
          "Costa Rica",
          "Albania",
          "Algeria",
          "Argentina",
          "Armenia",
          "Austria",
          "Azerbaijan",
          "Bahrain",
          "Belize",
          "Bhutan",
          "Bolivia",
          "Bosnia and Herzegovina",
          "Bulgaria",
          "Burundi",
          "Central African Republic",
          "Chad",
          "Chile",
          "Colombia",
          "Comoros",
          "Congo (Kinshasa)",
          "Congo (Brazzaville)",
          "Croatia",
          "Cuba",
          "Cyprus",
          "Djibouti",
          "Dominican Republic",
          "Ecuador",
          "El Salvador",
          "Estonia",
          "Finland",
          "Gabon",
          "Guatemala",
          "Guinea",
          "Guyana",
          "Haiti",
          "Honduras",
          "Iceland",
          "Iraq",
          "Ireland",
          "Ivory Coast",
          "Jamaica",
          "Kuwait",
          "Latvia",
          "Lesotho",
          "Liberia",
          "Libya",
          "Lithuania",
          "Luxembourg",
          "North Macedonia",
          "Malaysia",
          "Maldives",
          "Malta",
          "Mauritius",
          "Mongolia",
          "Montenegro",
          "Namibia",
          "Nepal",
          "Nicaragua",
          "Norway",
          "Oman",
          "Panama",
          "Paraguay",
          "Peru",
          "Portugal",
          "Qatar",
          "Serbia",
          "Slovakia",
          "Slovenia",
          "Somalia",
          "Sudan",
          "Suriname",
          "Eswatini",
          "Switzerland",
          "Tajikistan",
          "Gambia",
          "Togo",
          "Trinidad and Tobago",
          "Tunisia",
          "Turkmenistan",
          "United Arab Emirates",
          "Uruguay",
          "Uzbekistan",
          "Yemen",
          "Kosovo",
          "Somaliland region",
          "North Cyprus",
          "South Sudan"
         ],
         "name": "",
         "type": "choropleth",
         "z": [
          38.29999923706055,
          25.299999237060547,
          29.600000381469727,
          31.100000381469727,
          31.899999618530273,
          23.200000762939453,
          21.700000762939453,
          31.600000381469727,
          23.5,
          29.299999237060547,
          27.5,
          40.79999923706055,
          42,
          46.599998474121094,
          43.20000076293945,
          41.79999923706055,
          45.5,
          47.900001525878906,
          41.79999923706055,
          43.400001525878906,
          43.29999923706055,
          43,
          41,
          45.29999923706055,
          42.29999923706055,
          32.400001525878906,
          44.79999923706055,
          42.400001525878906,
          48.20000076293945,
          38.70000076293945,
          28.200000762939453,
          29,
          33.5,
          29.299999237060547,
          18.100000381469727,
          20,
          17.700000762939453,
          30.600000381469727,
          20.399999618530273,
          21.100000381469727,
          16.399999618530273,
          18.799999237060547,
          19.600000381469727,
          18.100000381469727,
          27.299999237060547,
          41.400001525878906,
          37.900001525878906,
          25.200000762939453,
          34.099998474121094,
          32.599998474121094,
          40.099998474121094,
          25.600000381469727,
          24.399999618530273,
          29.100000381469727,
          37.900001525878906,
          16.799999237060547,
          25.799999237060547,
          19.799999237060547,
          16.399999618530273,
          20.299999237060547,
          17.700000762939453,
          15.100000381469727,
          20.299999237060547,
          18.700000762939453,
          17.700000762939453,
          43.400001525878906,
          42.20000076293945,
          18.600000381469727,
          40.29999923706055,
          38.70000076293945,
          30.600000381469727,
          26.299999237060547,
          37.599998474121094,
          39.599998474121094,
          41.400001525878906,
          17.600000381469727,
          18.799999237060547,
          19.100000381469727,
          19.600000381469727,
          33.599998474121094,
          38,
          29.100000381469727,
          31.899999618530273,
          35.70000076293945,
          44.400001525878906,
          32.400001525878906,
          32.400001525878906,
          25,
          28.600000381469727,
          25.399999618530273,
          42.5,
          44.70000076293945,
          17.5,
          18.299999237060547,
          16.700000762939453,
          35.400001525878906,
          32.20000076293945,
          20.399999618530273,
          17,
          19,
          44,
          43.099998474121094,
          37.29999923706055,
          25.399999618530273,
          27.600000381469727,
          28.100000381469727,
          27.600000381469727,
          42.70000076293945,
          42.79999923706055,
          23.100000381469727,
          22.899999618530273,
          19,
          26.299999237060547,
          24.299999237060547,
          24.899999618530273,
          37.29999923706055,
          20,
          38.70000076293945,
          18.700000762939453,
          31.399999618530273,
          33.70000076293945,
          43.900001525878906,
          24,
          19.200000762939453,
          29,
          43.5,
          39.70000076293945,
          39.099998474121094,
          29.899999618530273,
          30.600000381469727,
          42.400001525878906,
          37.400001525878906,
          28.600000381469727,
          39.099998474121094,
          22,
          25,
          27.299999237060547,
          39.70000076293945,
          30.700000762939453,
          29.700000762939453,
          26.5,
          29.100000381469727,
          46.20000076293945,
          31.899999618530273,
          41.20000076293945,
          41.20000076293945,
          44.5,
          16.799999237060547,
          19.700000762939453,
          29.600000381469727,
          21.5,
          43.099998474121094,
          23.299999237060547,
          17.5,
          19.399999618530273,
          36.20000076293945,
          32.70000076293945,
          null,
          34,
          35.599998474121094,
          28.200000762939453,
          20.299999237060547,
          35,
          null,
          null,
          19.200000762939453
         ]
        }
       ],
       "layout": {
        "coloraxis": {
         "colorbar": {
          "title": {
           "text": "Median age"
          }
         },
         "colorscale": [
          [
           0,
           "rgb(247,251,255)"
          ],
          [
           0.125,
           "rgb(222,235,247)"
          ],
          [
           0.25,
           "rgb(198,219,239)"
          ],
          [
           0.375,
           "rgb(158,202,225)"
          ],
          [
           0.5,
           "rgb(107,174,214)"
          ],
          [
           0.625,
           "rgb(66,146,198)"
          ],
          [
           0.75,
           "rgb(33,113,181)"
          ],
          [
           0.875,
           "rgb(8,81,156)"
          ],
          [
           1,
           "rgb(8,48,107)"
          ]
         ]
        },
        "geo": {
         "center": {},
         "domain": {
          "x": [
           0,
           1
          ],
          "y": [
           0,
           1
          ]
         }
        },
        "legend": {
         "tracegroupgap": 0
        },
        "template": {
         "data": {
          "bar": [
           {
            "error_x": {
             "color": "#2a3f5f"
            },
            "error_y": {
             "color": "#2a3f5f"
            },
            "marker": {
             "line": {
              "color": "#E5ECF6",
              "width": 0.5
             },
             "pattern": {
              "fillmode": "overlay",
              "size": 10,
              "solidity": 0.2
             }
            },
            "type": "bar"
           }
          ],
          "barpolar": [
           {
            "marker": {
             "line": {
              "color": "#E5ECF6",
              "width": 0.5
             },
             "pattern": {
              "fillmode": "overlay",
              "size": 10,
              "solidity": 0.2
             }
            },
            "type": "barpolar"
           }
          ],
          "carpet": [
           {
            "aaxis": {
             "endlinecolor": "#2a3f5f",
             "gridcolor": "white",
             "linecolor": "white",
             "minorgridcolor": "white",
             "startlinecolor": "#2a3f5f"
            },
            "baxis": {
             "endlinecolor": "#2a3f5f",
             "gridcolor": "white",
             "linecolor": "white",
             "minorgridcolor": "white",
             "startlinecolor": "#2a3f5f"
            },
            "type": "carpet"
           }
          ],
          "choropleth": [
           {
            "colorbar": {
             "outlinewidth": 0,
             "ticks": ""
            },
            "type": "choropleth"
           }
          ],
          "contour": [
           {
            "colorbar": {
             "outlinewidth": 0,
             "ticks": ""
            },
            "colorscale": [
             [
              0,
              "#0d0887"
             ],
             [
              0.1111111111111111,
              "#46039f"
             ],
             [
              0.2222222222222222,
              "#7201a8"
             ],
             [
              0.3333333333333333,
              "#9c179e"
             ],
             [
              0.4444444444444444,
              "#bd3786"
             ],
             [
              0.5555555555555556,
              "#d8576b"
             ],
             [
              0.6666666666666666,
              "#ed7953"
             ],
             [
              0.7777777777777778,
              "#fb9f3a"
             ],
             [
              0.8888888888888888,
              "#fdca26"
             ],
             [
              1,
              "#f0f921"
             ]
            ],
            "type": "contour"
           }
          ],
          "contourcarpet": [
           {
            "colorbar": {
             "outlinewidth": 0,
             "ticks": ""
            },
            "type": "contourcarpet"
           }
          ],
          "heatmap": [
           {
            "colorbar": {
             "outlinewidth": 0,
             "ticks": ""
            },
            "colorscale": [
             [
              0,
              "#0d0887"
             ],
             [
              0.1111111111111111,
              "#46039f"
             ],
             [
              0.2222222222222222,
              "#7201a8"
             ],
             [
              0.3333333333333333,
              "#9c179e"
             ],
             [
              0.4444444444444444,
              "#bd3786"
             ],
             [
              0.5555555555555556,
              "#d8576b"
             ],
             [
              0.6666666666666666,
              "#ed7953"
             ],
             [
              0.7777777777777778,
              "#fb9f3a"
             ],
             [
              0.8888888888888888,
              "#fdca26"
             ],
             [
              1,
              "#f0f921"
             ]
            ],
            "type": "heatmap"
           }
          ],
          "heatmapgl": [
           {
            "colorbar": {
             "outlinewidth": 0,
             "ticks": ""
            },
            "colorscale": [
             [
              0,
              "#0d0887"
             ],
             [
              0.1111111111111111,
              "#46039f"
             ],
             [
              0.2222222222222222,
              "#7201a8"
             ],
             [
              0.3333333333333333,
              "#9c179e"
             ],
             [
              0.4444444444444444,
              "#bd3786"
             ],
             [
              0.5555555555555556,
              "#d8576b"
             ],
             [
              0.6666666666666666,
              "#ed7953"
             ],
             [
              0.7777777777777778,
              "#fb9f3a"
             ],
             [
              0.8888888888888888,
              "#fdca26"
             ],
             [
              1,
              "#f0f921"
             ]
            ],
            "type": "heatmapgl"
           }
          ],
          "histogram": [
           {
            "marker": {
             "pattern": {
              "fillmode": "overlay",
              "size": 10,
              "solidity": 0.2
             }
            },
            "type": "histogram"
           }
          ],
          "histogram2d": [
           {
            "colorbar": {
             "outlinewidth": 0,
             "ticks": ""
            },
            "colorscale": [
             [
              0,
              "#0d0887"
             ],
             [
              0.1111111111111111,
              "#46039f"
             ],
             [
              0.2222222222222222,
              "#7201a8"
             ],
             [
              0.3333333333333333,
              "#9c179e"
             ],
             [
              0.4444444444444444,
              "#bd3786"
             ],
             [
              0.5555555555555556,
              "#d8576b"
             ],
             [
              0.6666666666666666,
              "#ed7953"
             ],
             [
              0.7777777777777778,
              "#fb9f3a"
             ],
             [
              0.8888888888888888,
              "#fdca26"
             ],
             [
              1,
              "#f0f921"
             ]
            ],
            "type": "histogram2d"
           }
          ],
          "histogram2dcontour": [
           {
            "colorbar": {
             "outlinewidth": 0,
             "ticks": ""
            },
            "colorscale": [
             [
              0,
              "#0d0887"
             ],
             [
              0.1111111111111111,
              "#46039f"
             ],
             [
              0.2222222222222222,
              "#7201a8"
             ],
             [
              0.3333333333333333,
              "#9c179e"
             ],
             [
              0.4444444444444444,
              "#bd3786"
             ],
             [
              0.5555555555555556,
              "#d8576b"
             ],
             [
              0.6666666666666666,
              "#ed7953"
             ],
             [
              0.7777777777777778,
              "#fb9f3a"
             ],
             [
              0.8888888888888888,
              "#fdca26"
             ],
             [
              1,
              "#f0f921"
             ]
            ],
            "type": "histogram2dcontour"
           }
          ],
          "mesh3d": [
           {
            "colorbar": {
             "outlinewidth": 0,
             "ticks": ""
            },
            "type": "mesh3d"
           }
          ],
          "parcoords": [
           {
            "line": {
             "colorbar": {
              "outlinewidth": 0,
              "ticks": ""
             }
            },
            "type": "parcoords"
           }
          ],
          "pie": [
           {
            "automargin": true,
            "type": "pie"
           }
          ],
          "scatter": [
           {
            "marker": {
             "colorbar": {
              "outlinewidth": 0,
              "ticks": ""
             }
            },
            "type": "scatter"
           }
          ],
          "scatter3d": [
           {
            "line": {
             "colorbar": {
              "outlinewidth": 0,
              "ticks": ""
             }
            },
            "marker": {
             "colorbar": {
              "outlinewidth": 0,
              "ticks": ""
             }
            },
            "type": "scatter3d"
           }
          ],
          "scattercarpet": [
           {
            "marker": {
             "colorbar": {
              "outlinewidth": 0,
              "ticks": ""
             }
            },
            "type": "scattercarpet"
           }
          ],
          "scattergeo": [
           {
            "marker": {
             "colorbar": {
              "outlinewidth": 0,
              "ticks": ""
             }
            },
            "type": "scattergeo"
           }
          ],
          "scattergl": [
           {
            "marker": {
             "colorbar": {
              "outlinewidth": 0,
              "ticks": ""
             }
            },
            "type": "scattergl"
           }
          ],
          "scattermapbox": [
           {
            "marker": {
             "colorbar": {
              "outlinewidth": 0,
              "ticks": ""
             }
            },
            "type": "scattermapbox"
           }
          ],
          "scatterpolar": [
           {
            "marker": {
             "colorbar": {
              "outlinewidth": 0,
              "ticks": ""
             }
            },
            "type": "scatterpolar"
           }
          ],
          "scatterpolargl": [
           {
            "marker": {
             "colorbar": {
              "outlinewidth": 0,
              "ticks": ""
             }
            },
            "type": "scatterpolargl"
           }
          ],
          "scatterternary": [
           {
            "marker": {
             "colorbar": {
              "outlinewidth": 0,
              "ticks": ""
             }
            },
            "type": "scatterternary"
           }
          ],
          "surface": [
           {
            "colorbar": {
             "outlinewidth": 0,
             "ticks": ""
            },
            "colorscale": [
             [
              0,
              "#0d0887"
             ],
             [
              0.1111111111111111,
              "#46039f"
             ],
             [
              0.2222222222222222,
              "#7201a8"
             ],
             [
              0.3333333333333333,
              "#9c179e"
             ],
             [
              0.4444444444444444,
              "#bd3786"
             ],
             [
              0.5555555555555556,
              "#d8576b"
             ],
             [
              0.6666666666666666,
              "#ed7953"
             ],
             [
              0.7777777777777778,
              "#fb9f3a"
             ],
             [
              0.8888888888888888,
              "#fdca26"
             ],
             [
              1,
              "#f0f921"
             ]
            ],
            "type": "surface"
           }
          ],
          "table": [
           {
            "cells": {
             "fill": {
              "color": "#EBF0F8"
             },
             "line": {
              "color": "white"
             }
            },
            "header": {
             "fill": {
              "color": "#C8D4E3"
             },
             "line": {
              "color": "white"
             }
            },
            "type": "table"
           }
          ]
         },
         "layout": {
          "annotationdefaults": {
           "arrowcolor": "#2a3f5f",
           "arrowhead": 0,
           "arrowwidth": 1
          },
          "autotypenumbers": "strict",
          "coloraxis": {
           "colorbar": {
            "outlinewidth": 0,
            "ticks": ""
           }
          },
          "colorscale": {
           "diverging": [
            [
             0,
             "#8e0152"
            ],
            [
             0.1,
             "#c51b7d"
            ],
            [
             0.2,
             "#de77ae"
            ],
            [
             0.3,
             "#f1b6da"
            ],
            [
             0.4,
             "#fde0ef"
            ],
            [
             0.5,
             "#f7f7f7"
            ],
            [
             0.6,
             "#e6f5d0"
            ],
            [
             0.7,
             "#b8e186"
            ],
            [
             0.8,
             "#7fbc41"
            ],
            [
             0.9,
             "#4d9221"
            ],
            [
             1,
             "#276419"
            ]
           ],
           "sequential": [
            [
             0,
             "#0d0887"
            ],
            [
             0.1111111111111111,
             "#46039f"
            ],
            [
             0.2222222222222222,
             "#7201a8"
            ],
            [
             0.3333333333333333,
             "#9c179e"
            ],
            [
             0.4444444444444444,
             "#bd3786"
            ],
            [
             0.5555555555555556,
             "#d8576b"
            ],
            [
             0.6666666666666666,
             "#ed7953"
            ],
            [
             0.7777777777777778,
             "#fb9f3a"
            ],
            [
             0.8888888888888888,
             "#fdca26"
            ],
            [
             1,
             "#f0f921"
            ]
           ],
           "sequentialminus": [
            [
             0,
             "#0d0887"
            ],
            [
             0.1111111111111111,
             "#46039f"
            ],
            [
             0.2222222222222222,
             "#7201a8"
            ],
            [
             0.3333333333333333,
             "#9c179e"
            ],
            [
             0.4444444444444444,
             "#bd3786"
            ],
            [
             0.5555555555555556,
             "#d8576b"
            ],
            [
             0.6666666666666666,
             "#ed7953"
            ],
            [
             0.7777777777777778,
             "#fb9f3a"
            ],
            [
             0.8888888888888888,
             "#fdca26"
            ],
            [
             1,
             "#f0f921"
            ]
           ]
          },
          "colorway": [
           "#636efa",
           "#EF553B",
           "#00cc96",
           "#ab63fa",
           "#FFA15A",
           "#19d3f3",
           "#FF6692",
           "#B6E880",
           "#FF97FF",
           "#FECB52"
          ],
          "font": {
           "color": "#2a3f5f"
          },
          "geo": {
           "bgcolor": "white",
           "lakecolor": "white",
           "landcolor": "#E5ECF6",
           "showlakes": true,
           "showland": true,
           "subunitcolor": "white"
          },
          "hoverlabel": {
           "align": "left"
          },
          "hovermode": "closest",
          "mapbox": {
           "style": "light"
          },
          "paper_bgcolor": "white",
          "plot_bgcolor": "#E5ECF6",
          "polar": {
           "angularaxis": {
            "gridcolor": "white",
            "linecolor": "white",
            "ticks": ""
           },
           "bgcolor": "#E5ECF6",
           "radialaxis": {
            "gridcolor": "white",
            "linecolor": "white",
            "ticks": ""
           }
          },
          "scene": {
           "xaxis": {
            "backgroundcolor": "#E5ECF6",
            "gridcolor": "white",
            "gridwidth": 2,
            "linecolor": "white",
            "showbackground": true,
            "ticks": "",
            "zerolinecolor": "white"
           },
           "yaxis": {
            "backgroundcolor": "#E5ECF6",
            "gridcolor": "white",
            "gridwidth": 2,
            "linecolor": "white",
            "showbackground": true,
            "ticks": "",
            "zerolinecolor": "white"
           },
           "zaxis": {
            "backgroundcolor": "#E5ECF6",
            "gridcolor": "white",
            "gridwidth": 2,
            "linecolor": "white",
            "showbackground": true,
            "ticks": "",
            "zerolinecolor": "white"
           }
          },
          "shapedefaults": {
           "line": {
            "color": "#2a3f5f"
           }
          },
          "ternary": {
           "aaxis": {
            "gridcolor": "white",
            "linecolor": "white",
            "ticks": ""
           },
           "baxis": {
            "gridcolor": "white",
            "linecolor": "white",
            "ticks": ""
           },
           "bgcolor": "#E5ECF6",
           "caxis": {
            "gridcolor": "white",
            "linecolor": "white",
            "ticks": ""
           }
          },
          "title": {
           "x": 0.05
          },
          "xaxis": {
           "automargin": true,
           "gridcolor": "white",
           "linecolor": "white",
           "ticks": "",
           "title": {
            "standoff": 15
           },
           "zerolinecolor": "white",
           "zerolinewidth": 2
          },
          "yaxis": {
           "automargin": true,
           "gridcolor": "white",
           "linecolor": "white",
           "ticks": "",
           "title": {
            "standoff": 15
           },
           "zerolinecolor": "white",
           "zerolinewidth": 2
          }
         }
        },
        "title": {
         "text": "Median Age"
        }
       }
      },
      "text/html": [
       "<div>                            <div id=\"ab71a961-b16f-4e93-ab09-fe9d2e885403\" class=\"plotly-graph-div\" style=\"height:525px; width:100%;\"></div>            <script type=\"text/javascript\">                require([\"plotly\"], function(Plotly) {                    window.PLOTLYENV=window.PLOTLYENV || {};                                    if (document.getElementById(\"ab71a961-b16f-4e93-ab09-fe9d2e885403\")) {                    Plotly.newPlot(                        \"ab71a961-b16f-4e93-ab09-fe9d2e885403\",                        [{\"coloraxis\":\"coloraxis\",\"geo\":\"geo\",\"hovertemplate\":\"Country name=%{location}<br>Median age=%{z}<extra></extra>\",\"locationmode\":\"country names\",\"locations\":[\"United States\",\"Egypt\",\"Morocco\",\"Lebanon\",\"Saudi Arabia\",\"Jordan\",\"Syria\",\"Turkey\",\"Pakistan\",\"Indonesia\",\"Bangladesh\",\"United Kingdom\",\"France\",\"Germany\",\"Netherlands\",\"Belgium\",\"Spain\",\"Italy\",\"Poland\",\"Hungary\",\"Czech Republic\",\"Romania\",\"Sweden\",\"Greece\",\"Denmark\",\"Iran\",\"Hong Kong S.A.R. of China\",\"Singapore\",\"Japan\",\"China\",\"India\",\"Venezuela\",\"Brazil\",\"Mexico\",\"Nigeria\",\"Kenya\",\"Tanzania\",\"Israel\",\"Palestinian Territories\",\"Ghana\",\"Uganda\",\"Benin\",\"Madagascar\",\"Malawi\",\"South Africa\",\"Canada\",\"Australia\",\"Philippines\",\"Sri Lanka\",\"Vietnam\",\"Thailand\",\"Cambodia\",\"Laos\",\"Myanmar\",\"New Zealand\",\"Angola\",\"Botswana\",\"Ethiopia\",\"Mali\",\"Mauritania\",\"Mozambique\",\"Niger\",\"Rwanda\",\"Senegal\",\"Zambia\",\"South Korea\",\"Taiwan Province of China\",\"Afghanistan\",\"Belarus\",\"Georgia\",\"Kazakhstan\",\"Kyrgyzstan\",\"Moldova\",\"Russia\",\"Ukraine\",\"Burkina Faso\",\"Cameroon\",\"Sierra Leone\",\"Zimbabwe\",\"Costa Rica\",\"Albania\",\"Algeria\",\"Argentina\",\"Armenia\",\"Austria\",\"Azerbaijan\",\"Bahrain\",\"Belize\",\"Bhutan\",\"Bolivia\",\"Bosnia and Herzegovina\",\"Bulgaria\",\"Burundi\",\"Central African Republic\",\"Chad\",\"Chile\",\"Colombia\",\"Comoros\",\"Congo (Kinshasa)\",\"Congo (Brazzaville)\",\"Croatia\",\"Cuba\",\"Cyprus\",\"Djibouti\",\"Dominican Republic\",\"Ecuador\",\"El Salvador\",\"Estonia\",\"Finland\",\"Gabon\",\"Guatemala\",\"Guinea\",\"Guyana\",\"Haiti\",\"Honduras\",\"Iceland\",\"Iraq\",\"Ireland\",\"Ivory Coast\",\"Jamaica\",\"Kuwait\",\"Latvia\",\"Lesotho\",\"Liberia\",\"Libya\",\"Lithuania\",\"Luxembourg\",\"North Macedonia\",\"Malaysia\",\"Maldives\",\"Malta\",\"Mauritius\",\"Mongolia\",\"Montenegro\",\"Namibia\",\"Nepal\",\"Nicaragua\",\"Norway\",\"Oman\",\"Panama\",\"Paraguay\",\"Peru\",\"Portugal\",\"Qatar\",\"Serbia\",\"Slovakia\",\"Slovenia\",\"Somalia\",\"Sudan\",\"Suriname\",\"Eswatini\",\"Switzerland\",\"Tajikistan\",\"Gambia\",\"Togo\",\"Trinidad and Tobago\",\"Tunisia\",\"Turkmenistan\",\"United Arab Emirates\",\"Uruguay\",\"Uzbekistan\",\"Yemen\",\"Kosovo\",\"Somaliland region\",\"North Cyprus\",\"South Sudan\"],\"name\":\"\",\"type\":\"choropleth\",\"z\":[38.29999923706055,25.299999237060547,29.600000381469727,31.100000381469727,31.899999618530273,23.200000762939453,21.700000762939453,31.600000381469727,23.5,29.299999237060547,27.5,40.79999923706055,42.0,46.599998474121094,43.20000076293945,41.79999923706055,45.5,47.900001525878906,41.79999923706055,43.400001525878906,43.29999923706055,43.0,41.0,45.29999923706055,42.29999923706055,32.400001525878906,44.79999923706055,42.400001525878906,48.20000076293945,38.70000076293945,28.200000762939453,29.0,33.5,29.299999237060547,18.100000381469727,20.0,17.700000762939453,30.600000381469727,20.399999618530273,21.100000381469727,16.399999618530273,18.799999237060547,19.600000381469727,18.100000381469727,27.299999237060547,41.400001525878906,37.900001525878906,25.200000762939453,34.099998474121094,32.599998474121094,40.099998474121094,25.600000381469727,24.399999618530273,29.100000381469727,37.900001525878906,16.799999237060547,25.799999237060547,19.799999237060547,16.399999618530273,20.299999237060547,17.700000762939453,15.100000381469727,20.299999237060547,18.700000762939453,17.700000762939453,43.400001525878906,42.20000076293945,18.600000381469727,40.29999923706055,38.70000076293945,30.600000381469727,26.299999237060547,37.599998474121094,39.599998474121094,41.400001525878906,17.600000381469727,18.799999237060547,19.100000381469727,19.600000381469727,33.599998474121094,38.0,29.100000381469727,31.899999618530273,35.70000076293945,44.400001525878906,32.400001525878906,32.400001525878906,25.0,28.600000381469727,25.399999618530273,42.5,44.70000076293945,17.5,18.299999237060547,16.700000762939453,35.400001525878906,32.20000076293945,20.399999618530273,17.0,19.0,44.0,43.099998474121094,37.29999923706055,25.399999618530273,27.600000381469727,28.100000381469727,27.600000381469727,42.70000076293945,42.79999923706055,23.100000381469727,22.899999618530273,19.0,26.299999237060547,24.299999237060547,24.899999618530273,37.29999923706055,20.0,38.70000076293945,18.700000762939453,31.399999618530273,33.70000076293945,43.900001525878906,24.0,19.200000762939453,29.0,43.5,39.70000076293945,39.099998474121094,29.899999618530273,30.600000381469727,42.400001525878906,37.400001525878906,28.600000381469727,39.099998474121094,22.0,25.0,27.299999237060547,39.70000076293945,30.700000762939453,29.700000762939453,26.5,29.100000381469727,46.20000076293945,31.899999618530273,41.20000076293945,41.20000076293945,44.5,16.799999237060547,19.700000762939453,29.600000381469727,21.5,43.099998474121094,23.299999237060547,17.5,19.399999618530273,36.20000076293945,32.70000076293945,null,34.0,35.599998474121094,28.200000762939453,20.299999237060547,35.0,null,null,19.200000762939453]}],                        {\"coloraxis\":{\"colorbar\":{\"title\":{\"text\":\"Median age\"}},\"colorscale\":[[0.0,\"rgb(247,251,255)\"],[0.125,\"rgb(222,235,247)\"],[0.25,\"rgb(198,219,239)\"],[0.375,\"rgb(158,202,225)\"],[0.5,\"rgb(107,174,214)\"],[0.625,\"rgb(66,146,198)\"],[0.75,\"rgb(33,113,181)\"],[0.875,\"rgb(8,81,156)\"],[1.0,\"rgb(8,48,107)\"]]},\"geo\":{\"center\":{},\"domain\":{\"x\":[0.0,1.0],\"y\":[0.0,1.0]}},\"legend\":{\"tracegroupgap\":0},\"template\":{\"data\":{\"bar\":[{\"error_x\":{\"color\":\"#2a3f5f\"},\"error_y\":{\"color\":\"#2a3f5f\"},\"marker\":{\"line\":{\"color\":\"#E5ECF6\",\"width\":0.5},\"pattern\":{\"fillmode\":\"overlay\",\"size\":10,\"solidity\":0.2}},\"type\":\"bar\"}],\"barpolar\":[{\"marker\":{\"line\":{\"color\":\"#E5ECF6\",\"width\":0.5},\"pattern\":{\"fillmode\":\"overlay\",\"size\":10,\"solidity\":0.2}},\"type\":\"barpolar\"}],\"carpet\":[{\"aaxis\":{\"endlinecolor\":\"#2a3f5f\",\"gridcolor\":\"white\",\"linecolor\":\"white\",\"minorgridcolor\":\"white\",\"startlinecolor\":\"#2a3f5f\"},\"baxis\":{\"endlinecolor\":\"#2a3f5f\",\"gridcolor\":\"white\",\"linecolor\":\"white\",\"minorgridcolor\":\"white\",\"startlinecolor\":\"#2a3f5f\"},\"type\":\"carpet\"}],\"choropleth\":[{\"colorbar\":{\"outlinewidth\":0,\"ticks\":\"\"},\"type\":\"choropleth\"}],\"contour\":[{\"colorbar\":{\"outlinewidth\":0,\"ticks\":\"\"},\"colorscale\":[[0.0,\"#0d0887\"],[0.1111111111111111,\"#46039f\"],[0.2222222222222222,\"#7201a8\"],[0.3333333333333333,\"#9c179e\"],[0.4444444444444444,\"#bd3786\"],[0.5555555555555556,\"#d8576b\"],[0.6666666666666666,\"#ed7953\"],[0.7777777777777778,\"#fb9f3a\"],[0.8888888888888888,\"#fdca26\"],[1.0,\"#f0f921\"]],\"type\":\"contour\"}],\"contourcarpet\":[{\"colorbar\":{\"outlinewidth\":0,\"ticks\":\"\"},\"type\":\"contourcarpet\"}],\"heatmap\":[{\"colorbar\":{\"outlinewidth\":0,\"ticks\":\"\"},\"colorscale\":[[0.0,\"#0d0887\"],[0.1111111111111111,\"#46039f\"],[0.2222222222222222,\"#7201a8\"],[0.3333333333333333,\"#9c179e\"],[0.4444444444444444,\"#bd3786\"],[0.5555555555555556,\"#d8576b\"],[0.6666666666666666,\"#ed7953\"],[0.7777777777777778,\"#fb9f3a\"],[0.8888888888888888,\"#fdca26\"],[1.0,\"#f0f921\"]],\"type\":\"heatmap\"}],\"heatmapgl\":[{\"colorbar\":{\"outlinewidth\":0,\"ticks\":\"\"},\"colorscale\":[[0.0,\"#0d0887\"],[0.1111111111111111,\"#46039f\"],[0.2222222222222222,\"#7201a8\"],[0.3333333333333333,\"#9c179e\"],[0.4444444444444444,\"#bd3786\"],[0.5555555555555556,\"#d8576b\"],[0.6666666666666666,\"#ed7953\"],[0.7777777777777778,\"#fb9f3a\"],[0.8888888888888888,\"#fdca26\"],[1.0,\"#f0f921\"]],\"type\":\"heatmapgl\"}],\"histogram\":[{\"marker\":{\"pattern\":{\"fillmode\":\"overlay\",\"size\":10,\"solidity\":0.2}},\"type\":\"histogram\"}],\"histogram2d\":[{\"colorbar\":{\"outlinewidth\":0,\"ticks\":\"\"},\"colorscale\":[[0.0,\"#0d0887\"],[0.1111111111111111,\"#46039f\"],[0.2222222222222222,\"#7201a8\"],[0.3333333333333333,\"#9c179e\"],[0.4444444444444444,\"#bd3786\"],[0.5555555555555556,\"#d8576b\"],[0.6666666666666666,\"#ed7953\"],[0.7777777777777778,\"#fb9f3a\"],[0.8888888888888888,\"#fdca26\"],[1.0,\"#f0f921\"]],\"type\":\"histogram2d\"}],\"histogram2dcontour\":[{\"colorbar\":{\"outlinewidth\":0,\"ticks\":\"\"},\"colorscale\":[[0.0,\"#0d0887\"],[0.1111111111111111,\"#46039f\"],[0.2222222222222222,\"#7201a8\"],[0.3333333333333333,\"#9c179e\"],[0.4444444444444444,\"#bd3786\"],[0.5555555555555556,\"#d8576b\"],[0.6666666666666666,\"#ed7953\"],[0.7777777777777778,\"#fb9f3a\"],[0.8888888888888888,\"#fdca26\"],[1.0,\"#f0f921\"]],\"type\":\"histogram2dcontour\"}],\"mesh3d\":[{\"colorbar\":{\"outlinewidth\":0,\"ticks\":\"\"},\"type\":\"mesh3d\"}],\"parcoords\":[{\"line\":{\"colorbar\":{\"outlinewidth\":0,\"ticks\":\"\"}},\"type\":\"parcoords\"}],\"pie\":[{\"automargin\":true,\"type\":\"pie\"}],\"scatter\":[{\"marker\":{\"colorbar\":{\"outlinewidth\":0,\"ticks\":\"\"}},\"type\":\"scatter\"}],\"scatter3d\":[{\"line\":{\"colorbar\":{\"outlinewidth\":0,\"ticks\":\"\"}},\"marker\":{\"colorbar\":{\"outlinewidth\":0,\"ticks\":\"\"}},\"type\":\"scatter3d\"}],\"scattercarpet\":[{\"marker\":{\"colorbar\":{\"outlinewidth\":0,\"ticks\":\"\"}},\"type\":\"scattercarpet\"}],\"scattergeo\":[{\"marker\":{\"colorbar\":{\"outlinewidth\":0,\"ticks\":\"\"}},\"type\":\"scattergeo\"}],\"scattergl\":[{\"marker\":{\"colorbar\":{\"outlinewidth\":0,\"ticks\":\"\"}},\"type\":\"scattergl\"}],\"scattermapbox\":[{\"marker\":{\"colorbar\":{\"outlinewidth\":0,\"ticks\":\"\"}},\"type\":\"scattermapbox\"}],\"scatterpolar\":[{\"marker\":{\"colorbar\":{\"outlinewidth\":0,\"ticks\":\"\"}},\"type\":\"scatterpolar\"}],\"scatterpolargl\":[{\"marker\":{\"colorbar\":{\"outlinewidth\":0,\"ticks\":\"\"}},\"type\":\"scatterpolargl\"}],\"scatterternary\":[{\"marker\":{\"colorbar\":{\"outlinewidth\":0,\"ticks\":\"\"}},\"type\":\"scatterternary\"}],\"surface\":[{\"colorbar\":{\"outlinewidth\":0,\"ticks\":\"\"},\"colorscale\":[[0.0,\"#0d0887\"],[0.1111111111111111,\"#46039f\"],[0.2222222222222222,\"#7201a8\"],[0.3333333333333333,\"#9c179e\"],[0.4444444444444444,\"#bd3786\"],[0.5555555555555556,\"#d8576b\"],[0.6666666666666666,\"#ed7953\"],[0.7777777777777778,\"#fb9f3a\"],[0.8888888888888888,\"#fdca26\"],[1.0,\"#f0f921\"]],\"type\":\"surface\"}],\"table\":[{\"cells\":{\"fill\":{\"color\":\"#EBF0F8\"},\"line\":{\"color\":\"white\"}},\"header\":{\"fill\":{\"color\":\"#C8D4E3\"},\"line\":{\"color\":\"white\"}},\"type\":\"table\"}]},\"layout\":{\"annotationdefaults\":{\"arrowcolor\":\"#2a3f5f\",\"arrowhead\":0,\"arrowwidth\":1},\"autotypenumbers\":\"strict\",\"coloraxis\":{\"colorbar\":{\"outlinewidth\":0,\"ticks\":\"\"}},\"colorscale\":{\"diverging\":[[0,\"#8e0152\"],[0.1,\"#c51b7d\"],[0.2,\"#de77ae\"],[0.3,\"#f1b6da\"],[0.4,\"#fde0ef\"],[0.5,\"#f7f7f7\"],[0.6,\"#e6f5d0\"],[0.7,\"#b8e186\"],[0.8,\"#7fbc41\"],[0.9,\"#4d9221\"],[1,\"#276419\"]],\"sequential\":[[0.0,\"#0d0887\"],[0.1111111111111111,\"#46039f\"],[0.2222222222222222,\"#7201a8\"],[0.3333333333333333,\"#9c179e\"],[0.4444444444444444,\"#bd3786\"],[0.5555555555555556,\"#d8576b\"],[0.6666666666666666,\"#ed7953\"],[0.7777777777777778,\"#fb9f3a\"],[0.8888888888888888,\"#fdca26\"],[1.0,\"#f0f921\"]],\"sequentialminus\":[[0.0,\"#0d0887\"],[0.1111111111111111,\"#46039f\"],[0.2222222222222222,\"#7201a8\"],[0.3333333333333333,\"#9c179e\"],[0.4444444444444444,\"#bd3786\"],[0.5555555555555556,\"#d8576b\"],[0.6666666666666666,\"#ed7953\"],[0.7777777777777778,\"#fb9f3a\"],[0.8888888888888888,\"#fdca26\"],[1.0,\"#f0f921\"]]},\"colorway\":[\"#636efa\",\"#EF553B\",\"#00cc96\",\"#ab63fa\",\"#FFA15A\",\"#19d3f3\",\"#FF6692\",\"#B6E880\",\"#FF97FF\",\"#FECB52\"],\"font\":{\"color\":\"#2a3f5f\"},\"geo\":{\"bgcolor\":\"white\",\"lakecolor\":\"white\",\"landcolor\":\"#E5ECF6\",\"showlakes\":true,\"showland\":true,\"subunitcolor\":\"white\"},\"hoverlabel\":{\"align\":\"left\"},\"hovermode\":\"closest\",\"mapbox\":{\"style\":\"light\"},\"paper_bgcolor\":\"white\",\"plot_bgcolor\":\"#E5ECF6\",\"polar\":{\"angularaxis\":{\"gridcolor\":\"white\",\"linecolor\":\"white\",\"ticks\":\"\"},\"bgcolor\":\"#E5ECF6\",\"radialaxis\":{\"gridcolor\":\"white\",\"linecolor\":\"white\",\"ticks\":\"\"}},\"scene\":{\"xaxis\":{\"backgroundcolor\":\"#E5ECF6\",\"gridcolor\":\"white\",\"gridwidth\":2,\"linecolor\":\"white\",\"showbackground\":true,\"ticks\":\"\",\"zerolinecolor\":\"white\"},\"yaxis\":{\"backgroundcolor\":\"#E5ECF6\",\"gridcolor\":\"white\",\"gridwidth\":2,\"linecolor\":\"white\",\"showbackground\":true,\"ticks\":\"\",\"zerolinecolor\":\"white\"},\"zaxis\":{\"backgroundcolor\":\"#E5ECF6\",\"gridcolor\":\"white\",\"gridwidth\":2,\"linecolor\":\"white\",\"showbackground\":true,\"ticks\":\"\",\"zerolinecolor\":\"white\"}},\"shapedefaults\":{\"line\":{\"color\":\"#2a3f5f\"}},\"ternary\":{\"aaxis\":{\"gridcolor\":\"white\",\"linecolor\":\"white\",\"ticks\":\"\"},\"baxis\":{\"gridcolor\":\"white\",\"linecolor\":\"white\",\"ticks\":\"\"},\"bgcolor\":\"#E5ECF6\",\"caxis\":{\"gridcolor\":\"white\",\"linecolor\":\"white\",\"ticks\":\"\"}},\"title\":{\"x\":0.05},\"xaxis\":{\"automargin\":true,\"gridcolor\":\"white\",\"linecolor\":\"white\",\"ticks\":\"\",\"title\":{\"standoff\":15},\"zerolinecolor\":\"white\",\"zerolinewidth\":2},\"yaxis\":{\"automargin\":true,\"gridcolor\":\"white\",\"linecolor\":\"white\",\"ticks\":\"\",\"title\":{\"standoff\":15},\"zerolinecolor\":\"white\",\"zerolinewidth\":2}}},\"title\":{\"text\":\"Median Age\"}},                        {\"responsive\": true}                    ).then(function(){\n",
       "                            \n",
       "var gd = document.getElementById('ab71a961-b16f-4e93-ab09-fe9d2e885403');\n",
       "var x = new MutationObserver(function (mutations, observer) {{\n",
       "        var display = window.getComputedStyle(gd).display;\n",
       "        if (!display || display === 'none') {{\n",
       "            console.log([gd, 'removed!']);\n",
       "            Plotly.purge(gd);\n",
       "            observer.disconnect();\n",
       "        }}\n",
       "}});\n",
       "\n",
       "// Listen for the removal of the full notebook cells\n",
       "var notebookContainer = gd.closest('#notebook-container');\n",
       "if (notebookContainer) {{\n",
       "    x.observe(notebookContainer, {childList: true});\n",
       "}}\n",
       "\n",
       "// Listen for the clearing of the current output cell\n",
       "var outputEl = gd.closest('.output');\n",
       "if (outputEl) {{\n",
       "    x.observe(outputEl, {childList: true});\n",
       "}}\n",
       "\n",
       "                        })                };                });            </script>        </div>"
      ]
     },
     "metadata": {},
     "output_type": "display_data"
    }
   ],
   "source": [
    "px.choropleth(data_frame=df,locations=df['Country name'],color=df['Median age'],locationmode='country names',title=\"Median Age\",color_continuous_scale=px.colors.sequential.Blues)"
   ]
  },
  {
   "cell_type": "code",
   "execution_count": null,
   "metadata": {},
   "outputs": [],
   "source": []
  },
  {
   "cell_type": "code",
   "execution_count": null,
   "metadata": {},
   "outputs": [],
   "source": []
  }
 ],
 "metadata": {
  "kernelspec": {
   "display_name": "Python 3",
   "language": "python",
   "name": "python3"
  },
  "language_info": {
   "codemirror_mode": {
    "name": "ipython",
    "version": 3
   },
   "file_extension": ".py",
   "mimetype": "text/x-python",
   "name": "python",
   "nbconvert_exporter": "python",
   "pygments_lexer": "ipython3",
   "version": "3.8.5"
  }
 },
 "nbformat": 4,
 "nbformat_minor": 4
}
